{
 "cells": [
  {
   "cell_type": "code",
   "execution_count": 426,
   "id": "08ee005c-7a4e-4db4-ba65-4af7ecf7696d",
   "metadata": {
    "collapsed": false
   },
   "outputs": [
    {
     "name": "stdout",
     "output_type": "stream",
     "text": [
      "The autoreload extension is already loaded. To reload it, use:\n",
      "  %reload_ext autoreload\n"
     ]
    }
   ],
   "source": [
    "%load_ext autoreload\n",
    "%autoreload 2"
   ]
  },
  {
   "cell_type": "code",
   "execution_count": 76,
   "id": "01d588e1-6c06-4667-922e-c6bd0b677687",
   "metadata": {
    "collapsed": false
   },
   "outputs": [],
   "source": [
    "if os.environ.get('OS','') == 'Windows_NT':\n",
    "    sys.path.append('c:/projects/python/mriprog/CardioMiner')\n",
    "else:\n",
    "    sys.path.append('~/projects/python/mriprog/CardioMiner')"
   ]
  },
  {
   "cell_type": "code",
   "execution_count": 77,
   "id": "36c4688b-9003-4728-a067-c3def807c416",
   "metadata": {
    "collapsed": false
   },
   "outputs": [],
   "source": [
    "import os, sys\n",
    "import pickle \n",
    "import matplotlib.pyplot as plt\n",
    "import numpy as np\n",
    "import model_training_and_eval as mte\n",
    "import orgim_scr as oi\n",
    "import pydicom"
   ]
  },
  {
   "cell_type": "code",
   "execution_count": 78,
   "id": "9e5917d9-1ffe-4295-ad26-f5b3fc43fce3",
   "metadata": {
    "collapsed": false
   },
   "outputs": [
    {
     "data": {
      "text/plain": [
       "'3.10.11 (tags/v3.10.11:7d4cc5a, Apr  5 2023, 00:38:17) [MSC v.1929 64 bit (AMD64)]'"
      ]
     },
     "execution_count": 78,
     "metadata": {},
     "output_type": "execute_result"
    }
   ],
   "source": [
    "sys.version"
   ]
  },
  {
   "cell_type": "markdown",
   "id": "bb354322-7b0c-471a-be8a-857e7729f638",
   "metadata": {
    "collapsed": false
   },
   "source": [
    "1 DATA SETS"
   ]
  },
  {
   "cell_type": "markdown",
   "id": "bf9b25e0-aa0b-4e5d-8399-f605715b1165",
   "metadata": {
    "collapsed": false
   },
   "source": [
    "Read DICOM tags"
   ]
  },
  {
   "cell_type": "code",
   "execution_count": 399,
   "id": "0d673e5f-766a-4933-8fe5-4b931f12f2ee",
   "metadata": {
    "collapsed": false
   },
   "outputs": [],
   "source": [
    "stud = 'PM'\n",
    "prm = oi.userGetOrg(stud)"
   ]
  },
  {
   "cell_type": "code",
   "execution_count": 400,
   "id": "925d8037-fd8e-442f-bfa5-e0ef5793d8c1",
   "metadata": {
    "collapsed": false
   },
   "outputs": [
    {
     "data": {
      "text/plain": [
       "dict_keys(['stud', 'usr', 'vrb', 'Pt', 'drecs', 'PDLink', 'gr', 'sv', 'Input', 'Tbl', 'Ptsgm', 'drecssgm', 'inf', 'Inf', 'filepath', 'filepathDel'])"
      ]
     },
     "execution_count": 400,
     "metadata": {},
     "output_type": "execute_result"
    }
   ],
   "source": [
    "prm.keys()"
   ]
  },
  {
   "cell_type": "code",
   "execution_count": 401,
   "id": "965148ed-18d9-4500-a857-924c3c1c3f92",
   "metadata": {
    "collapsed": false
   },
   "outputs": [
    {
     "data": {
      "text/plain": [
       "[34, 35, 36, 37, 38, 39, 40, 41, 42, 43, 44, 45, 46, 47, 48, 49, 50, 51]"
      ]
     },
     "execution_count": 401,
     "metadata": {},
     "output_type": "execute_result"
    }
   ],
   "source": [
    "p = 2\n",
    "def ptidx(prm,p):\n",
    "    idx = [i for i in range(len(prm['PDLink'])) if prm['Pt'][p] == prm['PDLink'][i]]\n",
    "    return idx\n",
    "oi.ptidx(prm,p)"
   ]
  },
  {
   "cell_type": "code",
   "execution_count": 433,
   "id": "d91f619f-6e1d-4e71-85aa-f447f5f686b6",
   "metadata": {
    "collapsed": false
   },
   "outputs": [
    {
     "name": "stdout",
     "output_type": "stream",
     "text": [
      "SamplesperPixel 1, Max pixel value 142\n"
     ]
    }
   ],
   "source": [
    "def maxval(prm, k):\n",
    "    if prm['stud'] == 'haglag2':\n",
    "        drecs = prm['drecs'][k]\n",
    "    else:\n",
    "        drecs = np.ndarray.tolist(prm['drecs'][k])\n",
    "    dcmf = os.path.join(prm['filepath'],drecs).replace('\\\\','/')\n",
    "    #print(dcmf)\n",
    "    ds = pydicom.dcmread(dcmf)\n",
    "    img = pydicom.read_file(dcmf)\n",
    "    imx = np.max(img.pixel_array)\n",
    "    #print(ds.BitsStored)\n",
    "    mv = 2**ds.BitsStored-1\n",
    "    ba = ds.BitsAllocated\n",
    "    bs = ds.BitsStored\n",
    "    hb = ds.HighBit\n",
    "    print(ds.SamplesPerPixel)\n",
    "    #print(2**ds.BitsStored-1)\n",
    "\n",
    "    return mv, ba, bs, hb, img\n",
    "mv, ba, bs, hb, imx, img = oi.maxval(prm,0,True)\n"
   ]
  },
  {
   "cell_type": "code",
   "execution_count": 414,
   "id": "3809e04b-3550-4a7a-9f66-6f246b8f4f1e",
   "metadata": {
    "collapsed": false
   },
   "outputs": [
    {
     "data": {
      "text/plain": [
       "<Sequence, length 1>"
      ]
     },
     "execution_count": 414,
     "metadata": {},
     "output_type": "execute_result"
    }
   ],
   "source": [
    "img[0x00880200]"
   ]
  },
  {
   "cell_type": "code",
   "execution_count": 421,
   "id": "510dcb44-d0a7-4ee2-a05b-8e2b53a5d7fa",
   "metadata": {
    "collapsed": false
   },
   "outputs": [
    {
     "data": {
      "text/plain": [
       "array([[0, 0, 0, ..., 0, 0, 0],\n",
       "       [0, 0, 0, ..., 0, 0, 0],\n",
       "       [0, 0, 0, ..., 0, 0, 0],\n",
       "       ...,\n",
       "       [0, 0, 0, ..., 0, 0, 0],\n",
       "       [0, 0, 0, ..., 0, 0, 0],\n",
       "       [0, 0, 0, ..., 0, 0, 0]], dtype=uint16)"
      ]
     },
     "execution_count": 421,
     "metadata": {},
     "output_type": "execute_result"
    }
   ],
   "source": [
    "img.pixel_array"
   ]
  },
  {
   "cell_type": "code",
   "execution_count": 517,
   "id": "82067256-88d1-41b9-99ae-131ebf6a4f05",
   "metadata": {
    "collapsed": false
   },
   "outputs": [
    {
     "name": "stdout",
     "output_type": "stream",
     "text": [
      "\n",
      "1:242 PM009\n"
     ]
    },
    {
     "name": "stdout",
     "output_type": "stream",
     "text": [
      "PM009 Size [512]x[512] Slice pixel value range 142-244\n",
      "\n",
      "2:242 PM010\n"
     ]
    },
    {
     "name": "stdout",
     "output_type": "stream",
     "text": [
      "PM010 Size [512]x[512] Slice pixel value range 147-267\n",
      "\n",
      "3:242 PM011\n"
     ]
    },
    {
     "name": "stdout",
     "output_type": "stream",
     "text": [
      "PM011 Size [512]x[512] Slice pixel value range 190-287\n",
      "\n",
      "4:242 PM013\n"
     ]
    },
    {
     "name": "stdout",
     "output_type": "stream",
     "text": [
      "PM013 Size [512]x[512] Slice pixel value range 145-274\n",
      "\n",
      "5:242 PM014\n"
     ]
    },
    {
     "name": "stdout",
     "output_type": "stream",
     "text": [
      "PM014 Size [512]x[512] Slice pixel value range 134-240\n",
      "\n",
      "6:242 PM016\n"
     ]
    },
    {
     "name": "stdout",
     "output_type": "stream",
     "text": [
      "PM016 Size [512]x[512] Slice pixel value range 181-254\n",
      "\n",
      "7:242 PM017\n"
     ]
    },
    {
     "name": "stdout",
     "output_type": "stream",
     "text": [
      "PM017 Size [512]x[512] Slice pixel value range 133-260\n",
      "\n",
      "8:242 PM018\n"
     ]
    },
    {
     "name": "stdout",
     "output_type": "stream",
     "text": [
      "PM018 Size [512]x[512] Slice pixel value range 186-399\n",
      "\n",
      "9:242 PM019\n"
     ]
    },
    {
     "name": "stdout",
     "output_type": "stream",
     "text": [
      "PM019 Size [512]x[512] Slice pixel value range 157-308\n",
      "\n",
      "10:242 PM020\n"
     ]
    },
    {
     "name": "stdout",
     "output_type": "stream",
     "text": [
      "PM020 Size [512]x[512] Slice pixel value range 147-252\n",
      "\n",
      "11:242 PM021\n"
     ]
    },
    {
     "name": "stdout",
     "output_type": "stream",
     "text": [
      "PM021 Size [512]x[512] Slice pixel value range 145-347\n",
      "\n",
      "12:242 PM023\n"
     ]
    },
    {
     "name": "stdout",
     "output_type": "stream",
     "text": [
      "PM023 Size [512]x[512] Slice pixel value range 143-239\n",
      "\n",
      "13:242 PM025\n"
     ]
    },
    {
     "name": "stdout",
     "output_type": "stream",
     "text": [
      "PM025 Size [512]x[512] Slice pixel value range 177-304\n",
      "\n",
      "14:242 PM028\n"
     ]
    },
    {
     "name": "stdout",
     "output_type": "stream",
     "text": [
      "PM028 Size [512]x[512] Slice pixel value range 162-295\n",
      "\n",
      "15:242 PM029\n"
     ]
    },
    {
     "name": "stdout",
     "output_type": "stream",
     "text": [
      "PM029 Size [512]x[512] Slice pixel value range 161-282\n",
      "\n",
      "16:242 PM035\n"
     ]
    },
    {
     "name": "stdout",
     "output_type": "stream",
     "text": [
      "PM035 Size [512]x[512] Slice pixel value range 258-575\n",
      "\n",
      "17:242 PM036\n"
     ]
    },
    {
     "name": "stdout",
     "output_type": "stream",
     "text": [
      "PM036 Size [512]x[512] Slice pixel value range 177-325\n",
      "\n",
      "18:242 PM037\n"
     ]
    },
    {
     "name": "stdout",
     "output_type": "stream",
     "text": [
      "PM037 Size [512]x[512] Slice pixel value range 162-341\n",
      "\n",
      "19:242 PM038\n"
     ]
    },
    {
     "name": "stdout",
     "output_type": "stream",
     "text": [
      "PM038 Size [512]x[512] Slice pixel value range 223-295\n",
      "\n",
      "20:242 PM039\n"
     ]
    },
    {
     "name": "stdout",
     "output_type": "stream",
     "text": [
      "PM039 Size [512]x[512] Slice pixel value range 167-675\n",
      "\n",
      "21:242 PM040\n"
     ]
    },
    {
     "name": "stdout",
     "output_type": "stream",
     "text": [
      "PM040 Size [512]x[512] Slice pixel value range 224-648\n",
      "\n",
      "22:242 PM045\n"
     ]
    },
    {
     "name": "stdout",
     "output_type": "stream",
     "text": [
      "PM045 Size [512]x[512] Slice pixel value range 161-238\n",
      "\n",
      "23:242 PM047\n"
     ]
    },
    {
     "name": "stdout",
     "output_type": "stream",
     "text": [
      "PM047 Size [512]x[512] Slice pixel value range 202-451\n",
      "\n",
      "24:242 PM048\n"
     ]
    },
    {
     "name": "stdout",
     "output_type": "stream",
     "text": [
      "PM048 Size [640]x[640] Slice pixel value range 211-424\n",
      "\n",
      "25:242 PM049\n"
     ]
    },
    {
     "name": "stdout",
     "output_type": "stream",
     "text": [
      "PM049 Size [512]x[512] Slice pixel value range 122-351\n",
      "\n",
      "26:242 PM053\n"
     ]
    },
    {
     "name": "stdout",
     "output_type": "stream",
     "text": [
      "PM053 Size [512]x[512] Slice pixel value range 209-233\n",
      "\n",
      "27:242 PM057\n"
     ]
    },
    {
     "name": "stdout",
     "output_type": "stream",
     "text": [
      "PM057 Size [512]x[512] Slice pixel value range 161-238\n",
      "\n",
      "28:242 PM058\n"
     ]
    },
    {
     "name": "stdout",
     "output_type": "stream",
     "text": [
      "PM058 Size [560]x[560] Slice pixel value range 295-363\n",
      "\n",
      "29:242 PM060\n"
     ]
    },
    {
     "name": "stdout",
     "output_type": "stream",
     "text": [
      "PM060 Size [512]x[512] Slice pixel value range 120-212\n",
      "\n",
      "30:242 PM061\n"
     ]
    },
    {
     "name": "stdout",
     "output_type": "stream",
     "text": [
      "PM061 Size [512 528]x[512 528] Slice pixel value range 208-295\n",
      "\n",
      "31:242 PM062\n"
     ]
    },
    {
     "name": "stdout",
     "output_type": "stream",
     "text": [
      "PM062 Size [512 528 560]x[512 528 560] Slice pixel value range 146-244\n",
      "\n",
      "32:242 PM064\n"
     ]
    },
    {
     "name": "stdout",
     "output_type": "stream",
     "text": [
      "PM064 Size [640]x[640] Slice pixel value range 337-959\n",
      "\n",
      "33:242 PM065\n"
     ]
    },
    {
     "name": "stdout",
     "output_type": "stream",
     "text": [
      "PM065 Size [512]x[512] Slice pixel value range 209-392\n",
      "\n",
      "34:242 PM067\n"
     ]
    },
    {
     "name": "stdout",
     "output_type": "stream",
     "text": [
      "PM067 Size [528]x[528] Slice pixel value range 175-264\n",
      "\n",
      "35:242 PM068\n"
     ]
    },
    {
     "name": "stdout",
     "output_type": "stream",
     "text": [
      "PM068 Size [512 560]x[512 560] Slice pixel value range 141-285\n",
      "\n",
      "36:242 PM069\n"
     ]
    },
    {
     "name": "stdout",
     "output_type": "stream",
     "text": [
      "PM069 Size [560]x[560] Slice pixel value range 215-281\n",
      "\n",
      "37:242 PM070\n"
     ]
    },
    {
     "name": "stdout",
     "output_type": "stream",
     "text": [
      "PM070 Size [512]x[512] Slice pixel value range 143-235\n",
      "\n",
      "38:242 PM071\n"
     ]
    },
    {
     "name": "stdout",
     "output_type": "stream",
     "text": [
      "PM071 Size [512]x[512] Slice pixel value range 113-295\n",
      "\n",
      "39:242 PM072\n"
     ]
    },
    {
     "name": "stdout",
     "output_type": "stream",
     "text": [
      "PM072 Size [512 560]x[512 560] Slice pixel value range 184-575\n",
      "\n",
      "40:242 PM074\n"
     ]
    },
    {
     "name": "stdout",
     "output_type": "stream",
     "text": [
      "PM074 Size [528]x[528] Slice pixel value range 158-369\n",
      "\n",
      "41:242 PM075\n"
     ]
    },
    {
     "name": "stdout",
     "output_type": "stream",
     "text": [
      "PM075 Size [528]x[528] Slice pixel value range 162-347\n",
      "\n",
      "42:242 PM076\n"
     ]
    },
    {
     "name": "stdout",
     "output_type": "stream",
     "text": [
      "PM076 Size [560]x[560] Slice pixel value range 165-379\n",
      "\n",
      "43:242 PM078\n"
     ]
    },
    {
     "name": "stdout",
     "output_type": "stream",
     "text": [
      "PM078 Size [512]x[512] Slice pixel value range 132-197\n",
      "\n",
      "44:242 PM079\n"
     ]
    },
    {
     "name": "stdout",
     "output_type": "stream",
     "text": [
      "PM079 Size [640]x[640] Slice pixel value range 321-504\n",
      "\n",
      "45:242 PM080\n"
     ]
    },
    {
     "name": "stdout",
     "output_type": "stream",
     "text": [
      "PM080 Size [512 560]x[512 560] Slice pixel value range 121-269\n",
      "\n",
      "46:242 PM081\n"
     ]
    },
    {
     "name": "stdout",
     "output_type": "stream",
     "text": [
      "PM081 Size [512]x[512] Slice pixel value range 267-548\n",
      "\n",
      "47:242 PM082\n"
     ]
    },
    {
     "name": "stdout",
     "output_type": "stream",
     "text": [
      "PM082 Size [512]x[512] Slice pixel value range 219-480\n",
      "\n",
      "48:242 PM084\n"
     ]
    },
    {
     "name": "stdout",
     "output_type": "stream",
     "text": [
      "PM084 Size [640]x[640] Slice pixel value range 146-245\n",
      "\n",
      "49:242 PM085\n"
     ]
    },
    {
     "name": "stdout",
     "output_type": "stream",
     "text": [
      "PM085 Size [576]x[576] Slice pixel value range 114-226\n",
      "\n",
      "50:242 PM087\n"
     ]
    },
    {
     "name": "stdout",
     "output_type": "stream",
     "text": [
      "PM087 Size [560]x[560] Slice pixel value range 202-282\n",
      "\n",
      "51:242 PM088\n"
     ]
    },
    {
     "name": "stdout",
     "output_type": "stream",
     "text": [
      "PM088 Size [512 528]x[512 528] Slice pixel value range 157-409\n",
      "\n",
      "52:242 PM090\n"
     ]
    },
    {
     "name": "stdout",
     "output_type": "stream",
     "text": [
      "PM090 Size [512]x[512] Slice pixel value range 121-501\n",
      "\n",
      "53:242 PM091\n"
     ]
    },
    {
     "name": "stdout",
     "output_type": "stream",
     "text": [
      "PM091 Size [512 528]x[512 528] Slice pixel value range 148-268\n",
      "\n",
      "54:242 PM092\n"
     ]
    },
    {
     "name": "stdout",
     "output_type": "stream",
     "text": [
      "PM092 Size [528]x[528] Slice pixel value range 167-220\n",
      "\n",
      "55:242 PM095\n"
     ]
    },
    {
     "name": "stdout",
     "output_type": "stream",
     "text": [
      "PM095 Size [640]x[640] Slice pixel value range 131-322\n",
      "\n",
      "56:242 PM096\n"
     ]
    },
    {
     "name": "stdout",
     "output_type": "stream",
     "text": [
      "PM096 Size [512]x[512] Slice pixel value range 163-268\n",
      "\n",
      "57:242 PM097\n"
     ]
    },
    {
     "name": "stdout",
     "output_type": "stream",
     "text": [
      "PM097 Size [512]x[512] Slice pixel value range 180-377\n",
      "\n",
      "58:242 PM098\n"
     ]
    },
    {
     "name": "stdout",
     "output_type": "stream",
     "text": [
      "PM098 Size [560]x[560] Slice pixel value range 156-347\n",
      "\n",
      "59:242 PM099\n"
     ]
    },
    {
     "name": "stdout",
     "output_type": "stream",
     "text": [
      "PM099 Size [512]x[512] Slice pixel value range 183-276\n",
      "\n",
      "60:242 PM100\n"
     ]
    },
    {
     "name": "stdout",
     "output_type": "stream",
     "text": [
      "PM100 Size [560]x[560] Slice pixel value range 183-261\n",
      "\n",
      "61:242 PM101\n"
     ]
    },
    {
     "name": "stdout",
     "output_type": "stream",
     "text": [
      "PM101 Size [576]x[576] Slice pixel value range 143-231\n",
      "\n",
      "62:242 PM103\n"
     ]
    },
    {
     "name": "stdout",
     "output_type": "stream",
     "text": [
      "PM103 Size [512 560]x[512 560] Slice pixel value range 196-302\n",
      "\n",
      "63:242 PM104\n"
     ]
    },
    {
     "name": "stdout",
     "output_type": "stream",
     "text": [
      "PM104 Size [512]x[512] Slice pixel value range 213-284\n",
      "\n",
      "64:242 PM105\n"
     ]
    },
    {
     "name": "stdout",
     "output_type": "stream",
     "text": [
      "PM105 Size [560]x[560] Slice pixel value range 81-246\n",
      "\n",
      "65:242 PM106\n"
     ]
    },
    {
     "name": "stdout",
     "output_type": "stream",
     "text": [
      "PM106 Size [512]x[512] Slice pixel value range 183-228\n",
      "\n",
      "66:242 PM107\n"
     ]
    },
    {
     "name": "stdout",
     "output_type": "stream",
     "text": [
      "PM107 Size [560]x[560] Slice pixel value range 239-311\n",
      "\n",
      "67:242 PM108\n"
     ]
    },
    {
     "name": "stdout",
     "output_type": "stream",
     "text": [
      "PM108 Size [512]x[512] Slice pixel value range 187-395\n",
      "\n",
      "68:242 PM109\n"
     ]
    },
    {
     "name": "stdout",
     "output_type": "stream",
     "text": [
      "PM109 Size [512 560]x[512 560] Slice pixel value range 164-230\n",
      "\n",
      "69:242 PM110\n"
     ]
    },
    {
     "name": "stdout",
     "output_type": "stream",
     "text": [
      "PM110 Size [512]x[512] Slice pixel value range 148-244\n",
      "\n",
      "70:242 PM111\n"
     ]
    },
    {
     "name": "stdout",
     "output_type": "stream",
     "text": [
      "PM111 Size [528]x[528] Slice pixel value range 138-197\n",
      "\n",
      "71:242 PM113\n"
     ]
    },
    {
     "name": "stdout",
     "output_type": "stream",
     "text": [
      "PM113 Size [528]x[528] Slice pixel value range 176-246\n",
      "\n",
      "72:242 PM114\n"
     ]
    },
    {
     "name": "stdout",
     "output_type": "stream",
     "text": [
      "PM114 Size [512]x[512] Slice pixel value range 156-273\n",
      "\n",
      "73:242 PM115\n"
     ]
    },
    {
     "name": "stdout",
     "output_type": "stream",
     "text": [
      "PM115 Size [512]x[512] Slice pixel value range 168-294\n",
      "\n",
      "74:242 PM117\n"
     ]
    },
    {
     "name": "stdout",
     "output_type": "stream",
     "text": [
      "PM117 Size [512]x[512] Slice pixel value range 187-274\n",
      "\n",
      "75:242 PM118\n"
     ]
    },
    {
     "name": "stdout",
     "output_type": "stream",
     "text": [
      "PM118 Size [528]x[528] Slice pixel value range 213-432\n",
      "\n",
      "76:242 PM119\n"
     ]
    },
    {
     "name": "stdout",
     "output_type": "stream",
     "text": [
      "PM119 Size [528 560]x[528 560] Slice pixel value range 177-265\n",
      "\n",
      "77:242 PM120\n"
     ]
    },
    {
     "name": "stdout",
     "output_type": "stream",
     "text": [
      "PM120 Size [576 640]x[576 640] Slice pixel value range 137-246\n",
      "\n",
      "78:242 PM121\n"
     ]
    },
    {
     "name": "stdout",
     "output_type": "stream",
     "text": [
      "PM121 Size [512 528]x[512 528] Slice pixel value range 185-273\n",
      "\n",
      "79:242 PM122\n"
     ]
    },
    {
     "name": "stdout",
     "output_type": "stream",
     "text": [
      "PM122 Size [528]x[528] Slice pixel value range 156-332\n",
      "\n",
      "80:242 PM123\n"
     ]
    },
    {
     "name": "stdout",
     "output_type": "stream",
     "text": [
      "PM123 Size [512]x[512] Slice pixel value range 121-262\n",
      "\n",
      "81:242 PM126\n"
     ]
    },
    {
     "name": "stdout",
     "output_type": "stream",
     "text": [
      "PM126 Size [336 512 560 576]x[336 512 560 576] Slice pixel value range 155-461\n",
      "\n",
      "82:242 PM127\n"
     ]
    },
    {
     "name": "stdout",
     "output_type": "stream",
     "text": [
      "PM127 Size [560]x[560] Slice pixel value range 139-209\n",
      "\n",
      "83:242 PM128\n"
     ]
    },
    {
     "name": "stdout",
     "output_type": "stream",
     "text": [
      "PM128 Size [560]x[560] Slice pixel value range 142-209\n",
      "\n",
      "84:242 PM129\n"
     ]
    },
    {
     "name": "stdout",
     "output_type": "stream",
     "text": [
      "PM129 Size [576]x[576] Slice pixel value range 146-253\n",
      "\n",
      "85:242 PM130\n"
     ]
    },
    {
     "name": "stdout",
     "output_type": "stream",
     "text": [
      "PM130 Size [512]x[512] Slice pixel value range 132-196\n",
      "\n",
      "86:242 PM131\n"
     ]
    },
    {
     "name": "stdout",
     "output_type": "stream",
     "text": [
      "PM131 Size [528]x[528] Slice pixel value range 117-213\n",
      "\n",
      "87:242 PM132\n"
     ]
    },
    {
     "name": "stdout",
     "output_type": "stream",
     "text": [
      "PM132 Size [512]x[512] Slice pixel value range 81-157\n",
      "\n",
      "88:242 PM133\n"
     ]
    },
    {
     "name": "stdout",
     "output_type": "stream",
     "text": [
      "PM133 Size [512 560]x[512 560] Slice pixel value range 214-359\n",
      "\n",
      "89:242 PM135\n"
     ]
    },
    {
     "name": "stdout",
     "output_type": "stream",
     "text": [
      "PM135 Size [560]x[560] Slice pixel value range 167-360\n",
      "\n",
      "90:242 PM136\n"
     ]
    },
    {
     "name": "stdout",
     "output_type": "stream",
     "text": [
      "PM136 Size [560]x[560] Slice pixel value range 180-296\n",
      "\n",
      "91:242 PM138\n"
     ]
    },
    {
     "name": "stdout",
     "output_type": "stream",
     "text": [
      "PM138 Size [512]x[512] Slice pixel value range 160-279\n",
      "\n",
      "92:242 PM139\n"
     ]
    },
    {
     "name": "stdout",
     "output_type": "stream",
     "text": [
      "PM139 Size [512]x[512] Slice pixel value range 161-321\n",
      "\n",
      "93:242 PM146\n"
     ]
    },
    {
     "name": "stdout",
     "output_type": "stream",
     "text": [
      "PM146 Size [528]x[528] Slice pixel value range 170-225\n",
      "\n",
      "94:242 PM148\n"
     ]
    },
    {
     "name": "stdout",
     "output_type": "stream",
     "text": [
      "PM148 Size [512]x[512] Slice pixel value range 175-495\n",
      "\n",
      "95:242 PM149\n"
     ]
    },
    {
     "name": "stdout",
     "output_type": "stream",
     "text": [
      "PM149 Size [560]x[560] Slice pixel value range 77-310\n",
      "\n",
      "96:242 PM150\n"
     ]
    },
    {
     "name": "stdout",
     "output_type": "stream",
     "text": [
      "PM150 Size [512]x[512] Slice pixel value range 123-249\n",
      "\n",
      "97:242 PM152\n"
     ]
    },
    {
     "name": "stdout",
     "output_type": "stream",
     "text": [
      "PM152 Size [512]x[512] Slice pixel value range 123-225\n",
      "\n",
      "98:242 PM153\n"
     ]
    },
    {
     "name": "stdout",
     "output_type": "stream",
     "text": [
      "PM153 Size [528]x[528] Slice pixel value range 140-219\n",
      "\n",
      "99:242 PM154\n"
     ]
    },
    {
     "name": "stdout",
     "output_type": "stream",
     "text": [
      "PM154 Size [512 576]x[512 576] Slice pixel value range 111-253\n",
      "\n",
      "100:242 PM155\n"
     ]
    },
    {
     "name": "stdout",
     "output_type": "stream",
     "text": [
      "PM155 Size [512]x[512] Slice pixel value range 113-254\n",
      "\n",
      "101:242 PM157\n"
     ]
    },
    {
     "name": "stdout",
     "output_type": "stream",
     "text": [
      "PM157 Size [560]x[560] Slice pixel value range 160-318\n",
      "\n",
      "102:242 PM158\n"
     ]
    },
    {
     "name": "stdout",
     "output_type": "stream",
     "text": [
      "PM158 Size [640]x[640] Slice pixel value range 272-2067\n",
      "\n",
      "103:242 PM159\n"
     ]
    },
    {
     "name": "stdout",
     "output_type": "stream",
     "text": [
      "PM159 Size [512]x[512] Slice pixel value range 122-155\n",
      "\n",
      "104:242 PM160\n"
     ]
    },
    {
     "name": "stdout",
     "output_type": "stream",
     "text": [
      "PM160 Size [512]x[512] Slice pixel value range 196-543\n",
      "\n",
      "105:242 PM162\n"
     ]
    },
    {
     "name": "stdout",
     "output_type": "stream",
     "text": [
      "PM162 Size [512 560]x[512 560] Slice pixel value range 233-348\n",
      "\n",
      "106:242 PM164\n"
     ]
    },
    {
     "name": "stdout",
     "output_type": "stream",
     "text": [
      "PM164 Size [512 528]x[512 528] Slice pixel value range 111-285\n",
      "\n",
      "107:242 PM165\n"
     ]
    },
    {
     "name": "stdout",
     "output_type": "stream",
     "text": [
      "PM165 Size [512 560]x[512 560] Slice pixel value range 157-401\n",
      "\n",
      "108:242 PM168\n"
     ]
    },
    {
     "name": "stdout",
     "output_type": "stream",
     "text": [
      "PM168 Size [512]x[512] Slice pixel value range 194-243\n",
      "\n",
      "109:242 PM169\n"
     ]
    },
    {
     "name": "stdout",
     "output_type": "stream",
     "text": [
      "PM169 Size [512 560]x[512 560] Slice pixel value range 202-276\n",
      "\n",
      "110:242 PM171\n"
     ]
    },
    {
     "name": "stdout",
     "output_type": "stream",
     "text": [
      "PM171 Size [560]x[560] Slice pixel value range 150-243\n",
      "\n",
      "111:242 PM173\n"
     ]
    },
    {
     "name": "stdout",
     "output_type": "stream",
     "text": [
      "PM173 Size [560 576 640]x[560 576 640] Slice pixel value range 211-405\n",
      "\n",
      "112:242 PM175\n"
     ]
    },
    {
     "name": "stdout",
     "output_type": "stream",
     "text": [
      "PM175 Size [512]x[512] Slice pixel value range 172-270\n",
      "\n",
      "113:242 PM176\n"
     ]
    },
    {
     "name": "stdout",
     "output_type": "stream",
     "text": [
      "PM176 Size [560]x[560] Slice pixel value range 188-341\n",
      "\n",
      "114:242 PM178\n"
     ]
    },
    {
     "name": "stdout",
     "output_type": "stream",
     "text": [
      "PM178 Size [512]x[512] Slice pixel value range 200-321\n",
      "\n",
      "115:242 PM180\n"
     ]
    },
    {
     "name": "stdout",
     "output_type": "stream",
     "text": [
      "PM180 Size [560 576 640]x[560 576 640] Slice pixel value range 203-453\n",
      "\n",
      "116:242 PM181\n"
     ]
    },
    {
     "name": "stdout",
     "output_type": "stream",
     "text": [
      "PM181 Size [512]x[512] Slice pixel value range 165-271\n",
      "\n",
      "117:242 PM182\n"
     ]
    },
    {
     "name": "stdout",
     "output_type": "stream",
     "text": [
      "PM182 Size [512 560 576 640]x[512 560 576 640] Slice pixel value range 279-512\n",
      "\n",
      "118:242 PM187\n"
     ]
    },
    {
     "name": "stdout",
     "output_type": "stream",
     "text": [
      "PM187 Size [512 528]x[512 528] Slice pixel value range 190-331\n",
      "\n",
      "119:242 PM188\n"
     ]
    },
    {
     "name": "stdout",
     "output_type": "stream",
     "text": [
      "PM188 Size [512 560]x[512 560] Slice pixel value range 122-481\n",
      "\n",
      "120:242 PM189\n"
     ]
    },
    {
     "name": "stdout",
     "output_type": "stream",
     "text": [
      "PM189 Size [576]x[576] Slice pixel value range 179-248\n",
      "\n",
      "121:242 PM191\n"
     ]
    },
    {
     "name": "stdout",
     "output_type": "stream",
     "text": [
      "PM191 Size [512]x[512] Slice pixel value range 172-229\n",
      "\n",
      "122:242 PM192\n"
     ]
    },
    {
     "name": "stdout",
     "output_type": "stream",
     "text": [
      "PM192 Size [512]x[512] Slice pixel value range 234-369\n",
      "\n",
      "123:242 PM193\n"
     ]
    },
    {
     "name": "stdout",
     "output_type": "stream",
     "text": [
      "PM193 Size [512]x[512] Slice pixel value range 172-264\n",
      "\n",
      "124:242 PM194\n"
     ]
    },
    {
     "name": "stdout",
     "output_type": "stream",
     "text": [
      "PM194 Size [576]x[576] Slice pixel value range 190-310\n",
      "\n",
      "125:242 PM197\n"
     ]
    },
    {
     "name": "stdout",
     "output_type": "stream",
     "text": [
      "PM197 Size [512 560]x[512 560] Slice pixel value range 214-420\n",
      "\n",
      "126:242 PM198\n"
     ]
    },
    {
     "name": "stdout",
     "output_type": "stream",
     "text": [
      "PM198 Size [512 528 560 576]x[512 528 560 576] Slice pixel value range 205-505\n",
      "\n",
      "127:242 PM199\n"
     ]
    },
    {
     "name": "stdout",
     "output_type": "stream",
     "text": [
      "PM199 Size [512 560]x[512 560] Slice pixel value range 162-295\n",
      "\n",
      "128:242 PM200\n"
     ]
    },
    {
     "name": "stdout",
     "output_type": "stream",
     "text": [
      "PM200 Size [528]x[528] Slice pixel value range 254-391\n",
      "\n",
      "129:242 PM202\n"
     ]
    },
    {
     "name": "stdout",
     "output_type": "stream",
     "text": [
      "PM202 Size [512 560]x[512 560] Slice pixel value range 200-321\n",
      "\n",
      "130:242 PM204\n"
     ]
    },
    {
     "name": "stdout",
     "output_type": "stream",
     "text": [
      "PM204 Size [560]x[560] Slice pixel value range 276-348\n",
      "\n",
      "131:242 PM205\n"
     ]
    },
    {
     "name": "stdout",
     "output_type": "stream",
     "text": [
      "PM205 Size [512 528]x[512 528] Slice pixel value range 223-412\n",
      "\n",
      "132:242 PM207\n"
     ]
    },
    {
     "name": "stdout",
     "output_type": "stream",
     "text": [
      "PM207 Size [528]x[528] Slice pixel value range 258-761\n",
      "\n",
      "133:242 PM209\n"
     ]
    },
    {
     "name": "stdout",
     "output_type": "stream",
     "text": [
      "PM209 Size [512 528]x[512 528] Slice pixel value range 207-269\n",
      "\n",
      "134:242 PM213\n"
     ]
    },
    {
     "name": "stdout",
     "output_type": "stream",
     "text": [
      "PM213 Size [512 528]x[512 528] Slice pixel value range 201-276\n",
      "\n",
      "135:242 PM214\n"
     ]
    },
    {
     "name": "stdout",
     "output_type": "stream",
     "text": [
      "PM214 Size [512 528]x[512 528] Slice pixel value range 115-387\n",
      "\n",
      "136:242 PM216\n"
     ]
    },
    {
     "name": "stdout",
     "output_type": "stream",
     "text": [
      "PM216 Size [528 560 576]x[528 560 576] Slice pixel value range 268-344\n",
      "\n",
      "137:242 PM217\n"
     ]
    },
    {
     "name": "stdout",
     "output_type": "stream",
     "text": [
      "PM217 Size [640]x[640] Slice pixel value range 132-275\n",
      "\n",
      "138:242 PM218\n"
     ]
    },
    {
     "name": "stdout",
     "output_type": "stream",
     "text": [
      "PM218 Size [512 528]x[512 528] Slice pixel value range 233-512\n",
      "\n",
      "139:242 PM219\n"
     ]
    },
    {
     "name": "stdout",
     "output_type": "stream",
     "text": [
      "PM219 Size [512]x[512] Slice pixel value range 160-257\n",
      "\n",
      "140:242 PM220\n"
     ]
    },
    {
     "name": "stdout",
     "output_type": "stream",
     "text": [
      "PM220 Size [512 528]x[512 528] Slice pixel value range 133-323\n",
      "\n",
      "141:242 PM222\n"
     ]
    },
    {
     "name": "stdout",
     "output_type": "stream",
     "text": [
      "PM222 Size [512 528]x[512 528] Slice pixel value range 150-370\n",
      "\n",
      "142:242 PM224\n"
     ]
    },
    {
     "name": "stdout",
     "output_type": "stream",
     "text": [
      "PM224 Size [512 528 560]x[512 528 560] Slice pixel value range 174-313\n",
      "\n",
      "143:242 PM225\n"
     ]
    },
    {
     "name": "stdout",
     "output_type": "stream",
     "text": [
      "PM225 Size [512 528]x[512 528] Slice pixel value range 179-311\n",
      "\n",
      "144:242 PM227\n"
     ]
    },
    {
     "name": "stdout",
     "output_type": "stream",
     "text": [
      "PM227 Size [512 560]x[512 560] Slice pixel value range 162-284\n",
      "\n",
      "145:242 PM228\n"
     ]
    },
    {
     "name": "stdout",
     "output_type": "stream",
     "text": [
      "PM228 Size [512 560]x[512 560] Slice pixel value range 216-317\n",
      "\n",
      "146:242 PM229\n"
     ]
    },
    {
     "name": "stdout",
     "output_type": "stream",
     "text": [
      "PM229 Size [512 528 560]x[512 528 560] Slice pixel value range 153-270\n",
      "\n",
      "147:242 PM230\n"
     ]
    },
    {
     "name": "stdout",
     "output_type": "stream",
     "text": [
      "PM230 Size [528 560]x[528 560] Slice pixel value range 291-584\n",
      "\n",
      "148:242 PM232\n"
     ]
    },
    {
     "name": "stdout",
     "output_type": "stream",
     "text": [
      "PM232 Size [512 528]x[512 528] Slice pixel value range 183-374\n",
      "\n",
      "149:242 PM233\n"
     ]
    },
    {
     "name": "stdout",
     "output_type": "stream",
     "text": [
      "PM233 Size [512 528 576]x[512 528 576] Slice pixel value range 223-509\n",
      "\n",
      "150:242 PM234\n"
     ]
    },
    {
     "name": "stdout",
     "output_type": "stream",
     "text": [
      "PM234 Size [512 528]x[512 528] Slice pixel value range 193-261\n",
      "\n",
      "151:242 PM235\n"
     ]
    },
    {
     "name": "stdout",
     "output_type": "stream",
     "text": [
      "PM235 Size [512 528]x[512 528] Slice pixel value range 157-337\n",
      "\n",
      "152:242 PM238\n"
     ]
    },
    {
     "name": "stdout",
     "output_type": "stream",
     "text": [
      "PM238 Size [512 560]x[512 560] Slice pixel value range 222-548\n",
      "\n",
      "153:242 PM239\n"
     ]
    },
    {
     "name": "stdout",
     "output_type": "stream",
     "text": [
      "PM239 Size [512 560]x[512 560] Slice pixel value range 212-440\n",
      "\n",
      "154:242 PM240\n"
     ]
    },
    {
     "name": "stdout",
     "output_type": "stream",
     "text": [
      "PM240 Size [512 528]x[512 528] Slice pixel value range 263-510\n",
      "\n",
      "155:242 PM241\n"
     ]
    },
    {
     "name": "stdout",
     "output_type": "stream",
     "text": [
      "PM241 Size [512 528]x[512 528] Slice pixel value range 375-588\n",
      "\n",
      "156:242 PM242\n"
     ]
    },
    {
     "name": "stdout",
     "output_type": "stream",
     "text": [
      "PM242 Size [512 528 560]x[512 528 560] Slice pixel value range 244-342\n",
      "\n",
      "157:242 PM243\n"
     ]
    },
    {
     "name": "stdout",
     "output_type": "stream",
     "text": [
      "PM243 Size [512 528]x[512 528] Slice pixel value range 230-496\n",
      "\n",
      "158:242 PM245\n"
     ]
    },
    {
     "name": "stdout",
     "output_type": "stream",
     "text": [
      "PM245 Size [512 528]x[512 528] Slice pixel value range 172-299\n",
      "\n",
      "159:242 PM246\n"
     ]
    },
    {
     "name": "stdout",
     "output_type": "stream",
     "text": [
      "PM246 Size [512 528]x[512 528] Slice pixel value range 212-376\n",
      "\n",
      "160:242 PM247\n"
     ]
    },
    {
     "name": "stdout",
     "output_type": "stream",
     "text": [
      "PM247 Size [528]x[528] Slice pixel value range 282-757\n",
      "\n",
      "161:242 PM249\n"
     ]
    },
    {
     "name": "stdout",
     "output_type": "stream",
     "text": [
      "PM249 Size [512 528]x[512 528] Slice pixel value range 245-341\n",
      "\n",
      "162:242 PM251\n"
     ]
    },
    {
     "name": "stdout",
     "output_type": "stream",
     "text": [
      "PM251 Size [512 528]x[512 528] Slice pixel value range 198-309\n",
      "\n",
      "163:242 PM252\n"
     ]
    },
    {
     "name": "stdout",
     "output_type": "stream",
     "text": [
      "PM252 Size [512]x[512] Slice pixel value range 204-566\n",
      "\n",
      "164:242 PM255\n"
     ]
    },
    {
     "name": "stdout",
     "output_type": "stream",
     "text": [
      "PM255 Size [384 432 448 512]x[384 432 448 512] Slice pixel value range 110-240\n",
      "\n",
      "165:242 PM256\n"
     ]
    },
    {
     "name": "stdout",
     "output_type": "stream",
     "text": [
      "PM256 Size [432 528 560]x[432 528 560] Slice pixel value range 137-419\n",
      "\n",
      "166:242 PM259\n"
     ]
    },
    {
     "name": "stdout",
     "output_type": "stream",
     "text": [
      "PM259 Size [384 448]x[384 448] Slice pixel value range 286-740\n",
      "\n",
      "167:242 PM260\n"
     ]
    },
    {
     "name": "stdout",
     "output_type": "stream",
     "text": [
      "PM260 Size [512 528 560]x[512 528 560] Slice pixel value range 169-305\n",
      "\n",
      "168:242 PM261\n"
     ]
    },
    {
     "name": "stdout",
     "output_type": "stream",
     "text": [
      "PM261 Size [576]x[576] Slice pixel value range 224-338\n",
      "\n",
      "169:242 PM263\n"
     ]
    },
    {
     "name": "stdout",
     "output_type": "stream",
     "text": [
      "PM263 Size [448 480]x[448 480] Slice pixel value range 107-548\n",
      "\n",
      "170:242 PM264\n"
     ]
    },
    {
     "name": "stdout",
     "output_type": "stream",
     "text": [
      "PM264 Size [384 448]x[384 448] Slice pixel value range 174-280\n",
      "\n",
      "171:242 PM265\n"
     ]
    },
    {
     "name": "stdout",
     "output_type": "stream",
     "text": [
      "PM265 Size [384 448 560]x[384 448 560] Slice pixel value range 132-506\n",
      "\n",
      "172:242 PM267\n"
     ]
    },
    {
     "name": "stdout",
     "output_type": "stream",
     "text": [
      "PM267 Size [432 448 640]x[432 448 640] Slice pixel value range 96-298\n",
      "\n",
      "173:242 PM268\n"
     ]
    },
    {
     "name": "stdout",
     "output_type": "stream",
     "text": [
      "PM268 Size [384 448]x[384 448] Slice pixel value range 142-411\n",
      "\n",
      "174:242 PM269\n"
     ]
    },
    {
     "name": "stdout",
     "output_type": "stream",
     "text": [
      "PM269 Size [384 448]x[384 448] Slice pixel value range 186-291\n",
      "\n",
      "175:242 PM270\n"
     ]
    },
    {
     "name": "stdout",
     "output_type": "stream",
     "text": [
      "PM270 Size [384 448]x[384 448] Slice pixel value range 163-469\n",
      "\n",
      "176:242 PM271\n"
     ]
    },
    {
     "name": "stdout",
     "output_type": "stream",
     "text": [
      "PM271 Size [384 448]x[384 448] Slice pixel value range 220-573\n",
      "\n",
      "177:242 PM272\n"
     ]
    },
    {
     "name": "stdout",
     "output_type": "stream",
     "text": [
      "PM272 Size [512 528 560]x[512 528 560] Slice pixel value range 172-266\n",
      "\n",
      "178:242 PM273\n"
     ]
    },
    {
     "name": "stdout",
     "output_type": "stream",
     "text": [
      "PM273 Size [512 528]x[512 528] Slice pixel value range 194-413\n",
      "\n",
      "179:242 PM274\n"
     ]
    },
    {
     "name": "stdout",
     "output_type": "stream",
     "text": [
      "PM274 Size [512]x[512] Slice pixel value range 218-312\n",
      "\n",
      "180:242 PM276\n"
     ]
    },
    {
     "name": "stdout",
     "output_type": "stream",
     "text": [
      "PM276 Size [512 560]x[512 560] Slice pixel value range 172-395\n",
      "\n",
      "181:242 PM277\n"
     ]
    },
    {
     "name": "stdout",
     "output_type": "stream",
     "text": [
      "PM277 Size [512 528 560]x[512 528 560] Slice pixel value range 177-819\n",
      "\n",
      "182:242 PM278\n"
     ]
    },
    {
     "name": "stdout",
     "output_type": "stream",
     "text": [
      "PM278 Size [432 448]x[432 448] Slice pixel value range 123-247\n",
      "\n",
      "183:242 PM279\n"
     ]
    },
    {
     "name": "stdout",
     "output_type": "stream",
     "text": [
      "PM279 Size [384 448 480]x[384 448 480] Slice pixel value range 171-355\n",
      "\n",
      "184:242 PM280\n"
     ]
    },
    {
     "name": "stdout",
     "output_type": "stream",
     "text": [
      "PM280 Size [512 528]x[512 528] Slice pixel value range 146-306\n",
      "\n",
      "185:242 PM281\n"
     ]
    },
    {
     "name": "stdout",
     "output_type": "stream",
     "text": [
      "PM281 Size [512]x[512] Slice pixel value range 165-410\n",
      "\n",
      "186:242 PM282\n"
     ]
    },
    {
     "name": "stdout",
     "output_type": "stream",
     "text": [
      "PM282 Size [384 448]x[384 448] Slice pixel value range 218-451\n",
      "\n",
      "187:242 PM283\n"
     ]
    },
    {
     "name": "stdout",
     "output_type": "stream",
     "text": [
      "PM283 Size [384 448]x[384 448] Slice pixel value range 244-371\n",
      "\n",
      "188:242 PM284\n"
     ]
    },
    {
     "name": "stdout",
     "output_type": "stream",
     "text": [
      "PM284 Size [384 448]x[384 448] Slice pixel value range 191-348\n",
      "\n",
      "189:242 PM286\n"
     ]
    },
    {
     "name": "stdout",
     "output_type": "stream",
     "text": [
      "PM286 Size [512 528]x[512 528] Slice pixel value range 165-341\n",
      "\n",
      "190:242 PM287\n"
     ]
    },
    {
     "name": "stdout",
     "output_type": "stream",
     "text": [
      "PM287 Size [512 528]x[512 528] Slice pixel value range 175-274\n",
      "\n",
      "191:242 PM288\n"
     ]
    },
    {
     "name": "stdout",
     "output_type": "stream",
     "text": [
      "PM288 Size [384 448 480]x[384 448 480] Slice pixel value range 157-363\n",
      "\n",
      "192:242 PM289\n"
     ]
    },
    {
     "name": "stdout",
     "output_type": "stream",
     "text": [
      "PM289 Size [384 448]x[384 448] Slice pixel value range 104-331\n",
      "\n",
      "193:242 PM291\n",
      "Not printable\n",
      "\n",
      "194:242 PM292\n"
     ]
    },
    {
     "name": "stdout",
     "output_type": "stream",
     "text": [
      "PM292 Size [512 528]x[512 528] Slice pixel value range 166-358\n",
      "\n",
      "195:242 PM293\n"
     ]
    },
    {
     "name": "stdout",
     "output_type": "stream",
     "text": [
      "PM293 Size [384 400 448]x[384 400 448] Slice pixel value range 158-233\n",
      "\n",
      "196:242 PM294\n"
     ]
    },
    {
     "name": "stdout",
     "output_type": "stream",
     "text": [
      "PM294 Size [384 448]x[384 448] Slice pixel value range 131-263\n",
      "\n",
      "197:242 PM295\n"
     ]
    },
    {
     "name": "stdout",
     "output_type": "stream",
     "text": [
      "PM295 Size [512 528]x[512 528] Slice pixel value range 162-355\n",
      "\n",
      "198:242 PM296\n"
     ]
    },
    {
     "name": "stdout",
     "output_type": "stream",
     "text": [
      "PM296 Size [384 448]x[384 448] Slice pixel value range 118-257\n",
      "\n",
      "199:242 PM297\n"
     ]
    },
    {
     "name": "stdout",
     "output_type": "stream",
     "text": [
      "PM297 Size [512 528]x[512 528] Slice pixel value range 218-448\n",
      "\n",
      "200:242 PM298\n"
     ]
    },
    {
     "name": "stdout",
     "output_type": "stream",
     "text": [
      "PM298 Size [512]x[512] Slice pixel value range 255-430\n",
      "\n",
      "201:242 PM299\n"
     ]
    },
    {
     "name": "stdout",
     "output_type": "stream",
     "text": [
      "PM299 Size [512 528]x[512 528] Slice pixel value range 180-288\n",
      "\n",
      "202:242 PM301\n"
     ]
    },
    {
     "name": "stdout",
     "output_type": "stream",
     "text": [
      "PM301 Size [384 448]x[384 448] Slice pixel value range 196-347\n",
      "\n",
      "203:242 PM302\n"
     ]
    },
    {
     "name": "stdout",
     "output_type": "stream",
     "text": [
      "PM302 Size [384 448]x[384 448] Slice pixel value range 128-323\n",
      "\n",
      "204:242 PM303\n"
     ]
    },
    {
     "name": "stdout",
     "output_type": "stream",
     "text": [
      "PM303 Size [512 528]x[512 528] Slice pixel value range 123-217\n",
      "\n",
      "205:242 PM304\n"
     ]
    },
    {
     "name": "stdout",
     "output_type": "stream",
     "text": [
      "PM304 Size [448]x[448] Slice pixel value range 179-375\n",
      "\n",
      "206:242 PM305\n"
     ]
    },
    {
     "name": "stdout",
     "output_type": "stream",
     "text": [
      "PM305 Size [288 384 448]x[288 384 448] Slice pixel value range 138-743\n",
      "\n",
      "207:242 PM306\n"
     ]
    },
    {
     "name": "stdout",
     "output_type": "stream",
     "text": [
      "PM306 Size [448]x[448] Slice pixel value range 126-187\n",
      "\n",
      "208:242 PM307\n"
     ]
    },
    {
     "name": "stdout",
     "output_type": "stream",
     "text": [
      "PM307 Size [432 448]x[432 448] Slice pixel value range 116-430\n",
      "\n",
      "209:242 PM308\n"
     ]
    },
    {
     "name": "stdout",
     "output_type": "stream",
     "text": [
      "PM308 Size [512 528]x[512 528] Slice pixel value range 290-442\n",
      "\n",
      "210:242 PM310\n"
     ]
    },
    {
     "name": "stdout",
     "output_type": "stream",
     "text": [
      "PM310 Size [400 480 512]x[400 480 512] Slice pixel value range 140-281\n",
      "\n",
      "211:242 PM311\n"
     ]
    },
    {
     "name": "stdout",
     "output_type": "stream",
     "text": [
      "PM311 Size [384 448]x[384 448] Slice pixel value range 127-459\n",
      "\n",
      "212:242 PM312\n"
     ]
    },
    {
     "name": "stdout",
     "output_type": "stream",
     "text": [
      "PM312 Size [512 528]x[512 528] Slice pixel value range 269-470\n",
      "\n",
      "213:242 PM313\n"
     ]
    },
    {
     "name": "stdout",
     "output_type": "stream",
     "text": [
      "PM313 Size [512 528]x[512 528] Slice pixel value range 205-322\n",
      "\n",
      "214:242 PM314\n"
     ]
    },
    {
     "name": "stdout",
     "output_type": "stream",
     "text": [
      "PM314 Size [448]x[448] Slice pixel value range 169-342\n",
      "\n",
      "215:242 PM315\n"
     ]
    },
    {
     "name": "stdout",
     "output_type": "stream",
     "text": [
      "PM315 Size [432 448 512]x[432 448 512] Slice pixel value range 92-622\n",
      "\n",
      "216:242 PM316\n"
     ]
    },
    {
     "name": "stdout",
     "output_type": "stream",
     "text": [
      "PM316 Size [512]x[512] Slice pixel value range 202-451\n",
      "\n",
      "217:242 PM317\n"
     ]
    },
    {
     "name": "stdout",
     "output_type": "stream",
     "text": [
      "PM317 Size [512 528]x[512 528] Slice pixel value range 280-523\n",
      "\n",
      "218:242 PM319\n"
     ]
    },
    {
     "name": "stdout",
     "output_type": "stream",
     "text": [
      "PM319 Size [384 448]x[384 448] Slice pixel value range 268-391\n",
      "\n",
      "219:242 PM320\n"
     ]
    },
    {
     "name": "stdout",
     "output_type": "stream",
     "text": [
      "PM320 Size [512 528]x[512 528] Slice pixel value range 226-374\n",
      "\n",
      "220:242 PM321\n"
     ]
    },
    {
     "name": "stdout",
     "output_type": "stream",
     "text": [
      "PM321 Size [384 448]x[384 448] Slice pixel value range 143-207\n",
      "\n",
      "221:242 PM322\n"
     ]
    },
    {
     "name": "stdout",
     "output_type": "stream",
     "text": [
      "PM322 Size [448 576]x[448 576] Slice pixel value range 131-383\n",
      "\n",
      "222:242 PM324\n"
     ]
    },
    {
     "name": "stdout",
     "output_type": "stream",
     "text": [
      "PM324 Size [512 528 560]x[512 528 560] Slice pixel value range 372-644\n",
      "\n",
      "223:242 PM325\n"
     ]
    },
    {
     "name": "stdout",
     "output_type": "stream",
     "text": [
      "PM325 Size [384 448]x[384 448] Slice pixel value range 155-454\n",
      "\n",
      "224:242 PM326\n"
     ]
    },
    {
     "name": "stdout",
     "output_type": "stream",
     "text": [
      "PM326 Size [384 448]x[384 448] Slice pixel value range 639-1058\n",
      "\n",
      "225:242 PM327\n"
     ]
    },
    {
     "name": "stdout",
     "output_type": "stream",
     "text": [
      "PM327 Size [384 448]x[384 448] Slice pixel value range 609-866\n",
      "\n",
      "226:242 PM328\n"
     ]
    },
    {
     "name": "stdout",
     "output_type": "stream",
     "text": [
      "PM328 Size [512]x[512] Slice pixel value range 222-551\n",
      "\n",
      "227:242 PM330\n"
     ]
    },
    {
     "name": "stdout",
     "output_type": "stream",
     "text": [
      "PM330 Size [384 448]x[384 448] Slice pixel value range 191-360\n",
      "\n",
      "228:242 PM331\n"
     ]
    },
    {
     "name": "stdout",
     "output_type": "stream",
     "text": [
      "PM331 Size [384 448 480]x[384 448 480] Slice pixel value range 126-499\n",
      "\n",
      "229:242 PM332\n"
     ]
    },
    {
     "name": "stdout",
     "output_type": "stream",
     "text": [
      "PM332 Size [384 448 512]x[384 448 512] Slice pixel value range 597-891\n",
      "\n",
      "230:242 PM334\n"
     ]
    },
    {
     "name": "stdout",
     "output_type": "stream",
     "text": [
      "PM334 Size [384 448]x[384 448] Slice pixel value range 166-365\n",
      "\n",
      "231:242 PM336\n"
     ]
    },
    {
     "name": "stdout",
     "output_type": "stream",
     "text": [
      "PM336 Size [384 448]x[384 448] Slice pixel value range 110-243\n",
      "\n",
      "232:242 PM337\n"
     ]
    },
    {
     "name": "stdout",
     "output_type": "stream",
     "text": [
      "PM337 Size [528 560 640]x[528 560 640] Slice pixel value range 203-358\n",
      "\n",
      "233:242 PM338\n"
     ]
    },
    {
     "name": "stdout",
     "output_type": "stream",
     "text": [
      "PM338 Size [512 528]x[512 528] Slice pixel value range 209-395\n",
      "\n",
      "234:242 PM339\n"
     ]
    },
    {
     "name": "stdout",
     "output_type": "stream",
     "text": [
      "PM339 Size [384 448]x[384 448] Slice pixel value range 186-276\n",
      "\n",
      "235:242 PM340\n"
     ]
    },
    {
     "name": "stdout",
     "output_type": "stream",
     "text": [
      "PM340 Size [512]x[512] Slice pixel value range 311-916\n",
      "\n",
      "236:242 PM342\n"
     ]
    },
    {
     "name": "stdout",
     "output_type": "stream",
     "text": [
      "PM342 Size [384 448]x[384 448] Slice pixel value range 123-271\n",
      "\n",
      "237:242 PM343\n"
     ]
    },
    {
     "name": "stdout",
     "output_type": "stream",
     "text": [
      "PM343 Size [384 448]x[384 448] Slice pixel value range 128-399\n",
      "\n",
      "238:242 PM344\n"
     ]
    },
    {
     "name": "stdout",
     "output_type": "stream",
     "text": [
      "PM344 Size [384 448]x[384 448] Slice pixel value range 135-463\n",
      "\n",
      "239:242 PM345\n"
     ]
    },
    {
     "name": "stdout",
     "output_type": "stream",
     "text": [
      "PM345 Size [384 400 448]x[384 400 448] Slice pixel value range 147-299\n",
      "\n",
      "240:242 PM346\n"
     ]
    },
    {
     "name": "stdout",
     "output_type": "stream",
     "text": [
      "PM346 Size [384 448]x[384 448] Slice pixel value range 143-468\n",
      "\n",
      "241:242 PM348\n"
     ]
    },
    {
     "name": "stdout",
     "output_type": "stream",
     "text": [
      "PM348 Size [384 448]x[384 448] Slice pixel value range 120-283\n",
      "\n",
      "242:242 PM349\n"
     ]
    },
    {
     "name": "stdout",
     "output_type": "stream",
     "text": [
      "PM349 Size [384 448]x[384 448] Slice pixel value range 142-313\n"
     ]
    }
   ],
   "source": [
    "vrb = True\n",
    "S = {'Pt': [], 'min': [], 'max': []}\n",
    "for p in range(len(prm['Pt'])):\n",
    "    print(f'\\n{p+1}:{len(prm[\"Pt\"])} {prm[\"Pt\"][p]}')\n",
    "    #print(prm[\"Pt\"][p])\n",
    "    idx = ptidx(prm,p)\n",
    "    MV = []\n",
    "    BA = []\n",
    "    BS = []\n",
    "    HB = []\n",
    "    IM = []\n",
    "    for k in idx:\n",
    "        mv, ba, bs, hb, imx, img = oi.maxval(prm,k)\n",
    "        MV.append(mv)\n",
    "        BA.append(ba)\n",
    "        BS.append(bs)\n",
    "        HB.append(hb)\n",
    "        IM.append(imx)\n",
    "    rows = np.unique(MV)\n",
    "    cols = np.unique(BA)\n",
    "    bs = np.unique(BS)\n",
    "    hb = np.unique(HB)\n",
    "    im = np.unique(IM)\n",
    "    S['Pt'].append(prm['Pt'][p])\n",
    "    if len(im) > 0:\n",
    "        S['min'].append(np.min(im))\n",
    "        S['max'].append(np.max(im))\n",
    "    else:\n",
    "        S['min'].append(np.nan)\n",
    "        S['max'].append(np.nan)\n",
    "    if vrb:\n",
    "        try:\n",
    "            print(f'{prm[\"Pt\"][p]} Size {rows}x{cols} Slice pixel value range {np.min(im)}-{np.max(im)}')\n",
    "        except:\n",
    "            print('Not printable')\n",
    " \n",
    "    \n",
    "    "
   ]
  },
  {
   "cell_type": "code",
   "execution_count": 518,
   "id": "d7724067-41fc-4835-ae3b-86f60aa2fb9d",
   "metadata": {
    "collapsed": false
   },
   "outputs": [
    {
     "data": {
      "text/plain": [
       "{'Pt': ['PM009',\n",
       "  'PM010',\n",
       "  'PM011',\n",
       "  'PM013',\n",
       "  'PM014',\n",
       "  'PM016',\n",
       "  'PM017',\n",
       "  'PM018',\n",
       "  'PM019',\n",
       "  'PM020',\n",
       "  'PM021',\n",
       "  'PM023',\n",
       "  'PM025',\n",
       "  'PM028',\n",
       "  'PM029',\n",
       "  'PM035',\n",
       "  'PM036',\n",
       "  'PM037',\n",
       "  'PM038',\n",
       "  'PM039',\n",
       "  'PM040',\n",
       "  'PM045',\n",
       "  'PM047',\n",
       "  'PM048',\n",
       "  'PM049',\n",
       "  'PM053',\n",
       "  'PM057',\n",
       "  'PM058',\n",
       "  'PM060',\n",
       "  'PM061',\n",
       "  'PM062',\n",
       "  'PM064',\n",
       "  'PM065',\n",
       "  'PM067',\n",
       "  'PM068',\n",
       "  'PM069',\n",
       "  'PM070',\n",
       "  'PM071',\n",
       "  'PM072',\n",
       "  'PM074',\n",
       "  'PM075',\n",
       "  'PM076',\n",
       "  'PM078',\n",
       "  'PM079',\n",
       "  'PM080',\n",
       "  'PM081',\n",
       "  'PM082',\n",
       "  'PM084',\n",
       "  'PM085',\n",
       "  'PM087',\n",
       "  'PM088',\n",
       "  'PM090',\n",
       "  'PM091',\n",
       "  'PM092',\n",
       "  'PM095',\n",
       "  'PM096',\n",
       "  'PM097',\n",
       "  'PM098',\n",
       "  'PM099',\n",
       "  'PM100',\n",
       "  'PM101',\n",
       "  'PM103',\n",
       "  'PM104',\n",
       "  'PM105',\n",
       "  'PM106',\n",
       "  'PM107',\n",
       "  'PM108',\n",
       "  'PM109',\n",
       "  'PM110',\n",
       "  'PM111',\n",
       "  'PM113',\n",
       "  'PM114',\n",
       "  'PM115',\n",
       "  'PM117',\n",
       "  'PM118',\n",
       "  'PM119',\n",
       "  'PM120',\n",
       "  'PM121',\n",
       "  'PM122',\n",
       "  'PM123',\n",
       "  'PM126',\n",
       "  'PM127',\n",
       "  'PM128',\n",
       "  'PM129',\n",
       "  'PM130',\n",
       "  'PM131',\n",
       "  'PM132',\n",
       "  'PM133',\n",
       "  'PM135',\n",
       "  'PM136',\n",
       "  'PM138',\n",
       "  'PM139',\n",
       "  'PM146',\n",
       "  'PM148',\n",
       "  'PM149',\n",
       "  'PM150',\n",
       "  'PM152',\n",
       "  'PM153',\n",
       "  'PM154',\n",
       "  'PM155',\n",
       "  'PM157',\n",
       "  'PM158',\n",
       "  'PM159',\n",
       "  'PM160',\n",
       "  'PM162',\n",
       "  'PM164',\n",
       "  'PM165',\n",
       "  'PM168',\n",
       "  'PM169',\n",
       "  'PM171',\n",
       "  'PM173',\n",
       "  'PM175',\n",
       "  'PM176',\n",
       "  'PM178',\n",
       "  'PM180',\n",
       "  'PM181',\n",
       "  'PM182',\n",
       "  'PM187',\n",
       "  'PM188',\n",
       "  'PM189',\n",
       "  'PM191',\n",
       "  'PM192',\n",
       "  'PM193',\n",
       "  'PM194',\n",
       "  'PM197',\n",
       "  'PM198',\n",
       "  'PM199',\n",
       "  'PM200',\n",
       "  'PM202',\n",
       "  'PM204',\n",
       "  'PM205',\n",
       "  'PM207',\n",
       "  'PM209',\n",
       "  'PM213',\n",
       "  'PM214',\n",
       "  'PM216',\n",
       "  'PM217',\n",
       "  'PM218',\n",
       "  'PM219',\n",
       "  'PM220',\n",
       "  'PM222',\n",
       "  'PM224',\n",
       "  'PM225',\n",
       "  'PM227',\n",
       "  'PM228',\n",
       "  'PM229',\n",
       "  'PM230',\n",
       "  'PM232',\n",
       "  'PM233',\n",
       "  'PM234',\n",
       "  'PM235',\n",
       "  'PM238',\n",
       "  'PM239',\n",
       "  'PM240',\n",
       "  'PM241',\n",
       "  'PM242',\n",
       "  'PM243',\n",
       "  'PM245',\n",
       "  'PM246',\n",
       "  'PM247',\n",
       "  'PM249',\n",
       "  'PM251',\n",
       "  'PM252',\n",
       "  'PM255',\n",
       "  'PM256',\n",
       "  'PM259',\n",
       "  'PM260',\n",
       "  'PM261',\n",
       "  'PM263',\n",
       "  'PM264',\n",
       "  'PM265',\n",
       "  'PM267',\n",
       "  'PM268',\n",
       "  'PM269',\n",
       "  'PM270',\n",
       "  'PM271',\n",
       "  'PM272',\n",
       "  'PM273',\n",
       "  'PM274',\n",
       "  'PM276',\n",
       "  'PM277',\n",
       "  'PM278',\n",
       "  'PM279',\n",
       "  'PM280',\n",
       "  'PM281',\n",
       "  'PM282',\n",
       "  'PM283',\n",
       "  'PM284',\n",
       "  'PM286',\n",
       "  'PM287',\n",
       "  'PM288',\n",
       "  'PM289',\n",
       "  'PM291',\n",
       "  'PM292',\n",
       "  'PM293',\n",
       "  'PM294',\n",
       "  'PM295',\n",
       "  'PM296',\n",
       "  'PM297',\n",
       "  'PM298',\n",
       "  'PM299',\n",
       "  'PM301',\n",
       "  'PM302',\n",
       "  'PM303',\n",
       "  'PM304',\n",
       "  'PM305',\n",
       "  'PM306',\n",
       "  'PM307',\n",
       "  'PM308',\n",
       "  'PM310',\n",
       "  'PM311',\n",
       "  'PM312',\n",
       "  'PM313',\n",
       "  'PM314',\n",
       "  'PM315',\n",
       "  'PM316',\n",
       "  'PM317',\n",
       "  'PM319',\n",
       "  'PM320',\n",
       "  'PM321',\n",
       "  'PM322',\n",
       "  'PM324',\n",
       "  'PM325',\n",
       "  'PM326',\n",
       "  'PM327',\n",
       "  'PM328',\n",
       "  'PM330',\n",
       "  'PM331',\n",
       "  'PM332',\n",
       "  'PM334',\n",
       "  'PM336',\n",
       "  'PM337',\n",
       "  'PM338',\n",
       "  'PM339',\n",
       "  'PM340',\n",
       "  'PM342',\n",
       "  'PM343',\n",
       "  'PM344',\n",
       "  'PM345',\n",
       "  'PM346',\n",
       "  'PM348',\n",
       "  'PM349'],\n",
       " 'min': [142,\n",
       "  147,\n",
       "  190,\n",
       "  145,\n",
       "  134,\n",
       "  181,\n",
       "  133,\n",
       "  186,\n",
       "  157,\n",
       "  147,\n",
       "  145,\n",
       "  143,\n",
       "  177,\n",
       "  162,\n",
       "  161,\n",
       "  258,\n",
       "  177,\n",
       "  162,\n",
       "  223,\n",
       "  167,\n",
       "  224,\n",
       "  161,\n",
       "  202,\n",
       "  211,\n",
       "  122,\n",
       "  209,\n",
       "  161,\n",
       "  295,\n",
       "  120,\n",
       "  208,\n",
       "  146,\n",
       "  337,\n",
       "  209,\n",
       "  175,\n",
       "  141,\n",
       "  215,\n",
       "  143,\n",
       "  113,\n",
       "  184,\n",
       "  158,\n",
       "  162,\n",
       "  165,\n",
       "  132,\n",
       "  321,\n",
       "  121,\n",
       "  267,\n",
       "  219,\n",
       "  146,\n",
       "  114,\n",
       "  202,\n",
       "  157,\n",
       "  121,\n",
       "  148,\n",
       "  167,\n",
       "  131,\n",
       "  163,\n",
       "  180,\n",
       "  156,\n",
       "  183,\n",
       "  183,\n",
       "  143,\n",
       "  196,\n",
       "  213,\n",
       "  81,\n",
       "  183,\n",
       "  239,\n",
       "  187,\n",
       "  164,\n",
       "  148,\n",
       "  138,\n",
       "  176,\n",
       "  156,\n",
       "  168,\n",
       "  187,\n",
       "  213,\n",
       "  177,\n",
       "  137,\n",
       "  185,\n",
       "  156,\n",
       "  121,\n",
       "  155,\n",
       "  139,\n",
       "  142,\n",
       "  146,\n",
       "  132,\n",
       "  117,\n",
       "  81,\n",
       "  214,\n",
       "  167,\n",
       "  180,\n",
       "  160,\n",
       "  161,\n",
       "  170,\n",
       "  175,\n",
       "  77,\n",
       "  123,\n",
       "  123,\n",
       "  140,\n",
       "  111,\n",
       "  113,\n",
       "  160,\n",
       "  272,\n",
       "  122,\n",
       "  196,\n",
       "  233,\n",
       "  111,\n",
       "  157,\n",
       "  194,\n",
       "  202,\n",
       "  150,\n",
       "  211,\n",
       "  172,\n",
       "  188,\n",
       "  200,\n",
       "  203,\n",
       "  165,\n",
       "  279,\n",
       "  190,\n",
       "  122,\n",
       "  179,\n",
       "  172,\n",
       "  234,\n",
       "  172,\n",
       "  190,\n",
       "  214,\n",
       "  205,\n",
       "  162,\n",
       "  254,\n",
       "  200,\n",
       "  276,\n",
       "  223,\n",
       "  258,\n",
       "  207,\n",
       "  201,\n",
       "  115,\n",
       "  268,\n",
       "  132,\n",
       "  233,\n",
       "  160,\n",
       "  133,\n",
       "  150,\n",
       "  174,\n",
       "  179,\n",
       "  162,\n",
       "  216,\n",
       "  153,\n",
       "  291,\n",
       "  183,\n",
       "  223,\n",
       "  193,\n",
       "  157,\n",
       "  222,\n",
       "  212,\n",
       "  263,\n",
       "  375,\n",
       "  244,\n",
       "  230,\n",
       "  172,\n",
       "  212,\n",
       "  282,\n",
       "  245,\n",
       "  198,\n",
       "  204,\n",
       "  110,\n",
       "  137,\n",
       "  286,\n",
       "  169,\n",
       "  224,\n",
       "  107,\n",
       "  174,\n",
       "  132,\n",
       "  96,\n",
       "  142,\n",
       "  186,\n",
       "  163,\n",
       "  220,\n",
       "  172,\n",
       "  194,\n",
       "  218,\n",
       "  172,\n",
       "  177,\n",
       "  123,\n",
       "  171,\n",
       "  146,\n",
       "  165,\n",
       "  218,\n",
       "  244,\n",
       "  191,\n",
       "  165,\n",
       "  175,\n",
       "  157,\n",
       "  104,\n",
       "  nan,\n",
       "  166,\n",
       "  158,\n",
       "  131,\n",
       "  162,\n",
       "  118,\n",
       "  218,\n",
       "  255,\n",
       "  180,\n",
       "  196,\n",
       "  128,\n",
       "  123,\n",
       "  179,\n",
       "  138,\n",
       "  126,\n",
       "  116,\n",
       "  290,\n",
       "  140,\n",
       "  127,\n",
       "  269,\n",
       "  205,\n",
       "  169,\n",
       "  92,\n",
       "  202,\n",
       "  280,\n",
       "  268,\n",
       "  226,\n",
       "  143,\n",
       "  131,\n",
       "  372,\n",
       "  155,\n",
       "  639,\n",
       "  609,\n",
       "  222,\n",
       "  191,\n",
       "  126,\n",
       "  597,\n",
       "  166,\n",
       "  110,\n",
       "  203,\n",
       "  209,\n",
       "  186,\n",
       "  311,\n",
       "  123,\n",
       "  128,\n",
       "  135,\n",
       "  147,\n",
       "  143,\n",
       "  120,\n",
       "  142],\n",
       " 'max': [244,\n",
       "  267,\n",
       "  287,\n",
       "  274,\n",
       "  240,\n",
       "  254,\n",
       "  260,\n",
       "  399,\n",
       "  308,\n",
       "  252,\n",
       "  347,\n",
       "  239,\n",
       "  304,\n",
       "  295,\n",
       "  282,\n",
       "  575,\n",
       "  325,\n",
       "  341,\n",
       "  295,\n",
       "  675,\n",
       "  648,\n",
       "  238,\n",
       "  451,\n",
       "  424,\n",
       "  351,\n",
       "  233,\n",
       "  238,\n",
       "  363,\n",
       "  212,\n",
       "  295,\n",
       "  244,\n",
       "  959,\n",
       "  392,\n",
       "  264,\n",
       "  285,\n",
       "  281,\n",
       "  235,\n",
       "  295,\n",
       "  575,\n",
       "  369,\n",
       "  347,\n",
       "  379,\n",
       "  197,\n",
       "  504,\n",
       "  269,\n",
       "  548,\n",
       "  480,\n",
       "  245,\n",
       "  226,\n",
       "  282,\n",
       "  409,\n",
       "  501,\n",
       "  268,\n",
       "  220,\n",
       "  322,\n",
       "  268,\n",
       "  377,\n",
       "  347,\n",
       "  276,\n",
       "  261,\n",
       "  231,\n",
       "  302,\n",
       "  284,\n",
       "  246,\n",
       "  228,\n",
       "  311,\n",
       "  395,\n",
       "  230,\n",
       "  244,\n",
       "  197,\n",
       "  246,\n",
       "  273,\n",
       "  294,\n",
       "  274,\n",
       "  432,\n",
       "  265,\n",
       "  246,\n",
       "  273,\n",
       "  332,\n",
       "  262,\n",
       "  461,\n",
       "  209,\n",
       "  209,\n",
       "  253,\n",
       "  196,\n",
       "  213,\n",
       "  157,\n",
       "  359,\n",
       "  360,\n",
       "  296,\n",
       "  279,\n",
       "  321,\n",
       "  225,\n",
       "  495,\n",
       "  310,\n",
       "  249,\n",
       "  225,\n",
       "  219,\n",
       "  253,\n",
       "  254,\n",
       "  318,\n",
       "  2067,\n",
       "  155,\n",
       "  543,\n",
       "  348,\n",
       "  285,\n",
       "  401,\n",
       "  243,\n",
       "  276,\n",
       "  243,\n",
       "  405,\n",
       "  270,\n",
       "  341,\n",
       "  321,\n",
       "  453,\n",
       "  271,\n",
       "  512,\n",
       "  331,\n",
       "  481,\n",
       "  248,\n",
       "  229,\n",
       "  369,\n",
       "  264,\n",
       "  310,\n",
       "  420,\n",
       "  505,\n",
       "  295,\n",
       "  391,\n",
       "  321,\n",
       "  348,\n",
       "  412,\n",
       "  761,\n",
       "  269,\n",
       "  276,\n",
       "  387,\n",
       "  344,\n",
       "  275,\n",
       "  512,\n",
       "  257,\n",
       "  323,\n",
       "  370,\n",
       "  313,\n",
       "  311,\n",
       "  284,\n",
       "  317,\n",
       "  270,\n",
       "  584,\n",
       "  374,\n",
       "  509,\n",
       "  261,\n",
       "  337,\n",
       "  548,\n",
       "  440,\n",
       "  510,\n",
       "  588,\n",
       "  342,\n",
       "  496,\n",
       "  299,\n",
       "  376,\n",
       "  757,\n",
       "  341,\n",
       "  309,\n",
       "  566,\n",
       "  240,\n",
       "  419,\n",
       "  740,\n",
       "  305,\n",
       "  338,\n",
       "  548,\n",
       "  280,\n",
       "  506,\n",
       "  298,\n",
       "  411,\n",
       "  291,\n",
       "  469,\n",
       "  573,\n",
       "  266,\n",
       "  413,\n",
       "  312,\n",
       "  395,\n",
       "  819,\n",
       "  247,\n",
       "  355,\n",
       "  306,\n",
       "  410,\n",
       "  451,\n",
       "  371,\n",
       "  348,\n",
       "  341,\n",
       "  274,\n",
       "  363,\n",
       "  331,\n",
       "  nan,\n",
       "  358,\n",
       "  233,\n",
       "  263,\n",
       "  355,\n",
       "  257,\n",
       "  448,\n",
       "  430,\n",
       "  288,\n",
       "  347,\n",
       "  323,\n",
       "  217,\n",
       "  375,\n",
       "  743,\n",
       "  187,\n",
       "  430,\n",
       "  442,\n",
       "  281,\n",
       "  459,\n",
       "  470,\n",
       "  322,\n",
       "  342,\n",
       "  622,\n",
       "  451,\n",
       "  523,\n",
       "  391,\n",
       "  374,\n",
       "  207,\n",
       "  383,\n",
       "  644,\n",
       "  454,\n",
       "  1058,\n",
       "  866,\n",
       "  551,\n",
       "  360,\n",
       "  499,\n",
       "  891,\n",
       "  365,\n",
       "  243,\n",
       "  358,\n",
       "  395,\n",
       "  276,\n",
       "  916,\n",
       "  271,\n",
       "  399,\n",
       "  463,\n",
       "  299,\n",
       "  468,\n",
       "  283,\n",
       "  313]}"
      ]
     },
     "execution_count": 518,
     "metadata": {},
     "output_type": "execute_result"
    }
   ],
   "source": [
    "S"
   ]
  },
  {
   "cell_type": "code",
   "execution_count": 453,
   "id": "37833ac3-2f7e-4fcf-9b60-40911246db71",
   "metadata": {
    "collapsed": false
   },
   "outputs": [
    {
     "name": "stdout",
     "output_type": "stream",
     "text": [
      "512 512\n"
     ]
    },
    {
     "data": {
      "text/plain": [
       "524288"
      ]
     },
     "execution_count": 453,
     "metadata": {},
     "output_type": "execute_result"
    }
   ],
   "source": [
    "r, c = img.pixel_array.shape\n",
    "print(f'{r} {c}')\n",
    "2*r*c"
   ]
  },
  {
   "cell_type": "code",
   "execution_count": 454,
   "id": "e0fbb207-11ea-4f0a-8976-9b99e28d59cb",
   "metadata": {
    "collapsed": false
   },
   "outputs": [
    {
     "name": "stdout",
     "output_type": "stream",
     "text": [
      "['PM009' 'PM010' 'PM011' 'PM013' 'PM014' 'PM016' 'PM017' 'PM018' 'PM019'\n",
      " 'PM020' 'PM021' 'PM023' 'PM025' 'PM028' 'PM029' 'PM035' 'PM036' 'PM037'\n",
      " 'PM038' 'PM039' 'PM040' 'PM045' 'PM047' 'PM048' 'PM049' 'PM053' 'PM057'\n",
      " 'PM058' 'PM060' 'PM061' 'PM062' 'PM064' 'PM065' 'PM067' 'PM068' 'PM069'\n",
      " 'PM070' 'PM071' 'PM072' 'PM074' 'PM075' 'PM076' 'PM078' 'PM079' 'PM080'\n",
      " 'PM081' 'PM082' 'PM084' 'PM085' 'PM087' 'PM088' 'PM090' 'PM091' 'PM092'\n",
      " 'PM095' 'PM096' 'PM097' 'PM098' 'PM099' 'PM100' 'PM101' 'PM103' 'PM104'\n",
      " 'PM105' 'PM106' 'PM107' 'PM108' 'PM109' 'PM110' 'PM111' 'PM113' 'PM114'\n",
      " 'PM115' 'PM117' 'PM118' 'PM119' 'PM120' 'PM121' 'PM122' 'PM123' 'PM126'\n",
      " 'PM127' 'PM128' 'PM129' 'PM130' 'PM131' 'PM132' 'PM133' 'PM135' 'PM136'\n",
      " 'PM138' 'PM139' 'PM146' 'PM148' 'PM149' 'PM150' 'PM152' 'PM153' 'PM154'\n",
      " 'PM155' 'PM157' 'PM158' 'PM159' 'PM160' 'PM162' 'PM164' 'PM165' 'PM168'\n",
      " 'PM169' 'PM171' 'PM173' 'PM175' 'PM176' 'PM178' 'PM180' 'PM181' 'PM182'\n",
      " 'PM187' 'PM188' 'PM189' 'PM191' 'PM192' 'PM193' 'PM194' 'PM197' 'PM198'\n",
      " 'PM199' 'PM200' 'PM202' 'PM204' 'PM205' 'PM207' 'PM209' 'PM213' 'PM214'\n",
      " 'PM216' 'PM217' 'PM218' 'PM219' 'PM220' 'PM222' 'PM224' 'PM225' 'PM227'\n",
      " 'PM228' 'PM229' 'PM230' 'PM232' 'PM233' 'PM234' 'PM235' 'PM238' 'PM239'\n",
      " 'PM240' 'PM241' 'PM242' 'PM243' 'PM245' 'PM246' 'PM247' 'PM249' 'PM251'\n",
      " 'PM252' 'PM255' 'PM256' 'PM259' 'PM260' 'PM261' 'PM263' 'PM264' 'PM265'\n",
      " 'PM267' 'PM268' 'PM269' 'PM270' 'PM271' 'PM272' 'PM273' 'PM274' 'PM276'\n",
      " 'PM277' 'PM278' 'PM279' 'PM280' 'PM281' 'PM282' 'PM283' 'PM284' 'PM286'\n",
      " 'PM287' 'PM288' 'PM289' 'PM291' 'PM292' 'PM293' 'PM294' 'PM295' 'PM296'\n",
      " 'PM297' 'PM298' 'PM299' 'PM301' 'PM302' 'PM303' 'PM304' 'PM305' 'PM306'\n",
      " 'PM307' 'PM308' 'PM310' 'PM311' 'PM312' 'PM313' 'PM314' 'PM315' 'PM316'\n",
      " 'PM317' 'PM319' 'PM320' 'PM321' 'PM322' 'PM324' 'PM325' 'PM326' 'PM327'\n",
      " 'PM328' 'PM330' 'PM331' 'PM332' 'PM334' 'PM336' 'PM337' 'PM338' 'PM339'\n",
      " 'PM340' 'PM342' 'PM343' 'PM344' 'PM345' 'PM346' 'PM348' 'PM349']\n"
     ]
    }
   ],
   "source": [
    "print(prm['Pt'])"
   ]
  },
  {
   "cell_type": "code",
   "execution_count": 455,
   "id": "1c4c992d-f506-4845-af91-db890cecdb59",
   "metadata": {
    "collapsed": false
   },
   "outputs": [],
   "source": [
    "# Show DICOM header info\n",
    "if False:\n",
    "    for d in ds:\n",
    "        print(d)"
   ]
  },
  {
   "cell_type": "code",
   "execution_count": 456,
   "id": "29efb8ce-af1f-4b21-8cd2-ef55dd3cb57a",
   "metadata": {
    "collapsed": false
   },
   "outputs": [],
   "source": [
    "idx = [0x00280100, 0x00280101, 0x00280102]"
   ]
  },
  {
   "cell_type": "code",
   "execution_count": 457,
   "id": "8a30a662-f40b-4a93-b78c-d9647fd81569",
   "metadata": {
    "collapsed": false
   },
   "outputs": [
    {
     "name": "stdout",
     "output_type": "stream",
     "text": [
      "Bits Allocated 16\n",
      "Bits Stored 12\n",
      "High Bit 11\n"
     ]
    }
   ],
   "source": [
    "for i in idx:\n",
    "    elm = ds[i]\n",
    "    print(f'{elm.name} {str(elm.value)}')\n",
    "    #print(elm)"
   ]
  },
  {
   "cell_type": "code",
   "execution_count": 458,
   "id": "dd2a0fe8-91bb-4713-99b1-ad3a1ab3235b",
   "metadata": {
    "collapsed": false
   },
   "outputs": [
    {
     "data": {
      "text/plain": [
       "4095"
      ]
     },
     "execution_count": 458,
     "metadata": {},
     "output_type": "execute_result"
    }
   ],
   "source": [
    "2**ds[idx[1]].value-1"
   ]
  },
  {
   "cell_type": "code",
   "execution_count": 459,
   "id": "9b91cb8b-e0a8-42f4-a2a7-adbc8c637642",
   "metadata": {
    "collapsed": false
   },
   "outputs": [
    {
     "data": {
      "text/plain": [
       "16"
      ]
     },
     "execution_count": 459,
     "metadata": {},
     "output_type": "execute_result"
    }
   ],
   "source": [
    "ds.BitsAllocated"
   ]
  },
  {
   "cell_type": "markdown",
   "id": "19d07567-af0f-47b2-a92d-ccbe9ddc9a3e",
   "metadata": {
    "collapsed": false
   },
   "source": [
    "Extract patches for training and testing model"
   ]
  },
  {
   "cell_type": "code",
   "execution_count": 460,
   "id": "6892493f-95e1-4193-99cf-fd5850298693",
   "metadata": {
    "collapsed": false
   },
   "outputs": [],
   "source": [
    "# Run this to extract data for PM dataset. Other options are haglag and vxvy\n",
    "%run python -m get_images_and_masks -d PM"
   ]
  },
  {
   "cell_type": "code",
   "execution_count": 461,
   "id": "49e83eb7-4c5d-44b7-a3ec-ed3b57a0f8f8",
   "metadata": {
    "collapsed": false
   },
   "outputs": [
    {
     "name": "stdout",
     "output_type": "stream",
     "text": [
      "['PM_test_patients_0_15_grouped.p', 'haglag_test_patients_0_15_grouped.p']\n",
      "['PM_imgs_and_Mmyo_0_15_validation.p', 'haglag_imgs_and_Mmyo_0_15_validation.p']\n",
      "['PM_presplit.p', 'haglag_presplit.p']\n"
     ]
    }
   ],
   "source": [
    "P_PATH = 'P:/data/mri/patches'\n",
    "data_g = [g for g in os.listdir(P_PATH) if 'grouped' in g]\n",
    "data_v = [g for g in os.listdir(P_PATH) if 'validation' in g]\n",
    "data_p = [g for g in os.listdir(P_PATH) if 'presplit' in g]\n",
    "print(data_g)\n",
    "print(data_v)\n",
    "print(data_p)\n"
   ]
  },
  {
   "cell_type": "code",
   "execution_count": 462,
   "id": "90a666cb-5584-43d6-b794-c614b26a3fa4",
   "metadata": {
    "collapsed": false
   },
   "outputs": [
    {
     "data": {
      "text/plain": [
       "{'PM': ['PM_test_patients_0_15_grouped.p',\n",
       "  'PM_imgs_and_Mmyo_0_15_validation.p',\n",
       "  'PM_presplit.p'],\n",
       " 'haglag': ['haglag_test_patients_0_15_grouped.p',\n",
       "  'haglag_imgs_and_Mmyo_0_15_validation.p',\n",
       "  'haglag_presplit.p']}"
      ]
     },
     "execution_count": 462,
     "metadata": {},
     "output_type": "execute_result"
    }
   ],
   "source": [
    "STUDY = ['PM', 'haglag']\n",
    "DATA = {}\n",
    "for s in STUDY:\n",
    "    DATA[s] = [g for g in os.listdir(P_PATH) if s in g]\n",
    "DATA"
   ]
  },
  {
   "cell_type": "code",
   "execution_count": 463,
   "id": "bad93d52-e8a2-4b3c-9d40-f8627c1a6be8",
   "metadata": {
    "collapsed": false
   },
   "outputs": [
    {
     "data": {
      "text/plain": [
       "'PM_presplit.p'"
      ]
     },
     "execution_count": 463,
     "metadata": {},
     "output_type": "execute_result"
    }
   ],
   "source": [
    "s = 'PM'\n",
    "d_p = [d for d in DATA[s] if 'presplit' in d][0]\n",
    "d_g = [d for d in DATA[s] if 'grouped' in d][0]\n",
    "d_v = [d for d in DATA[s] if 'validation' in d][0]\n",
    "d_p"
   ]
  },
  {
   "cell_type": "code",
   "execution_count": 464,
   "id": "b64c051b-a7d2-489f-98eb-8d3e3ecffc88",
   "metadata": {
    "collapsed": false
   },
   "outputs": [],
   "source": [
    "PICKLE_PATH = os.path.join(P_PATH,d_g)"
   ]
  },
  {
   "cell_type": "markdown",
   "id": "b0a4e836-5ba2-4796-a1bf-21673b65c28b",
   "metadata": {
    "collapsed": false
   },
   "source": [
    "1.1 EXPLORING PRESPLIT DATA"
   ]
  },
  {
   "cell_type": "markdown",
   "id": "245b44ea-6d6f-4d73-89e3-c16698a76549",
   "metadata": {
    "collapsed": false
   },
   "source": [
    "As described in explanation of pred_patient_set in model_training_and_eval.py\n",
    "\n",
    "     {'ABC1': [\n",
    "        [img1, img2, img3, img4, ...],\n",
    "        [mask1, mask2, mask3, mask4, ...],\n",
    "        ],\n",
    "     'DEF2': [\n",
    "        [img1, img2, img3, img4, ...],\n",
    "        [mask1, mask2, mask3, mask4, ...],\n",
    "        ],\n",
    "     'GHI3': [\n",
    "        ...\n",
    "     ]\n",
    "    }"
   ]
  },
  {
   "cell_type": "code",
   "execution_count": 465,
   "id": "06d900c1-7340-40f8-9753-68c0a41a23dc",
   "metadata": {
    "collapsed": false
   },
   "outputs": [],
   "source": [
    "with open(PICKLE_PATH, \"rb\") as input_file:\n",
    "    data = pickle.load(input_file)"
   ]
  },
  {
   "cell_type": "code",
   "execution_count": 466,
   "id": "db87bb87-94e1-4346-b3d0-afc35e65a5d0",
   "metadata": {
    "collapsed": false
   },
   "outputs": [
    {
     "data": {
      "text/plain": [
       "'P:/data/mri/patches\\\\PM_test_patients_0_15_grouped.p'"
      ]
     },
     "execution_count": 466,
     "metadata": {},
     "output_type": "execute_result"
    }
   ],
   "source": [
    "PICKLE_PATH"
   ]
  },
  {
   "cell_type": "code",
   "execution_count": 467,
   "id": "2e7fce19-d58e-4248-a123-be056a3ab20a",
   "metadata": {
    "collapsed": false
   },
   "outputs": [
    {
     "name": "stdout",
     "output_type": "stream",
     "text": [
      "['PM123', 'PM240', 'PM271', 'PM346', 'PM295', 'PM136', 'PM321', 'PM188', 'PM325', 'PM105', 'PM068', 'PM014', 'PM072', 'PM304', 'PM064', 'PM330', 'PM176', 'PM110', 'PM149', 'PM255', 'PM209', 'PM267', 'PM074', 'PM099', 'PM340', 'PM324', 'PM139', 'PM298', 'PM277', 'PM310', 'PM038', 'PM317', 'PM131', 'PM269', 'PM039', 'PM132', 'PM080', 'PM067', 'PM273', 'PM069', 'PM023', 'PM061', 'PM009', 'PM322', 'PM160', 'PM319', 'PM090', 'PM152', 'PM060', 'PM036', 'PM191', 'PM259', 'PM182', 'PM171', 'PM113', 'PM084', 'PM199', 'PM287']\n"
     ]
    }
   ],
   "source": [
    "Pt = [*data.keys()]\n",
    "print(Pt)"
   ]
  },
  {
   "cell_type": "code",
   "execution_count": 468,
   "id": "1d11e0df-d651-453c-b8ca-b58a236e86d5",
   "metadata": {
    "collapsed": false
   },
   "outputs": [
    {
     "name": "stdout",
     "output_type": "stream",
     "text": [
      "\n",
      "k, i = 0, 2\n",
      "Pt[k] = 'PM123'\n",
      "img  = data['PM123'][0][2] (image #2 size (256, 256))\n",
      "mask = data['PM123'][1][2] (mask  #2 size (256, 256))\n"
     ]
    },
    {
     "data": {
      "text/plain": [
       "<matplotlib.image.AxesImage at 0x1db0f471120>"
      ]
     },
     "execution_count": 468,
     "metadata": {},
     "output_type": "execute_result"
    },
    {
     "data": {
      "image/png": "[encoded data removed]",
      "text/plain": [
       "<Figure size 640x480 with 2 Axes>"
      ]
     },
     "metadata": {},
     "output_type": "display_data"
    }
   ],
   "source": [
    "k, i = 0, 2\n",
    "img = data[Pt[k]][0][i]\n",
    "mask = data[Pt[k]][1][i]\n",
    "print(f'\\nk, i = 0, 2')\n",
    "print(f\"Pt[k] = '{Pt[k]}'\")\n",
    "print(f\"img  = data['{Pt[k]}'][0][{i}] (image #{i} size {img.shape})\")\n",
    "print(f\"mask = data['{Pt[k]}'][1][{i}] (mask  #{i} size {mask.shape})\")\n",
    "\n",
    "plt.subplot(1, 2, 1)\n",
    "plt.imshow(img, cmap='gray')\n",
    "plt.subplot(1, 2, 2)\n",
    "plt.imshow(mask, cmap='gray')"
   ]
  },
  {
   "cell_type": "code",
   "execution_count": 469,
   "id": "0ed56c8e-f7e9-4d31-bb6b-333f1f98cf31",
   "metadata": {
    "collapsed": false
   },
   "outputs": [
    {
     "name": "stdout",
     "output_type": "stream",
     "text": [
      "\n",
      "Unique pixel values \n",
      "[  0.   1.   2.   3.   4.   5.   6.   7.   8.   9.  10.  11.  12.  13.\n",
      "  14.  15.  16.  17.  18.  19.  20.  21.  22.  23.  24.  25.  26.  27.\n",
      "  28.  29.  30.  31.  32.  33.  34.  35.  36.  37.  38.  39.  40.  41.\n",
      "  42.  43.  44.  45.  46.  47.  48.  49.  50.  51.  52.  53.  54.  55.\n",
      "  56.  57.  58.  59.  60.  61.  62.  63.  64.  65.  66.  67.  68.  69.\n",
      "  70.  71.  72.  73.  74.  75.  76.  77.  78.  79.  80.  81.  82.  83.\n",
      "  84.  85.  86.  87.  88.  89.  90.  91.  92.  93.  94.  95.  96.  97.\n",
      "  98.  99. 100. 101. 102. 103. 104. 105. 106. 107. 108. 109. 110. 111.\n",
      " 112. 113. 114. 115. 116. 117. 118. 119. 120. 121. 122. 123. 124. 125.\n",
      " 126. 127. 128. 129. 130. 131. 132. 133. 134. 135. 136. 137. 138. 139.\n",
      " 140. 141. 142. 143. 144. 145. 146. 147. 148. 149. 150. 151. 152. 153.\n",
      " 154. 155. 156. 157. 158. 159. 160. 161. 162. 163. 164. 165. 166. 167.\n",
      " 168. 169. 170. 171. 172. 173. 174. 175. 176. 177. 178. 179. 180. 181.\n",
      " 182. 183. 184. 185. 186. 187. 188. 189. 190. 191. 192. 193. 194. 195.\n",
      " 196. 197. 198. 199. 200. 201. 204. 206. 207. 208. 209. 210. 211. 212.\n",
      " 214. 215. 218. 221. 222.]\n",
      "\n",
      "Unique mask values \n",
      "[0. 1.]\n",
      "\n",
      "Pixel value range \n",
      "0-222\n",
      "\n"
     ]
    }
   ],
   "source": [
    "print(f'\\nUnique pixel values \\n{np.unique(img)}\\n')\n",
    "print(f'Unique mask values \\n{np.unique(mask)}\\n')\n",
    "print(f'Pixel value range \\n{int(np.min(img))}-{int(np.max(img))}\\n')"
   ]
  },
  {
   "cell_type": "code",
   "execution_count": 470,
   "id": "fd70993b-848f-4749-b228-981ed16fef23",
   "metadata": {
    "collapsed": false
   },
   "outputs": [
    {
     "data": {
      "text/plain": [
       "9"
      ]
     },
     "execution_count": 470,
     "metadata": {},
     "output_type": "execute_result"
    }
   ],
   "source": [
    "len(data[Pt[0]][0])"
   ]
  },
  {
   "cell_type": "code",
   "execution_count": 471,
   "id": "adc4ca5d-dac0-4172-bc24-9df7cc9a3b97",
   "metadata": {
    "collapsed": false
   },
   "outputs": [
    {
     "data": {
      "text/plain": [
       "58"
      ]
     },
     "execution_count": 471,
     "metadata": {},
     "output_type": "execute_result"
    }
   ],
   "source": [
    "len(Pt)"
   ]
  },
  {
   "cell_type": "code",
   "execution_count": 472,
   "id": "ee4c73c6-fcac-4296-92ef-0c719796023d",
   "metadata": {
    "collapsed": false
   },
   "outputs": [],
   "source": [
    "import copy\n",
    "datan = copy.deepcopy(data)"
   ]
  },
  {
   "cell_type": "code",
   "execution_count": 473,
   "id": "65a42b8f-e91e-459f-abd3-5cf588bb068a",
   "metadata": {
    "collapsed": false
   },
   "outputs": [
    {
     "name": "stdout",
     "output_type": "stream",
     "text": [
      "\n",
      "Pt[k] = 'PM123'\n",
      "   0 img  = data['PM123'][0][0] (image #0 size (256, 256)) Pixel value range 0-262\n",
      "   0 img  = data['PM123'][0][0] (image #0 size (256, 256)) Pixel value range 0.0-1.0274509803921568\n",
      "   0 mask = data['PM123'][1][0] (mask  #0 size (256, 256))\n",
      "   1 img  = data['PM123'][0][1] (image #1 size (256, 256)) Pixel value range 0-242\n",
      "   1 img  = data['PM123'][0][1] (image #1 size (256, 256)) Pixel value range 0.0-0.9490196078431372\n",
      "   1 mask = data['PM123'][1][1] (mask  #1 size (256, 256))\n",
      "   2 img  = data['PM123'][0][2] (image #2 size (256, 256)) Pixel value range 0-222\n",
      "   2 img  = data['PM123'][0][2] (image #2 size (256, 256)) Pixel value range 0.0-0.8705882352941177\n",
      "   2 mask = data['PM123'][1][2] (mask  #2 size (256, 256))\n",
      "   3 img  = data['PM123'][0][3] (image #3 size (256, 256)) Pixel value range 0-244\n",
      "   3 img  = data['PM123'][0][3] (image #3 size (256, 256)) Pixel value range 0.0-0.9568627450980393\n",
      "   3 mask = data['PM123'][1][3] (mask  #3 size (256, 256))\n",
      "   4 img  = data['PM123'][0][4] (image #4 size (256, 256)) Pixel value range 0-223\n",
      "   4 img  = data['PM123'][0][4] (image #4 size (256, 256)) Pixel value range 0.0-0.8745098039215686\n",
      "   4 mask = data['PM123'][1][4] (mask  #4 size (256, 256))\n",
      "   5 img  = data['PM123'][0][5] (image #5 size (256, 256)) Pixel value range 0-198\n",
      "   5 img  = data['PM123'][0][5] (image #5 size (256, 256)) Pixel value range 0.0-0.7764705882352941\n",
      "   5 mask = data['PM123'][1][5] (mask  #5 size (256, 256))\n",
      "   6 img  = data['PM123'][0][6] (image #6 size (256, 256)) Pixel value range 0-154\n",
      "   6 img  = data['PM123'][0][6] (image #6 size (256, 256)) Pixel value range 0.0-0.6039215686274509\n",
      "   6 mask = data['PM123'][1][6] (mask  #6 size (256, 256))\n",
      "   7 img  = data['PM123'][0][7] (image #7 size (256, 256)) Pixel value range 0-162\n",
      "   7 img  = data['PM123'][0][7] (image #7 size (256, 256)) Pixel value range 0.0-0.6352941176470588\n",
      "   7 mask = data['PM123'][1][7] (mask  #7 size (256, 256))\n",
      "   8 img  = data['PM123'][0][8] (image #8 size (256, 256)) Pixel value range 0-193\n",
      "   8 img  = data['PM123'][0][8] (image #8 size (256, 256)) Pixel value range 0.0-0.7568627450980392\n",
      "   8 mask = data['PM123'][1][8] (mask  #8 size (256, 256))\n",
      "\n",
      "Pt[k] = 'PM240'\n",
      "   0 img  = data['PM240'][0][0] (image #0 size (256, 256)) Pixel value range 0-271\n",
      "   0 img  = data['PM240'][0][0] (image #0 size (256, 256)) Pixel value range 0.0-1.0627450980392157\n",
      "   0 mask = data['PM240'][1][0] (mask  #0 size (256, 256))\n",
      "   1 img  = data['PM240'][0][1] (image #1 size (256, 256)) Pixel value range 0-258\n",
      "   1 img  = data['PM240'][0][1] (image #1 size (256, 256)) Pixel value range 0.0-1.011764705882353\n",
      "   1 mask = data['PM240'][1][1] (mask  #1 size (256, 256))\n",
      "   2 img  = data['PM240'][0][2] (image #2 size (256, 256)) Pixel value range 0-266\n",
      "   2 img  = data['PM240'][0][2] (image #2 size (256, 256)) Pixel value range 0.0-1.0431372549019609\n",
      "   2 mask = data['PM240'][1][2] (mask  #2 size (256, 256))\n",
      "   3 img  = data['PM240'][0][3] (image #3 size (256, 256)) Pixel value range 0-249\n",
      "   3 img  = data['PM240'][0][3] (image #3 size (256, 256)) Pixel value range 0.0-0.9764705882352941\n",
      "   3 mask = data['PM240'][1][3] (mask  #3 size (256, 256))\n",
      "   4 img  = data['PM240'][0][4] (image #4 size (256, 256)) Pixel value range 0-259\n",
      "   4 img  = data['PM240'][0][4] (image #4 size (256, 256)) Pixel value range 0.0-1.0156862745098039\n",
      "   4 mask = data['PM240'][1][4] (mask  #4 size (256, 256))\n",
      "   5 img  = data['PM240'][0][5] (image #5 size (256, 256)) Pixel value range 0-245\n",
      "   5 img  = data['PM240'][0][5] (image #5 size (256, 256)) Pixel value range 0.0-0.9607843137254902\n",
      "   5 mask = data['PM240'][1][5] (mask  #5 size (256, 256))\n",
      "\n",
      "Pt[k] = 'PM271'\n",
      "   0 img  = data['PM271'][0][0] (image #0 size (256, 256)) Pixel value range 0-185\n",
      "   0 img  = data['PM271'][0][0] (image #0 size (256, 256)) Pixel value range 0.0-0.7254901960784313\n",
      "   0 mask = data['PM271'][1][0] (mask  #0 size (256, 256))\n",
      "   1 img  = data['PM271'][0][1] (image #1 size (256, 256)) Pixel value range 0-244\n",
      "   1 img  = data['PM271'][0][1] (image #1 size (256, 256)) Pixel value range 0.0-0.9568627450980393\n",
      "   1 mask = data['PM271'][1][1] (mask  #1 size (256, 256))\n",
      "   2 img  = data['PM271'][0][2] (image #2 size (256, 256)) Pixel value range 0-277\n",
      "   2 img  = data['PM271'][0][2] (image #2 size (256, 256)) Pixel value range 0.0-1.0862745098039215\n",
      "   2 mask = data['PM271'][1][2] (mask  #2 size (256, 256))\n",
      "   3 img  = data['PM271'][0][3] (image #3 size (256, 256)) Pixel value range 0-291\n",
      "   3 img  = data['PM271'][0][3] (image #3 size (256, 256)) Pixel value range 0.0-1.1411764705882352\n",
      "   3 mask = data['PM271'][1][3] (mask  #3 size (256, 256))\n",
      "   4 img  = data['PM271'][0][4] (image #4 size (256, 256)) Pixel value range 0-251\n",
      "   4 img  = data['PM271'][0][4] (image #4 size (256, 256)) Pixel value range 0.0-0.984313725490196\n",
      "   4 mask = data['PM271'][1][4] (mask  #4 size (256, 256))\n",
      "   5 img  = data['PM271'][0][5] (image #5 size (256, 256)) Pixel value range 0-227\n",
      "   5 img  = data['PM271'][0][5] (image #5 size (256, 256)) Pixel value range 0.0-0.8901960784313725\n",
      "   5 mask = data['PM271'][1][5] (mask  #5 size (256, 256))\n",
      "\n",
      "Pt[k] = 'PM346'\n",
      "   0 img  = data['PM346'][0][0] (image #0 size (256, 256)) Pixel value range 0-115\n",
      "   0 img  = data['PM346'][0][0] (image #0 size (256, 256)) Pixel value range 0.0-0.45098039215686275\n",
      "   0 mask = data['PM346'][1][0] (mask  #0 size (256, 256))\n",
      "   1 img  = data['PM346'][0][1] (image #1 size (256, 256)) Pixel value range 0-116\n",
      "   1 img  = data['PM346'][0][1] (image #1 size (256, 256)) Pixel value range 0.0-0.4549019607843137\n",
      "   1 mask = data['PM346'][1][1] (mask  #1 size (256, 256))\n",
      "   2 img  = data['PM346'][0][2] (image #2 size (256, 256)) Pixel value range 0-120\n",
      "   2 img  = data['PM346'][0][2] (image #2 size (256, 256)) Pixel value range 0.0-0.47058823529411764\n",
      "   2 mask = data['PM346'][1][2] (mask  #2 size (256, 256))\n",
      "   3 img  = data['PM346'][0][3] (image #3 size (256, 256)) Pixel value range 0-116\n",
      "   3 img  = data['PM346'][0][3] (image #3 size (256, 256)) Pixel value range 0.0-0.4549019607843137\n",
      "   3 mask = data['PM346'][1][3] (mask  #3 size (256, 256))\n",
      "   4 img  = data['PM346'][0][4] (image #4 size (256, 256)) Pixel value range 0-113\n",
      "   4 img  = data['PM346'][0][4] (image #4 size (256, 256)) Pixel value range 0.0-0.44313725490196076\n",
      "   4 mask = data['PM346'][1][4] (mask  #4 size (256, 256))\n",
      "   5 img  = data['PM346'][0][5] (image #5 size (256, 256)) Pixel value range 0-130\n",
      "   5 img  = data['PM346'][0][5] (image #5 size (256, 256)) Pixel value range 0.0-0.5098039215686274\n",
      "   5 mask = data['PM346'][1][5] (mask  #5 size (256, 256))\n",
      "   6 img  = data['PM346'][0][6] (image #6 size (256, 256)) Pixel value range 0-186\n",
      "   6 img  = data['PM346'][0][6] (image #6 size (256, 256)) Pixel value range 0.0-0.7294117647058823\n",
      "   6 mask = data['PM346'][1][6] (mask  #6 size (256, 256))\n",
      "\n",
      "Pt[k] = 'PM295'\n",
      "   0 img  = data['PM295'][0][0] (image #0 size (256, 256)) Pixel value range 0-214\n",
      "   0 img  = data['PM295'][0][0] (image #0 size (256, 256)) Pixel value range 0.0-0.8392156862745098\n",
      "   0 mask = data['PM295'][1][0] (mask  #0 size (256, 256))\n",
      "   1 img  = data['PM295'][0][1] (image #1 size (256, 256)) Pixel value range 0-202\n",
      "   1 img  = data['PM295'][0][1] (image #1 size (256, 256)) Pixel value range 0.0-0.792156862745098\n",
      "   1 mask = data['PM295'][1][1] (mask  #1 size (256, 256))\n",
      "   2 img  = data['PM295'][0][2] (image #2 size (256, 256)) Pixel value range 0-178\n",
      "   2 img  = data['PM295'][0][2] (image #2 size (256, 256)) Pixel value range 0.0-0.6980392156862745\n",
      "   2 mask = data['PM295'][1][2] (mask  #2 size (256, 256))\n",
      "   3 img  = data['PM295'][0][3] (image #3 size (256, 256)) Pixel value range 0-184\n",
      "   3 img  = data['PM295'][0][3] (image #3 size (256, 256)) Pixel value range 0.0-0.7215686274509804\n",
      "   3 mask = data['PM295'][1][3] (mask  #3 size (256, 256))\n",
      "   4 img  = data['PM295'][0][4] (image #4 size (256, 256)) Pixel value range 0-193\n",
      "   4 img  = data['PM295'][0][4] (image #4 size (256, 256)) Pixel value range 0.0-0.7568627450980392\n",
      "   4 mask = data['PM295'][1][4] (mask  #4 size (256, 256))\n",
      "   5 img  = data['PM295'][0][5] (image #5 size (256, 256)) Pixel value range 0-179\n",
      "   5 img  = data['PM295'][0][5] (image #5 size (256, 256)) Pixel value range 0.0-0.7019607843137254\n",
      "   5 mask = data['PM295'][1][5] (mask  #5 size (256, 256))\n",
      "   6 img  = data['PM295'][0][6] (image #6 size (256, 256)) Pixel value range 0-185\n",
      "   6 img  = data['PM295'][0][6] (image #6 size (256, 256)) Pixel value range 0.0-0.7254901960784313\n",
      "   6 mask = data['PM295'][1][6] (mask  #6 size (256, 256))\n",
      "   7 img  = data['PM295'][0][7] (image #7 size (256, 256)) Pixel value range 0-184\n",
      "   7 img  = data['PM295'][0][7] (image #7 size (256, 256)) Pixel value range 0.0-0.7215686274509804\n",
      "   7 mask = data['PM295'][1][7] (mask  #7 size (256, 256))\n",
      "\n",
      "Pt[k] = 'PM136'\n",
      "   0 img  = data['PM136'][0][0] (image #0 size (256, 256)) Pixel value range 0-209\n",
      "   0 img  = data['PM136'][0][0] (image #0 size (256, 256)) Pixel value range 0.0-0.8196078431372549\n",
      "   0 mask = data['PM136'][1][0] (mask  #0 size (256, 256))\n",
      "   1 img  = data['PM136'][0][1] (image #1 size (256, 256)) Pixel value range 0-230\n",
      "   1 img  = data['PM136'][0][1] (image #1 size (256, 256)) Pixel value range 0.0-0.9019607843137255\n",
      "   1 mask = data['PM136'][1][1] (mask  #1 size (256, 256))\n",
      "   2 img  = data['PM136'][0][2] (image #2 size (256, 256)) Pixel value range 0-234\n",
      "   2 img  = data['PM136'][0][2] (image #2 size (256, 256)) Pixel value range 0.0-0.9176470588235294\n",
      "   2 mask = data['PM136'][1][2] (mask  #2 size (256, 256))\n",
      "   3 img  = data['PM136'][0][3] (image #3 size (256, 256)) Pixel value range 0-241\n",
      "   3 img  = data['PM136'][0][3] (image #3 size (256, 256)) Pixel value range 0.0-0.9450980392156862\n",
      "   3 mask = data['PM136'][1][3] (mask  #3 size (256, 256))\n",
      "   4 img  = data['PM136'][0][4] (image #4 size (256, 256)) Pixel value range 0-262\n",
      "   4 img  = data['PM136'][0][4] (image #4 size (256, 256)) Pixel value range 0.0-1.0274509803921568\n",
      "   4 mask = data['PM136'][1][4] (mask  #4 size (256, 256))\n",
      "   5 img  = data['PM136'][0][5] (image #5 size (256, 256)) Pixel value range 0-280\n",
      "   5 img  = data['PM136'][0][5] (image #5 size (256, 256)) Pixel value range 0.0-1.0980392156862746\n",
      "   5 mask = data['PM136'][1][5] (mask  #5 size (256, 256))\n",
      "   6 img  = data['PM136'][0][6] (image #6 size (256, 256)) Pixel value range 0-245\n",
      "   6 img  = data['PM136'][0][6] (image #6 size (256, 256)) Pixel value range 0.0-0.9607843137254902\n",
      "   6 mask = data['PM136'][1][6] (mask  #6 size (256, 256))\n",
      "   7 img  = data['PM136'][0][7] (image #7 size (256, 256)) Pixel value range 0-222\n",
      "   7 img  = data['PM136'][0][7] (image #7 size (256, 256)) Pixel value range 0.0-0.8705882352941177\n",
      "   7 mask = data['PM136'][1][7] (mask  #7 size (256, 256))\n",
      "\n",
      "Pt[k] = 'PM321'\n",
      "   0 img  = data['PM321'][0][0] (image #0 size (256, 256)) Pixel value range 0-118\n",
      "   0 img  = data['PM321'][0][0] (image #0 size (256, 256)) Pixel value range 0.0-0.4627450980392157\n",
      "   0 mask = data['PM321'][1][0] (mask  #0 size (256, 256))\n",
      "   1 img  = data['PM321'][0][1] (image #1 size (256, 256)) Pixel value range 0-114\n",
      "   1 img  = data['PM321'][0][1] (image #1 size (256, 256)) Pixel value range 0.0-0.4470588235294118\n",
      "   1 mask = data['PM321'][1][1] (mask  #1 size (256, 256))\n",
      "   2 img  = data['PM321'][0][2] (image #2 size (256, 256)) Pixel value range 0-123\n",
      "   2 img  = data['PM321'][0][2] (image #2 size (256, 256)) Pixel value range 0.0-0.4823529411764706\n",
      "   2 mask = data['PM321'][1][2] (mask  #2 size (256, 256))\n",
      "   3 img  = data['PM321'][0][3] (image #3 size (256, 256)) Pixel value range 0-110\n",
      "   3 img  = data['PM321'][0][3] (image #3 size (256, 256)) Pixel value range 0.0-0.43137254901960786\n",
      "   3 mask = data['PM321'][1][3] (mask  #3 size (256, 256))\n",
      "   4 img  = data['PM321'][0][4] (image #4 size (256, 256)) Pixel value range 0-111\n",
      "   4 img  = data['PM321'][0][4] (image #4 size (256, 256)) Pixel value range 0.0-0.43529411764705883\n",
      "   4 mask = data['PM321'][1][4] (mask  #4 size (256, 256))\n",
      "   5 img  = data['PM321'][0][5] (image #5 size (256, 256)) Pixel value range 0-105\n",
      "   5 img  = data['PM321'][0][5] (image #5 size (256, 256)) Pixel value range 0.0-0.4117647058823529\n",
      "   5 mask = data['PM321'][1][5] (mask  #5 size (256, 256))\n",
      "   6 img  = data['PM321'][0][6] (image #6 size (256, 256)) Pixel value range 0-116\n",
      "   6 img  = data['PM321'][0][6] (image #6 size (256, 256)) Pixel value range 0.0-0.4549019607843137\n",
      "   6 mask = data['PM321'][1][6] (mask  #6 size (256, 256))\n",
      "\n",
      "Pt[k] = 'PM188'\n",
      "   0 img  = data['PM188'][0][0] (image #0 size (256, 256)) Pixel value range 0-123\n",
      "   0 img  = data['PM188'][0][0] (image #0 size (256, 256)) Pixel value range 0.0-0.4823529411764706\n",
      "   0 mask = data['PM188'][1][0] (mask  #0 size (256, 256))\n",
      "   1 img  = data['PM188'][0][1] (image #1 size (256, 256)) Pixel value range 0-119\n",
      "   1 img  = data['PM188'][0][1] (image #1 size (256, 256)) Pixel value range 0.0-0.4666666666666667\n",
      "   1 mask = data['PM188'][1][1] (mask  #1 size (256, 256))\n",
      "   2 img  = data['PM188'][0][2] (image #2 size (256, 256)) Pixel value range 0-123\n",
      "   2 img  = data['PM188'][0][2] (image #2 size (256, 256)) Pixel value range 0.0-0.4823529411764706\n",
      "   2 mask = data['PM188'][1][2] (mask  #2 size (256, 256))\n",
      "   3 img  = data['PM188'][0][3] (image #3 size (256, 256)) Pixel value range 0-148\n",
      "   3 img  = data['PM188'][0][3] (image #3 size (256, 256)) Pixel value range 0.0-0.5803921568627451\n",
      "   3 mask = data['PM188'][1][3] (mask  #3 size (256, 256))\n",
      "   4 img  = data['PM188'][0][4] (image #4 size (256, 256)) Pixel value range 0-152\n",
      "   4 img  = data['PM188'][0][4] (image #4 size (256, 256)) Pixel value range 0.0-0.596078431372549\n",
      "   4 mask = data['PM188'][1][4] (mask  #4 size (256, 256))\n",
      "   5 img  = data['PM188'][0][5] (image #5 size (256, 256)) Pixel value range 0-154\n",
      "   5 img  = data['PM188'][0][5] (image #5 size (256, 256)) Pixel value range 0.0-0.6039215686274509\n",
      "   5 mask = data['PM188'][1][5] (mask  #5 size (256, 256))\n",
      "   6 img  = data['PM188'][0][6] (image #6 size (256, 256)) Pixel value range 0-146\n",
      "   6 img  = data['PM188'][0][6] (image #6 size (256, 256)) Pixel value range 0.0-0.5725490196078431\n",
      "   6 mask = data['PM188'][1][6] (mask  #6 size (256, 256))\n",
      "\n",
      "Pt[k] = 'PM325'\n",
      "   0 img  = data['PM325'][0][0] (image #0 size (256, 256)) Pixel value range 0-184\n",
      "   0 img  = data['PM325'][0][0] (image #0 size (256, 256)) Pixel value range 0.0-0.7215686274509804\n",
      "   0 mask = data['PM325'][1][0] (mask  #0 size (256, 256))\n",
      "   1 img  = data['PM325'][0][1] (image #1 size (256, 256)) Pixel value range 0-186\n",
      "   1 img  = data['PM325'][0][1] (image #1 size (256, 256)) Pixel value range 0.0-0.7294117647058823\n",
      "   1 mask = data['PM325'][1][1] (mask  #1 size (256, 256))\n",
      "   2 img  = data['PM325'][0][2] (image #2 size (256, 256)) Pixel value range 0-193\n",
      "   2 img  = data['PM325'][0][2] (image #2 size (256, 256)) Pixel value range 0.0-0.7568627450980392\n",
      "   2 mask = data['PM325'][1][2] (mask  #2 size (256, 256))\n",
      "   3 img  = data['PM325'][0][3] (image #3 size (256, 256)) Pixel value range 0-203\n",
      "   3 img  = data['PM325'][0][3] (image #3 size (256, 256)) Pixel value range 0.0-0.796078431372549\n",
      "   3 mask = data['PM325'][1][3] (mask  #3 size (256, 256))\n",
      "   4 img  = data['PM325'][0][4] (image #4 size (256, 256)) Pixel value range 0-189\n",
      "   4 img  = data['PM325'][0][4] (image #4 size (256, 256)) Pixel value range 0.0-0.7411764705882353\n",
      "   4 mask = data['PM325'][1][4] (mask  #4 size (256, 256))\n",
      "   5 img  = data['PM325'][0][5] (image #5 size (256, 256)) Pixel value range 0-208\n",
      "   5 img  = data['PM325'][0][5] (image #5 size (256, 256)) Pixel value range 0.0-0.8156862745098039\n",
      "   5 mask = data['PM325'][1][5] (mask  #5 size (256, 256))\n",
      "   6 img  = data['PM325'][0][6] (image #6 size (256, 256)) Pixel value range 0-195\n",
      "   6 img  = data['PM325'][0][6] (image #6 size (256, 256)) Pixel value range 0.0-0.7647058823529411\n",
      "   6 mask = data['PM325'][1][6] (mask  #6 size (256, 256))\n",
      "\n",
      "Pt[k] = 'PM105'\n",
      "   0 img  = data['PM105'][0][0] (image #0 size (256, 256)) Pixel value range 0-140\n",
      "   0 img  = data['PM105'][0][0] (image #0 size (256, 256)) Pixel value range 0.0-0.5490196078431373\n",
      "   0 mask = data['PM105'][1][0] (mask  #0 size (256, 256))\n",
      "   1 img  = data['PM105'][0][1] (image #1 size (256, 256)) Pixel value range 0-148\n",
      "   1 img  = data['PM105'][0][1] (image #1 size (256, 256)) Pixel value range 0.0-0.5803921568627451\n",
      "   1 mask = data['PM105'][1][1] (mask  #1 size (256, 256))\n",
      "   2 img  = data['PM105'][0][2] (image #2 size (256, 256)) Pixel value range 0-168\n",
      "   2 img  = data['PM105'][0][2] (image #2 size (256, 256)) Pixel value range 0.0-0.6588235294117647\n",
      "   2 mask = data['PM105'][1][2] (mask  #2 size (256, 256))\n",
      "   3 img  = data['PM105'][0][3] (image #3 size (256, 256)) Pixel value range 0-190\n",
      "   3 img  = data['PM105'][0][3] (image #3 size (256, 256)) Pixel value range 0.0-0.7450980392156863\n",
      "   3 mask = data['PM105'][1][3] (mask  #3 size (256, 256))\n",
      "   4 img  = data['PM105'][0][4] (image #4 size (256, 256)) Pixel value range 0-187\n",
      "   4 img  = data['PM105'][0][4] (image #4 size (256, 256)) Pixel value range 0.0-0.7333333333333333\n",
      "   4 mask = data['PM105'][1][4] (mask  #4 size (256, 256))\n",
      "   5 img  = data['PM105'][0][5] (image #5 size (256, 256)) Pixel value range 0-204\n",
      "   5 img  = data['PM105'][0][5] (image #5 size (256, 256)) Pixel value range 0.0-0.8\n",
      "   5 mask = data['PM105'][1][5] (mask  #5 size (256, 256))\n",
      "\n",
      "Pt[k] = 'PM068'\n",
      "   0 img  = data['PM068'][0][0] (image #0 size (256, 256)) Pixel value range 0-244\n",
      "   0 img  = data['PM068'][0][0] (image #0 size (256, 256)) Pixel value range 0.0-0.9568627450980393\n",
      "   0 mask = data['PM068'][1][0] (mask  #0 size (256, 256))\n",
      "   1 img  = data['PM068'][0][1] (image #1 size (256, 256)) Pixel value range 0-171\n",
      "   1 img  = data['PM068'][0][1] (image #1 size (256, 256)) Pixel value range 0.0-0.6705882352941176\n",
      "   1 mask = data['PM068'][1][1] (mask  #1 size (256, 256))\n",
      "   2 img  = data['PM068'][0][2] (image #2 size (256, 256)) Pixel value range 0-178\n",
      "   2 img  = data['PM068'][0][2] (image #2 size (256, 256)) Pixel value range 0.0-0.6980392156862745\n",
      "   2 mask = data['PM068'][1][2] (mask  #2 size (256, 256))\n",
      "   3 img  = data['PM068'][0][3] (image #3 size (256, 256)) Pixel value range 0-193\n",
      "   3 img  = data['PM068'][0][3] (image #3 size (256, 256)) Pixel value range 0.0-0.7568627450980392\n",
      "   3 mask = data['PM068'][1][3] (mask  #3 size (256, 256))\n",
      "   4 img  = data['PM068'][0][4] (image #4 size (256, 256)) Pixel value range 0-170\n",
      "   4 img  = data['PM068'][0][4] (image #4 size (256, 256)) Pixel value range 0.0-0.6666666666666666\n",
      "   4 mask = data['PM068'][1][4] (mask  #4 size (256, 256))\n",
      "   5 img  = data['PM068'][0][5] (image #5 size (256, 256)) Pixel value range 0-165\n",
      "   5 img  = data['PM068'][0][5] (image #5 size (256, 256)) Pixel value range 0.0-0.6470588235294118\n",
      "   5 mask = data['PM068'][1][5] (mask  #5 size (256, 256))\n",
      "   6 img  = data['PM068'][0][6] (image #6 size (256, 256)) Pixel value range 0-141\n",
      "   6 img  = data['PM068'][0][6] (image #6 size (256, 256)) Pixel value range 0.0-0.5529411764705883\n",
      "   6 mask = data['PM068'][1][6] (mask  #6 size (256, 256))\n",
      "   7 img  = data['PM068'][0][7] (image #7 size (256, 256)) Pixel value range 0-141\n",
      "   7 img  = data['PM068'][0][7] (image #7 size (256, 256)) Pixel value range 0.0-0.5529411764705883\n",
      "   7 mask = data['PM068'][1][7] (mask  #7 size (256, 256))\n",
      "   8 img  = data['PM068'][0][8] (image #8 size (256, 256)) Pixel value range 0-162\n",
      "   8 img  = data['PM068'][0][8] (image #8 size (256, 256)) Pixel value range 0.0-0.6352941176470588\n",
      "   8 mask = data['PM068'][1][8] (mask  #8 size (256, 256))\n",
      "   9 img  = data['PM068'][0][9] (image #9 size (256, 256)) Pixel value range 0-150\n",
      "   9 img  = data['PM068'][0][9] (image #9 size (256, 256)) Pixel value range 0.0-0.5882352941176471\n",
      "   9 mask = data['PM068'][1][9] (mask  #9 size (256, 256))\n",
      "\n",
      "Pt[k] = 'PM014'\n",
      "   0 img  = data['PM014'][0][0] (image #0 size (256, 256)) Pixel value range 0-148\n",
      "   0 img  = data['PM014'][0][0] (image #0 size (256, 256)) Pixel value range 0.0-0.5803921568627451\n",
      "   0 mask = data['PM014'][1][0] (mask  #0 size (256, 256))\n",
      "   1 img  = data['PM014'][0][1] (image #1 size (256, 256)) Pixel value range 0-134\n",
      "   1 img  = data['PM014'][0][1] (image #1 size (256, 256)) Pixel value range 0.0-0.5254901960784314\n",
      "   1 mask = data['PM014'][1][1] (mask  #1 size (256, 256))\n",
      "   2 img  = data['PM014'][0][2] (image #2 size (256, 256)) Pixel value range 0-138\n",
      "   2 img  = data['PM014'][0][2] (image #2 size (256, 256)) Pixel value range 0.0-0.5411764705882353\n",
      "   2 mask = data['PM014'][1][2] (mask  #2 size (256, 256))\n",
      "   3 img  = data['PM014'][0][3] (image #3 size (256, 256)) Pixel value range 0-146\n",
      "   3 img  = data['PM014'][0][3] (image #3 size (256, 256)) Pixel value range 0.0-0.5725490196078431\n",
      "   3 mask = data['PM014'][1][3] (mask  #3 size (256, 256))\n",
      "   4 img  = data['PM014'][0][4] (image #4 size (256, 256)) Pixel value range 0-145\n",
      "   4 img  = data['PM014'][0][4] (image #4 size (256, 256)) Pixel value range 0.0-0.5686274509803921\n",
      "   4 mask = data['PM014'][1][4] (mask  #4 size (256, 256))\n",
      "   5 img  = data['PM014'][0][5] (image #5 size (256, 256)) Pixel value range 0-132\n",
      "   5 img  = data['PM014'][0][5] (image #5 size (256, 256)) Pixel value range 0.0-0.5176470588235295\n",
      "   5 mask = data['PM014'][1][5] (mask  #5 size (256, 256))\n",
      "   6 img  = data['PM014'][0][6] (image #6 size (256, 256)) Pixel value range 0-143\n",
      "   6 img  = data['PM014'][0][6] (image #6 size (256, 256)) Pixel value range 0.0-0.5607843137254902\n",
      "   6 mask = data['PM014'][1][6] (mask  #6 size (256, 256))\n",
      "\n",
      "Pt[k] = 'PM072'\n",
      "   0 img  = data['PM072'][0][0] (image #0 size (256, 256)) Pixel value range 0-200\n",
      "   0 img  = data['PM072'][0][0] (image #0 size (256, 256)) Pixel value range 0.0-0.7843137254901961\n",
      "   0 mask = data['PM072'][1][0] (mask  #0 size (256, 256))\n",
      "   1 img  = data['PM072'][0][1] (image #1 size (256, 256)) Pixel value range 0-210\n",
      "   1 img  = data['PM072'][0][1] (image #1 size (256, 256)) Pixel value range 0.0-0.8235294117647058\n",
      "   1 mask = data['PM072'][1][1] (mask  #1 size (256, 256))\n",
      "   2 img  = data['PM072'][0][2] (image #2 size (256, 256)) Pixel value range 0-260\n",
      "   2 img  = data['PM072'][0][2] (image #2 size (256, 256)) Pixel value range 0.0-1.0196078431372548\n",
      "   2 mask = data['PM072'][1][2] (mask  #2 size (256, 256))\n",
      "   3 img  = data['PM072'][0][3] (image #3 size (256, 256)) Pixel value range 0-279\n",
      "   3 img  = data['PM072'][0][3] (image #3 size (256, 256)) Pixel value range 0.0-1.0941176470588236\n",
      "   3 mask = data['PM072'][1][3] (mask  #3 size (256, 256))\n",
      "   4 img  = data['PM072'][0][4] (image #4 size (256, 256)) Pixel value range 0-275\n",
      "   4 img  = data['PM072'][0][4] (image #4 size (256, 256)) Pixel value range 0.0-1.0784313725490196\n",
      "   4 mask = data['PM072'][1][4] (mask  #4 size (256, 256))\n",
      "   5 img  = data['PM072'][0][5] (image #5 size (256, 256)) Pixel value range 0-288\n",
      "   5 img  = data['PM072'][0][5] (image #5 size (256, 256)) Pixel value range 0.0-1.1294117647058823\n",
      "   5 mask = data['PM072'][1][5] (mask  #5 size (256, 256))\n",
      "   6 img  = data['PM072'][0][6] (image #6 size (256, 256)) Pixel value range 0-575\n",
      "   6 img  = data['PM072'][0][6] (image #6 size (256, 256)) Pixel value range 0.0-2.2549019607843137\n",
      "   6 mask = data['PM072'][1][6] (mask  #6 size (256, 256))\n",
      "   7 img  = data['PM072'][0][7] (image #7 size (256, 256)) Pixel value range 0-292\n",
      "   7 img  = data['PM072'][0][7] (image #7 size (256, 256)) Pixel value range 0.0-1.1450980392156862\n",
      "   7 mask = data['PM072'][1][7] (mask  #7 size (256, 256))\n",
      "   8 img  = data['PM072'][0][8] (image #8 size (256, 256)) Pixel value range 0-281\n",
      "   8 img  = data['PM072'][0][8] (image #8 size (256, 256)) Pixel value range 0.0-1.1019607843137256\n",
      "   8 mask = data['PM072'][1][8] (mask  #8 size (256, 256))\n",
      "\n",
      "Pt[k] = 'PM304'\n",
      "   0 img  = data['PM304'][0][0] (image #0 size (256, 256)) Pixel value range 0-221\n",
      "   0 img  = data['PM304'][0][0] (image #0 size (256, 256)) Pixel value range 0.0-0.8666666666666667\n",
      "   0 mask = data['PM304'][1][0] (mask  #0 size (256, 256))\n",
      "   1 img  = data['PM304'][0][1] (image #1 size (256, 256)) Pixel value range 0-213\n",
      "   1 img  = data['PM304'][0][1] (image #1 size (256, 256)) Pixel value range 0.0-0.8352941176470589\n",
      "   1 mask = data['PM304'][1][1] (mask  #1 size (256, 256))\n",
      "   2 img  = data['PM304'][0][2] (image #2 size (256, 256)) Pixel value range 0-222\n",
      "   2 img  = data['PM304'][0][2] (image #2 size (256, 256)) Pixel value range 0.0-0.8705882352941177\n",
      "   2 mask = data['PM304'][1][2] (mask  #2 size (256, 256))\n",
      "   3 img  = data['PM304'][0][3] (image #3 size (256, 256)) Pixel value range 0-219\n",
      "   3 img  = data['PM304'][0][3] (image #3 size (256, 256)) Pixel value range 0.0-0.8588235294117647\n",
      "   3 mask = data['PM304'][1][3] (mask  #3 size (256, 256))\n",
      "   4 img  = data['PM304'][0][4] (image #4 size (256, 256)) Pixel value range 0-233\n",
      "   4 img  = data['PM304'][0][4] (image #4 size (256, 256)) Pixel value range 0.0-0.9137254901960784\n",
      "   4 mask = data['PM304'][1][4] (mask  #4 size (256, 256))\n",
      "   5 img  = data['PM304'][0][5] (image #5 size (256, 256)) Pixel value range 0-233\n",
      "   5 img  = data['PM304'][0][5] (image #5 size (256, 256)) Pixel value range 0.0-0.9137254901960784\n",
      "   5 mask = data['PM304'][1][5] (mask  #5 size (256, 256))\n",
      "   6 img  = data['PM304'][0][6] (image #6 size (256, 256)) Pixel value range 0-194\n",
      "   6 img  = data['PM304'][0][6] (image #6 size (256, 256)) Pixel value range 0.0-0.7607843137254902\n",
      "   6 mask = data['PM304'][1][6] (mask  #6 size (256, 256))\n",
      "   7 img  = data['PM304'][0][7] (image #7 size (256, 256)) Pixel value range 0-216\n",
      "   7 img  = data['PM304'][0][7] (image #7 size (256, 256)) Pixel value range 0.0-0.8470588235294118\n",
      "   7 mask = data['PM304'][1][7] (mask  #7 size (256, 256))\n",
      "\n",
      "Pt[k] = 'PM064'\n",
      "   0 img  = data['PM064'][0][0] (image #0 size (256, 256)) Pixel value range 0-466\n",
      "   0 img  = data['PM064'][0][0] (image #0 size (256, 256)) Pixel value range 0.0-1.8274509803921568\n",
      "   0 mask = data['PM064'][1][0] (mask  #0 size (256, 256))\n",
      "   1 img  = data['PM064'][0][1] (image #1 size (256, 256)) Pixel value range 0-397\n",
      "   1 img  = data['PM064'][0][1] (image #1 size (256, 256)) Pixel value range 0.0-1.5568627450980392\n",
      "   1 mask = data['PM064'][1][1] (mask  #1 size (256, 256))\n",
      "   2 img  = data['PM064'][0][2] (image #2 size (256, 256)) Pixel value range 0-573\n",
      "   2 img  = data['PM064'][0][2] (image #2 size (256, 256)) Pixel value range 0.0-2.2470588235294118\n",
      "   2 mask = data['PM064'][1][2] (mask  #2 size (256, 256))\n",
      "   3 img  = data['PM064'][0][3] (image #3 size (256, 256)) Pixel value range 0-456\n",
      "   3 img  = data['PM064'][0][3] (image #3 size (256, 256)) Pixel value range 0.0-1.7882352941176471\n",
      "   3 mask = data['PM064'][1][3] (mask  #3 size (256, 256))\n",
      "   4 img  = data['PM064'][0][4] (image #4 size (256, 256)) Pixel value range 0-320\n",
      "   4 img  = data['PM064'][0][4] (image #4 size (256, 256)) Pixel value range 0.0-1.2549019607843137\n",
      "   4 mask = data['PM064'][1][4] (mask  #4 size (256, 256))\n",
      "   5 img  = data['PM064'][0][5] (image #5 size (256, 256)) Pixel value range 0-320\n",
      "   5 img  = data['PM064'][0][5] (image #5 size (256, 256)) Pixel value range 0.0-1.2549019607843137\n",
      "   5 mask = data['PM064'][1][5] (mask  #5 size (256, 256))\n",
      "   6 img  = data['PM064'][0][6] (image #6 size (256, 256)) Pixel value range 0-316\n",
      "   6 img  = data['PM064'][0][6] (image #6 size (256, 256)) Pixel value range 0.0-1.2392156862745098\n",
      "   6 mask = data['PM064'][1][6] (mask  #6 size (256, 256))\n",
      "\n",
      "Pt[k] = 'PM330'\n",
      "   0 img  = data['PM330'][0][0] (image #0 size (256, 256)) Pixel value range 0-197\n",
      "   0 img  = data['PM330'][0][0] (image #0 size (256, 256)) Pixel value range 0.0-0.7725490196078432\n",
      "   0 mask = data['PM330'][1][0] (mask  #0 size (256, 256))\n",
      "   1 img  = data['PM330'][0][1] (image #1 size (256, 256)) Pixel value range 0-208\n",
      "   1 img  = data['PM330'][0][1] (image #1 size (256, 256)) Pixel value range 0.0-0.8156862745098039\n",
      "   1 mask = data['PM330'][1][1] (mask  #1 size (256, 256))\n",
      "   2 img  = data['PM330'][0][2] (image #2 size (256, 256)) Pixel value range 0-177\n",
      "   2 img  = data['PM330'][0][2] (image #2 size (256, 256)) Pixel value range 0.0-0.6941176470588235\n",
      "   2 mask = data['PM330'][1][2] (mask  #2 size (256, 256))\n",
      "   3 img  = data['PM330'][0][3] (image #3 size (256, 256)) Pixel value range 0-190\n",
      "   3 img  = data['PM330'][0][3] (image #3 size (256, 256)) Pixel value range 0.0-0.7450980392156863\n",
      "   3 mask = data['PM330'][1][3] (mask  #3 size (256, 256))\n",
      "   4 img  = data['PM330'][0][4] (image #4 size (256, 256)) Pixel value range 0-191\n",
      "   4 img  = data['PM330'][0][4] (image #4 size (256, 256)) Pixel value range 0.0-0.7490196078431373\n",
      "   4 mask = data['PM330'][1][4] (mask  #4 size (256, 256))\n",
      "   5 img  = data['PM330'][0][5] (image #5 size (256, 256)) Pixel value range 0-229\n",
      "   5 img  = data['PM330'][0][5] (image #5 size (256, 256)) Pixel value range 0.0-0.8980392156862745\n",
      "   5 mask = data['PM330'][1][5] (mask  #5 size (256, 256))\n",
      "\n",
      "Pt[k] = 'PM176'\n",
      "   0 img  = data['PM176'][0][0] (image #0 size (256, 256)) Pixel value range 0-231\n",
      "   0 img  = data['PM176'][0][0] (image #0 size (256, 256)) Pixel value range 0.0-0.9058823529411765\n",
      "   0 mask = data['PM176'][1][0] (mask  #0 size (256, 256))\n",
      "   1 img  = data['PM176'][0][1] (image #1 size (256, 256)) Pixel value range 0-224\n",
      "   1 img  = data['PM176'][0][1] (image #1 size (256, 256)) Pixel value range 0.0-0.8784313725490196\n",
      "   1 mask = data['PM176'][1][1] (mask  #1 size (256, 256))\n",
      "   2 img  = data['PM176'][0][2] (image #2 size (256, 256)) Pixel value range 0-220\n",
      "   2 img  = data['PM176'][0][2] (image #2 size (256, 256)) Pixel value range 0.0-0.8627450980392157\n",
      "   2 mask = data['PM176'][1][2] (mask  #2 size (256, 256))\n",
      "   3 img  = data['PM176'][0][3] (image #3 size (256, 256)) Pixel value range 0-223\n",
      "   3 img  = data['PM176'][0][3] (image #3 size (256, 256)) Pixel value range 0.0-0.8745098039215686\n",
      "   3 mask = data['PM176'][1][3] (mask  #3 size (256, 256))\n",
      "   4 img  = data['PM176'][0][4] (image #4 size (256, 256)) Pixel value range 0-208\n",
      "   4 img  = data['PM176'][0][4] (image #4 size (256, 256)) Pixel value range 0.0-0.8156862745098039\n",
      "   4 mask = data['PM176'][1][4] (mask  #4 size (256, 256))\n",
      "   5 img  = data['PM176'][0][5] (image #5 size (256, 256)) Pixel value range 0-197\n",
      "   5 img  = data['PM176'][0][5] (image #5 size (256, 256)) Pixel value range 0.0-0.7725490196078432\n",
      "   5 mask = data['PM176'][1][5] (mask  #5 size (256, 256))\n",
      "   6 img  = data['PM176'][0][6] (image #6 size (256, 256)) Pixel value range 0-192\n",
      "   6 img  = data['PM176'][0][6] (image #6 size (256, 256)) Pixel value range 0.0-0.7529411764705882\n",
      "   6 mask = data['PM176'][1][6] (mask  #6 size (256, 256))\n",
      "   7 img  = data['PM176'][0][7] (image #7 size (256, 256)) Pixel value range 0-205\n",
      "   7 img  = data['PM176'][0][7] (image #7 size (256, 256)) Pixel value range 0.0-0.803921568627451\n",
      "   7 mask = data['PM176'][1][7] (mask  #7 size (256, 256))\n",
      "\n",
      "Pt[k] = 'PM110'\n",
      "   0 img  = data['PM110'][0][0] (image #0 size (256, 256)) Pixel value range 0-146\n",
      "   0 img  = data['PM110'][0][0] (image #0 size (256, 256)) Pixel value range 0.0-0.5725490196078431\n",
      "   0 mask = data['PM110'][1][0] (mask  #0 size (256, 256))\n",
      "   1 img  = data['PM110'][0][1] (image #1 size (256, 256)) Pixel value range 0-178\n",
      "   1 img  = data['PM110'][0][1] (image #1 size (256, 256)) Pixel value range 0.0-0.6980392156862745\n",
      "   1 mask = data['PM110'][1][1] (mask  #1 size (256, 256))\n",
      "   2 img  = data['PM110'][0][2] (image #2 size (256, 256)) Pixel value range 0-183\n",
      "   2 img  = data['PM110'][0][2] (image #2 size (256, 256)) Pixel value range 0.0-0.7176470588235294\n",
      "   2 mask = data['PM110'][1][2] (mask  #2 size (256, 256))\n",
      "   3 img  = data['PM110'][0][3] (image #3 size (256, 256)) Pixel value range 0-188\n",
      "   3 img  = data['PM110'][0][3] (image #3 size (256, 256)) Pixel value range 0.0-0.7372549019607844\n",
      "   3 mask = data['PM110'][1][3] (mask  #3 size (256, 256))\n",
      "   4 img  = data['PM110'][0][4] (image #4 size (256, 256)) Pixel value range 0-201\n",
      "   4 img  = data['PM110'][0][4] (image #4 size (256, 256)) Pixel value range 0.0-0.788235294117647\n",
      "   4 mask = data['PM110'][1][4] (mask  #4 size (256, 256))\n",
      "   5 img  = data['PM110'][0][5] (image #5 size (256, 256)) Pixel value range 0-240\n",
      "   5 img  = data['PM110'][0][5] (image #5 size (256, 256)) Pixel value range 0.0-0.9411764705882353\n",
      "   5 mask = data['PM110'][1][5] (mask  #5 size (256, 256))\n",
      "\n",
      "Pt[k] = 'PM149'\n",
      "   0 img  = data['PM149'][0][0] (image #0 size (256, 256)) Pixel value range 0-81\n",
      "   0 img  = data['PM149'][0][0] (image #0 size (256, 256)) Pixel value range 0.0-0.3176470588235294\n",
      "   0 mask = data['PM149'][1][0] (mask  #0 size (256, 256))\n",
      "   1 img  = data['PM149'][0][1] (image #1 size (256, 256)) Pixel value range 0-78\n",
      "   1 img  = data['PM149'][0][1] (image #1 size (256, 256)) Pixel value range 0.0-0.3058823529411765\n",
      "   1 mask = data['PM149'][1][1] (mask  #1 size (256, 256))\n",
      "   2 img  = data['PM149'][0][2] (image #2 size (256, 256)) Pixel value range 0-68\n",
      "   2 img  = data['PM149'][0][2] (image #2 size (256, 256)) Pixel value range 0.0-0.26666666666666666\n",
      "   2 mask = data['PM149'][1][2] (mask  #2 size (256, 256))\n",
      "   3 img  = data['PM149'][0][3] (image #3 size (256, 256)) Pixel value range 0-66\n",
      "   3 img  = data['PM149'][0][3] (image #3 size (256, 256)) Pixel value range 0.0-0.25882352941176473\n",
      "   3 mask = data['PM149'][1][3] (mask  #3 size (256, 256))\n",
      "   4 img  = data['PM149'][0][4] (image #4 size (256, 256)) Pixel value range 0-62\n",
      "   4 img  = data['PM149'][0][4] (image #4 size (256, 256)) Pixel value range 0.0-0.24313725490196078\n",
      "   4 mask = data['PM149'][1][4] (mask  #4 size (256, 256))\n",
      "\n",
      "Pt[k] = 'PM255'\n",
      "   0 img  = data['PM255'][0][0] (image #0 size (256, 256)) Pixel value range 0-106\n",
      "   0 img  = data['PM255'][0][0] (image #0 size (256, 256)) Pixel value range 0.0-0.41568627450980394\n",
      "   0 mask = data['PM255'][1][0] (mask  #0 size (256, 256))\n",
      "   1 img  = data['PM255'][0][1] (image #1 size (256, 256)) Pixel value range 0-118\n",
      "   1 img  = data['PM255'][0][1] (image #1 size (256, 256)) Pixel value range 0.0-0.4627450980392157\n",
      "   1 mask = data['PM255'][1][1] (mask  #1 size (256, 256))\n",
      "   2 img  = data['PM255'][0][2] (image #2 size (256, 256)) Pixel value range 0-121\n",
      "   2 img  = data['PM255'][0][2] (image #2 size (256, 256)) Pixel value range 0.0-0.4745098039215686\n",
      "   2 mask = data['PM255'][1][2] (mask  #2 size (256, 256))\n",
      "   3 img  = data['PM255'][0][3] (image #3 size (256, 256)) Pixel value range 0-136\n",
      "   3 img  = data['PM255'][0][3] (image #3 size (256, 256)) Pixel value range 0.0-0.5333333333333333\n",
      "   3 mask = data['PM255'][1][3] (mask  #3 size (256, 256))\n",
      "   4 img  = data['PM255'][0][4] (image #4 size (256, 256)) Pixel value range 0-137\n",
      "   4 img  = data['PM255'][0][4] (image #4 size (256, 256)) Pixel value range 0.0-0.5372549019607843\n",
      "   4 mask = data['PM255'][1][4] (mask  #4 size (256, 256))\n",
      "   5 img  = data['PM255'][0][5] (image #5 size (256, 256)) Pixel value range 0-138\n",
      "   5 img  = data['PM255'][0][5] (image #5 size (256, 256)) Pixel value range 0.0-0.5411764705882353\n",
      "   5 mask = data['PM255'][1][5] (mask  #5 size (256, 256))\n",
      "\n",
      "Pt[k] = 'PM209'\n",
      "   0 img  = data['PM209'][0][0] (image #0 size (256, 256)) Pixel value range 0-238\n",
      "   0 img  = data['PM209'][0][0] (image #0 size (256, 256)) Pixel value range 0.0-0.9333333333333333\n",
      "   0 mask = data['PM209'][1][0] (mask  #0 size (256, 256))\n",
      "   1 img  = data['PM209'][0][1] (image #1 size (256, 256)) Pixel value range 0-244\n",
      "   1 img  = data['PM209'][0][1] (image #1 size (256, 256)) Pixel value range 0.0-0.9568627450980393\n",
      "   1 mask = data['PM209'][1][1] (mask  #1 size (256, 256))\n",
      "   2 img  = data['PM209'][0][2] (image #2 size (256, 256)) Pixel value range 0-226\n",
      "   2 img  = data['PM209'][0][2] (image #2 size (256, 256)) Pixel value range 0.0-0.8862745098039215\n",
      "   2 mask = data['PM209'][1][2] (mask  #2 size (256, 256))\n",
      "   3 img  = data['PM209'][0][3] (image #3 size (256, 256)) Pixel value range 0-249\n",
      "   3 img  = data['PM209'][0][3] (image #3 size (256, 256)) Pixel value range 0.0-0.9764705882352941\n",
      "   3 mask = data['PM209'][1][3] (mask  #3 size (256, 256))\n",
      "   4 img  = data['PM209'][0][4] (image #4 size (256, 256)) Pixel value range 0-237\n",
      "   4 img  = data['PM209'][0][4] (image #4 size (256, 256)) Pixel value range 0.0-0.9294117647058824\n",
      "   4 mask = data['PM209'][1][4] (mask  #4 size (256, 256))\n",
      "   5 img  = data['PM209'][0][5] (image #5 size (256, 256)) Pixel value range 0-250\n",
      "   5 img  = data['PM209'][0][5] (image #5 size (256, 256)) Pixel value range 0.0-0.9803921568627451\n",
      "   5 mask = data['PM209'][1][5] (mask  #5 size (256, 256))\n",
      "   6 img  = data['PM209'][0][6] (image #6 size (256, 256)) Pixel value range 0-252\n",
      "   6 img  = data['PM209'][0][6] (image #6 size (256, 256)) Pixel value range 0.0-0.9882352941176471\n",
      "   6 mask = data['PM209'][1][6] (mask  #6 size (256, 256))\n",
      "   7 img  = data['PM209'][0][7] (image #7 size (256, 256)) Pixel value range 0-200\n",
      "   7 img  = data['PM209'][0][7] (image #7 size (256, 256)) Pixel value range 0.0-0.7843137254901961\n",
      "   7 mask = data['PM209'][1][7] (mask  #7 size (256, 256))\n",
      "   8 img  = data['PM209'][0][8] (image #8 size (256, 256)) Pixel value range 0-192\n",
      "   8 img  = data['PM209'][0][8] (image #8 size (256, 256)) Pixel value range 0.0-0.7529411764705882\n",
      "   8 mask = data['PM209'][1][8] (mask  #8 size (256, 256))\n",
      "   9 img  = data['PM209'][0][9] (image #9 size (256, 256)) Pixel value range 0-211\n",
      "   9 img  = data['PM209'][0][9] (image #9 size (256, 256)) Pixel value range 0.0-0.8274509803921568\n",
      "   9 mask = data['PM209'][1][9] (mask  #9 size (256, 256))\n",
      "\n",
      "Pt[k] = 'PM267'\n",
      "   0 img  = data['PM267'][0][0] (image #0 size (256, 256)) Pixel value range 0-113\n",
      "   0 img  = data['PM267'][0][0] (image #0 size (256, 256)) Pixel value range 0.0-0.44313725490196076\n",
      "   0 mask = data['PM267'][1][0] (mask  #0 size (256, 256))\n",
      "   1 img  = data['PM267'][0][1] (image #1 size (256, 256)) Pixel value range 0-108\n",
      "   1 img  = data['PM267'][0][1] (image #1 size (256, 256)) Pixel value range 0.0-0.4235294117647059\n",
      "   1 mask = data['PM267'][1][1] (mask  #1 size (256, 256))\n",
      "   2 img  = data['PM267'][0][2] (image #2 size (256, 256)) Pixel value range 0-117\n",
      "   2 img  = data['PM267'][0][2] (image #2 size (256, 256)) Pixel value range 0.0-0.4588235294117647\n",
      "   2 mask = data['PM267'][1][2] (mask  #2 size (256, 256))\n",
      "   3 img  = data['PM267'][0][3] (image #3 size (256, 256)) Pixel value range 0-102\n",
      "   3 img  = data['PM267'][0][3] (image #3 size (256, 256)) Pixel value range 0.0-0.4\n",
      "   3 mask = data['PM267'][1][3] (mask  #3 size (256, 256))\n",
      "   4 img  = data['PM267'][0][4] (image #4 size (256, 256)) Pixel value range 0-95\n",
      "   4 img  = data['PM267'][0][4] (image #4 size (256, 256)) Pixel value range 0.0-0.37254901960784315\n",
      "   4 mask = data['PM267'][1][4] (mask  #4 size (256, 256))\n",
      "   5 img  = data['PM267'][0][5] (image #5 size (256, 256)) Pixel value range 0-100\n",
      "   5 img  = data['PM267'][0][5] (image #5 size (256, 256)) Pixel value range 0.0-0.39215686274509803\n",
      "   5 mask = data['PM267'][1][5] (mask  #5 size (256, 256))\n",
      "   6 img  = data['PM267'][0][6] (image #6 size (256, 256)) Pixel value range 0-104\n",
      "   6 img  = data['PM267'][0][6] (image #6 size (256, 256)) Pixel value range 0.0-0.40784313725490196\n",
      "   6 mask = data['PM267'][1][6] (mask  #6 size (256, 256))\n",
      "\n",
      "Pt[k] = 'PM074'\n",
      "   0 img  = data['PM074'][0][0] (image #0 size (256, 256)) Pixel value range 0-164\n",
      "   0 img  = data['PM074'][0][0] (image #0 size (256, 256)) Pixel value range 0.0-0.6431372549019608\n",
      "   0 mask = data['PM074'][1][0] (mask  #0 size (256, 256))\n",
      "   1 img  = data['PM074'][0][1] (image #1 size (256, 256)) Pixel value range 0-187\n",
      "   1 img  = data['PM074'][0][1] (image #1 size (256, 256)) Pixel value range 0.0-0.7333333333333333\n",
      "   1 mask = data['PM074'][1][1] (mask  #1 size (256, 256))\n",
      "   2 img  = data['PM074'][0][2] (image #2 size (256, 256)) Pixel value range 0-171\n",
      "   2 img  = data['PM074'][0][2] (image #2 size (256, 256)) Pixel value range 0.0-0.6705882352941176\n",
      "   2 mask = data['PM074'][1][2] (mask  #2 size (256, 256))\n",
      "   3 img  = data['PM074'][0][3] (image #3 size (256, 256)) Pixel value range 0-181\n",
      "   3 img  = data['PM074'][0][3] (image #3 size (256, 256)) Pixel value range 0.0-0.7098039215686275\n",
      "   3 mask = data['PM074'][1][3] (mask  #3 size (256, 256))\n",
      "   4 img  = data['PM074'][0][4] (image #4 size (256, 256)) Pixel value range 0-226\n",
      "   4 img  = data['PM074'][0][4] (image #4 size (256, 256)) Pixel value range 0.0-0.8862745098039215\n",
      "   4 mask = data['PM074'][1][4] (mask  #4 size (256, 256))\n",
      "\n",
      "Pt[k] = 'PM099'\n",
      "   0 img  = data['PM099'][0][0] (image #0 size (256, 256)) Pixel value range 0-180\n",
      "   0 img  = data['PM099'][0][0] (image #0 size (256, 256)) Pixel value range 0.0-0.7058823529411765\n",
      "   0 mask = data['PM099'][1][0] (mask  #0 size (256, 256))\n",
      "   1 img  = data['PM099'][0][1] (image #1 size (256, 256)) Pixel value range 0-194\n",
      "   1 img  = data['PM099'][0][1] (image #1 size (256, 256)) Pixel value range 0.0-0.7607843137254902\n",
      "   1 mask = data['PM099'][1][1] (mask  #1 size (256, 256))\n",
      "   2 img  = data['PM099'][0][2] (image #2 size (256, 256)) Pixel value range 0-194\n",
      "   2 img  = data['PM099'][0][2] (image #2 size (256, 256)) Pixel value range 0.0-0.7607843137254902\n",
      "   2 mask = data['PM099'][1][2] (mask  #2 size (256, 256))\n",
      "   3 img  = data['PM099'][0][3] (image #3 size (256, 256)) Pixel value range 0-196\n",
      "   3 img  = data['PM099'][0][3] (image #3 size (256, 256)) Pixel value range 0.0-0.7686274509803922\n",
      "   3 mask = data['PM099'][1][3] (mask  #3 size (256, 256))\n",
      "   4 img  = data['PM099'][0][4] (image #4 size (256, 256)) Pixel value range 0-200\n",
      "   4 img  = data['PM099'][0][4] (image #4 size (256, 256)) Pixel value range 0.0-0.7843137254901961\n",
      "   4 mask = data['PM099'][1][4] (mask  #4 size (256, 256))\n",
      "   5 img  = data['PM099'][0][5] (image #5 size (256, 256)) Pixel value range 0-203\n",
      "   5 img  = data['PM099'][0][5] (image #5 size (256, 256)) Pixel value range 0.0-0.796078431372549\n",
      "   5 mask = data['PM099'][1][5] (mask  #5 size (256, 256))\n",
      "   6 img  = data['PM099'][0][6] (image #6 size (256, 256)) Pixel value range 0-215\n",
      "   6 img  = data['PM099'][0][6] (image #6 size (256, 256)) Pixel value range 0.0-0.8431372549019608\n",
      "   6 mask = data['PM099'][1][6] (mask  #6 size (256, 256))\n",
      "   7 img  = data['PM099'][0][7] (image #7 size (256, 256)) Pixel value range 0-207\n",
      "   7 img  = data['PM099'][0][7] (image #7 size (256, 256)) Pixel value range 0.0-0.8117647058823529\n",
      "   7 mask = data['PM099'][1][7] (mask  #7 size (256, 256))\n",
      "\n",
      "Pt[k] = 'PM340'\n",
      "   0 img  = data['PM340'][0][0] (image #0 size (256, 256)) Pixel value range 0-432\n",
      "   0 img  = data['PM340'][0][0] (image #0 size (256, 256)) Pixel value range 0.0-1.6941176470588235\n",
      "   0 mask = data['PM340'][1][0] (mask  #0 size (256, 256))\n",
      "   1 img  = data['PM340'][0][1] (image #1 size (256, 256)) Pixel value range 0-783\n",
      "   1 img  = data['PM340'][0][1] (image #1 size (256, 256)) Pixel value range 0.0-3.070588235294118\n",
      "   1 mask = data['PM340'][1][1] (mask  #1 size (256, 256))\n",
      "   2 img  = data['PM340'][0][2] (image #2 size (256, 256)) Pixel value range 0-675\n",
      "   2 img  = data['PM340'][0][2] (image #2 size (256, 256)) Pixel value range 0.0-2.6470588235294117\n",
      "   2 mask = data['PM340'][1][2] (mask  #2 size (256, 256))\n",
      "   3 img  = data['PM340'][0][3] (image #3 size (256, 256)) Pixel value range 0-761\n",
      "   3 img  = data['PM340'][0][3] (image #3 size (256, 256)) Pixel value range 0.0-2.984313725490196\n",
      "   3 mask = data['PM340'][1][3] (mask  #3 size (256, 256))\n",
      "   4 img  = data['PM340'][0][4] (image #4 size (256, 256)) Pixel value range 0-916\n",
      "   4 img  = data['PM340'][0][4] (image #4 size (256, 256)) Pixel value range 0.0-3.592156862745098\n",
      "   4 mask = data['PM340'][1][4] (mask  #4 size (256, 256))\n",
      "   5 img  = data['PM340'][0][5] (image #5 size (256, 256)) Pixel value range 0-457\n",
      "   5 img  = data['PM340'][0][5] (image #5 size (256, 256)) Pixel value range 0.0-1.7921568627450981\n",
      "   5 mask = data['PM340'][1][5] (mask  #5 size (256, 256))\n",
      "   6 img  = data['PM340'][0][6] (image #6 size (256, 256)) Pixel value range 0-377\n",
      "   6 img  = data['PM340'][0][6] (image #6 size (256, 256)) Pixel value range 0.0-1.4784313725490197\n",
      "   6 mask = data['PM340'][1][6] (mask  #6 size (256, 256))\n",
      "\n",
      "Pt[k] = 'PM324'\n",
      "   0 img  = data['PM324'][0][0] (image #0 size (256, 256)) Pixel value range 0-389\n",
      "   0 img  = data['PM324'][0][0] (image #0 size (256, 256)) Pixel value range 0.0-1.5254901960784313\n",
      "   0 mask = data['PM324'][1][0] (mask  #0 size (256, 256))\n",
      "   1 img  = data['PM324'][0][1] (image #1 size (256, 256)) Pixel value range 0-416\n",
      "   1 img  = data['PM324'][0][1] (image #1 size (256, 256)) Pixel value range 0.0-1.6313725490196078\n",
      "   1 mask = data['PM324'][1][1] (mask  #1 size (256, 256))\n",
      "   2 img  = data['PM324'][0][2] (image #2 size (256, 256)) Pixel value range 0-399\n",
      "   2 img  = data['PM324'][0][2] (image #2 size (256, 256)) Pixel value range 0.0-1.5647058823529412\n",
      "   2 mask = data['PM324'][1][2] (mask  #2 size (256, 256))\n",
      "   3 img  = data['PM324'][0][3] (image #3 size (256, 256)) Pixel value range 0-432\n",
      "   3 img  = data['PM324'][0][3] (image #3 size (256, 256)) Pixel value range 0.0-1.6941176470588235\n",
      "   3 mask = data['PM324'][1][3] (mask  #3 size (256, 256))\n",
      "   4 img  = data['PM324'][0][4] (image #4 size (256, 256)) Pixel value range 0-452\n",
      "   4 img  = data['PM324'][0][4] (image #4 size (256, 256)) Pixel value range 0.0-1.772549019607843\n",
      "   4 mask = data['PM324'][1][4] (mask  #4 size (256, 256))\n",
      "   5 img  = data['PM324'][0][5] (image #5 size (256, 256)) Pixel value range 0-476\n",
      "   5 img  = data['PM324'][0][5] (image #5 size (256, 256)) Pixel value range 0.0-1.8666666666666667\n",
      "   5 mask = data['PM324'][1][5] (mask  #5 size (256, 256))\n",
      "\n",
      "Pt[k] = 'PM139'\n",
      "   0 img  = data['PM139'][0][0] (image #0 size (256, 256)) Pixel value range 0-172\n",
      "   0 img  = data['PM139'][0][0] (image #0 size (256, 256)) Pixel value range 0.0-0.6745098039215687\n",
      "   0 mask = data['PM139'][1][0] (mask  #0 size (256, 256))\n",
      "   1 img  = data['PM139'][0][1] (image #1 size (256, 256)) Pixel value range 0-132\n",
      "   1 img  = data['PM139'][0][1] (image #1 size (256, 256)) Pixel value range 0.0-0.5176470588235295\n",
      "   1 mask = data['PM139'][1][1] (mask  #1 size (256, 256))\n",
      "   2 img  = data['PM139'][0][2] (image #2 size (256, 256)) Pixel value range 0-159\n",
      "   2 img  = data['PM139'][0][2] (image #2 size (256, 256)) Pixel value range 0.0-0.6235294117647059\n",
      "   2 mask = data['PM139'][1][2] (mask  #2 size (256, 256))\n",
      "   3 img  = data['PM139'][0][3] (image #3 size (256, 256)) Pixel value range 0-185\n",
      "   3 img  = data['PM139'][0][3] (image #3 size (256, 256)) Pixel value range 0.0-0.7254901960784313\n",
      "   3 mask = data['PM139'][1][3] (mask  #3 size (256, 256))\n",
      "   4 img  = data['PM139'][0][4] (image #4 size (256, 256)) Pixel value range 0-194\n",
      "   4 img  = data['PM139'][0][4] (image #4 size (256, 256)) Pixel value range 0.0-0.7607843137254902\n",
      "   4 mask = data['PM139'][1][4] (mask  #4 size (256, 256))\n",
      "   5 img  = data['PM139'][0][5] (image #5 size (256, 256)) Pixel value range 0-174\n",
      "   5 img  = data['PM139'][0][5] (image #5 size (256, 256)) Pixel value range 0.0-0.6823529411764706\n",
      "   5 mask = data['PM139'][1][5] (mask  #5 size (256, 256))\n",
      "   6 img  = data['PM139'][0][6] (image #6 size (256, 256)) Pixel value range 0-246\n",
      "   6 img  = data['PM139'][0][6] (image #6 size (256, 256)) Pixel value range 0.0-0.9647058823529412\n",
      "   6 mask = data['PM139'][1][6] (mask  #6 size (256, 256))\n",
      "   7 img  = data['PM139'][0][7] (image #7 size (256, 256)) Pixel value range 0-174\n",
      "   7 img  = data['PM139'][0][7] (image #7 size (256, 256)) Pixel value range 0.0-0.6823529411764706\n",
      "   7 mask = data['PM139'][1][7] (mask  #7 size (256, 256))\n",
      "\n",
      "Pt[k] = 'PM298'\n",
      "   0 img  = data['PM298'][0][0] (image #0 size (256, 256)) Pixel value range 0-329\n",
      "   0 img  = data['PM298'][0][0] (image #0 size (256, 256)) Pixel value range 0.0-1.2901960784313726\n",
      "   0 mask = data['PM298'][1][0] (mask  #0 size (256, 256))\n",
      "   1 img  = data['PM298'][0][1] (image #1 size (256, 256)) Pixel value range 0-308\n",
      "   1 img  = data['PM298'][0][1] (image #1 size (256, 256)) Pixel value range 0.0-1.2078431372549019\n",
      "   1 mask = data['PM298'][1][1] (mask  #1 size (256, 256))\n",
      "   2 img  = data['PM298'][0][2] (image #2 size (256, 256)) Pixel value range 0-317\n",
      "   2 img  = data['PM298'][0][2] (image #2 size (256, 256)) Pixel value range 0.0-1.2431372549019608\n",
      "   2 mask = data['PM298'][1][2] (mask  #2 size (256, 256))\n",
      "   3 img  = data['PM298'][0][3] (image #3 size (256, 256)) Pixel value range 0-324\n",
      "   3 img  = data['PM298'][0][3] (image #3 size (256, 256)) Pixel value range 0.0-1.2705882352941176\n",
      "   3 mask = data['PM298'][1][3] (mask  #3 size (256, 256))\n",
      "   4 img  = data['PM298'][0][4] (image #4 size (256, 256)) Pixel value range 0-332\n",
      "   4 img  = data['PM298'][0][4] (image #4 size (256, 256)) Pixel value range 0.0-1.3019607843137255\n",
      "   4 mask = data['PM298'][1][4] (mask  #4 size (256, 256))\n",
      "   5 img  = data['PM298'][0][5] (image #5 size (256, 256)) Pixel value range 0-308\n",
      "   5 img  = data['PM298'][0][5] (image #5 size (256, 256)) Pixel value range 0.0-1.2078431372549019\n",
      "   5 mask = data['PM298'][1][5] (mask  #5 size (256, 256))\n",
      "   6 img  = data['PM298'][0][6] (image #6 size (256, 256)) Pixel value range 0-255\n",
      "   6 img  = data['PM298'][0][6] (image #6 size (256, 256)) Pixel value range 0.0-1.0\n",
      "   6 mask = data['PM298'][1][6] (mask  #6 size (256, 256))\n",
      "   7 img  = data['PM298'][0][7] (image #7 size (256, 256)) Pixel value range 0-261\n",
      "   7 img  = data['PM298'][0][7] (image #7 size (256, 256)) Pixel value range 0.0-1.0235294117647058\n",
      "   7 mask = data['PM298'][1][7] (mask  #7 size (256, 256))\n",
      "\n",
      "Pt[k] = 'PM277'\n",
      "   0 img  = data['PM277'][0][0] (image #0 size (256, 256)) Pixel value range 0-179\n",
      "   0 img  = data['PM277'][0][0] (image #0 size (256, 256)) Pixel value range 0.0-0.7019607843137254\n",
      "   0 mask = data['PM277'][1][0] (mask  #0 size (256, 256))\n",
      "   1 img  = data['PM277'][0][1] (image #1 size (256, 256)) Pixel value range 0-185\n",
      "   1 img  = data['PM277'][0][1] (image #1 size (256, 256)) Pixel value range 0.0-0.7254901960784313\n",
      "   1 mask = data['PM277'][1][1] (mask  #1 size (256, 256))\n",
      "   2 img  = data['PM277'][0][2] (image #2 size (256, 256)) Pixel value range 0-163\n",
      "   2 img  = data['PM277'][0][2] (image #2 size (256, 256)) Pixel value range 0.0-0.6392156862745098\n",
      "   2 mask = data['PM277'][1][2] (mask  #2 size (256, 256))\n",
      "   3 img  = data['PM277'][0][3] (image #3 size (256, 256)) Pixel value range 0-196\n",
      "   3 img  = data['PM277'][0][3] (image #3 size (256, 256)) Pixel value range 0.0-0.7686274509803922\n",
      "   3 mask = data['PM277'][1][3] (mask  #3 size (256, 256))\n",
      "   4 img  = data['PM277'][0][4] (image #4 size (256, 256)) Pixel value range 0-198\n",
      "   4 img  = data['PM277'][0][4] (image #4 size (256, 256)) Pixel value range 0.0-0.7764705882352941\n",
      "   4 mask = data['PM277'][1][4] (mask  #4 size (256, 256))\n",
      "   5 img  = data['PM277'][0][5] (image #5 size (256, 256)) Pixel value range 0-210\n",
      "   5 img  = data['PM277'][0][5] (image #5 size (256, 256)) Pixel value range 0.0-0.8235294117647058\n",
      "   5 mask = data['PM277'][1][5] (mask  #5 size (256, 256))\n",
      "   6 img  = data['PM277'][0][6] (image #6 size (256, 256)) Pixel value range 0-217\n",
      "   6 img  = data['PM277'][0][6] (image #6 size (256, 256)) Pixel value range 0.0-0.8509803921568627\n",
      "   6 mask = data['PM277'][1][6] (mask  #6 size (256, 256))\n",
      "\n",
      "Pt[k] = 'PM310'\n",
      "   0 img  = data['PM310'][0][0] (image #0 size (256, 256)) Pixel value range 0-139\n",
      "   0 img  = data['PM310'][0][0] (image #0 size (256, 256)) Pixel value range 0.0-0.5450980392156862\n",
      "   0 mask = data['PM310'][1][0] (mask  #0 size (256, 256))\n",
      "   1 img  = data['PM310'][0][1] (image #1 size (256, 256)) Pixel value range 0-161\n",
      "   1 img  = data['PM310'][0][1] (image #1 size (256, 256)) Pixel value range 0.0-0.6313725490196078\n",
      "   1 mask = data['PM310'][1][1] (mask  #1 size (256, 256))\n",
      "   2 img  = data['PM310'][0][2] (image #2 size (256, 256)) Pixel value range 0-139\n",
      "   2 img  = data['PM310'][0][2] (image #2 size (256, 256)) Pixel value range 0.0-0.5450980392156862\n",
      "   2 mask = data['PM310'][1][2] (mask  #2 size (256, 256))\n",
      "   3 img  = data['PM310'][0][3] (image #3 size (256, 256)) Pixel value range 0-141\n",
      "   3 img  = data['PM310'][0][3] (image #3 size (256, 256)) Pixel value range 0.0-0.5529411764705883\n",
      "   3 mask = data['PM310'][1][3] (mask  #3 size (256, 256))\n",
      "   4 img  = data['PM310'][0][4] (image #4 size (256, 256)) Pixel value range 0-154\n",
      "   4 img  = data['PM310'][0][4] (image #4 size (256, 256)) Pixel value range 0.0-0.6039215686274509\n",
      "   4 mask = data['PM310'][1][4] (mask  #4 size (256, 256))\n",
      "   5 img  = data['PM310'][0][5] (image #5 size (256, 256)) Pixel value range 0-148\n",
      "   5 img  = data['PM310'][0][5] (image #5 size (256, 256)) Pixel value range 0.0-0.5803921568627451\n",
      "   5 mask = data['PM310'][1][5] (mask  #5 size (256, 256))\n",
      "\n",
      "Pt[k] = 'PM038'\n",
      "   0 img  = data['PM038'][0][0] (image #0 size (256, 256)) Pixel value range 0-212\n",
      "   0 img  = data['PM038'][0][0] (image #0 size (256, 256)) Pixel value range 0.0-0.8313725490196079\n",
      "   0 mask = data['PM038'][1][0] (mask  #0 size (256, 256))\n",
      "   1 img  = data['PM038'][0][1] (image #1 size (256, 256)) Pixel value range 0-230\n",
      "   1 img  = data['PM038'][0][1] (image #1 size (256, 256)) Pixel value range 0.0-0.9019607843137255\n",
      "   1 mask = data['PM038'][1][1] (mask  #1 size (256, 256))\n",
      "   2 img  = data['PM038'][0][2] (image #2 size (256, 256)) Pixel value range 0-219\n",
      "   2 img  = data['PM038'][0][2] (image #2 size (256, 256)) Pixel value range 0.0-0.8588235294117647\n",
      "   2 mask = data['PM038'][1][2] (mask  #2 size (256, 256))\n",
      "   3 img  = data['PM038'][0][3] (image #3 size (256, 256)) Pixel value range 0-234\n",
      "   3 img  = data['PM038'][0][3] (image #3 size (256, 256)) Pixel value range 0.0-0.9176470588235294\n",
      "   3 mask = data['PM038'][1][3] (mask  #3 size (256, 256))\n",
      "   4 img  = data['PM038'][0][4] (image #4 size (256, 256)) Pixel value range 0-247\n",
      "   4 img  = data['PM038'][0][4] (image #4 size (256, 256)) Pixel value range 0.0-0.9686274509803922\n",
      "   4 mask = data['PM038'][1][4] (mask  #4 size (256, 256))\n",
      "   5 img  = data['PM038'][0][5] (image #5 size (256, 256)) Pixel value range 0-234\n",
      "   5 img  = data['PM038'][0][5] (image #5 size (256, 256)) Pixel value range 0.0-0.9176470588235294\n",
      "   5 mask = data['PM038'][1][5] (mask  #5 size (256, 256))\n",
      "   6 img  = data['PM038'][0][6] (image #6 size (256, 256)) Pixel value range 0-242\n",
      "   6 img  = data['PM038'][0][6] (image #6 size (256, 256)) Pixel value range 0.0-0.9490196078431372\n",
      "   6 mask = data['PM038'][1][6] (mask  #6 size (256, 256))\n",
      "   7 img  = data['PM038'][0][7] (image #7 size (256, 256)) Pixel value range 0-226\n",
      "   7 img  = data['PM038'][0][7] (image #7 size (256, 256)) Pixel value range 0.0-0.8862745098039215\n",
      "   7 mask = data['PM038'][1][7] (mask  #7 size (256, 256))\n",
      "\n",
      "Pt[k] = 'PM317'\n",
      "   0 img  = data['PM317'][0][0] (image #0 size (256, 256)) Pixel value range 0-387\n",
      "   0 img  = data['PM317'][0][0] (image #0 size (256, 256)) Pixel value range 0.0-1.5176470588235293\n",
      "   0 mask = data['PM317'][1][0] (mask  #0 size (256, 256))\n",
      "   1 img  = data['PM317'][0][1] (image #1 size (256, 256)) Pixel value range 0-481\n",
      "   1 img  = data['PM317'][0][1] (image #1 size (256, 256)) Pixel value range 0.0-1.8862745098039215\n",
      "   1 mask = data['PM317'][1][1] (mask  #1 size (256, 256))\n",
      "   2 img  = data['PM317'][0][2] (image #2 size (256, 256)) Pixel value range 0-393\n",
      "   2 img  = data['PM317'][0][2] (image #2 size (256, 256)) Pixel value range 0.0-1.5411764705882354\n",
      "   2 mask = data['PM317'][1][2] (mask  #2 size (256, 256))\n",
      "   3 img  = data['PM317'][0][3] (image #3 size (256, 256)) Pixel value range 0-463\n",
      "   3 img  = data['PM317'][0][3] (image #3 size (256, 256)) Pixel value range 0.0-1.815686274509804\n",
      "   3 mask = data['PM317'][1][3] (mask  #3 size (256, 256))\n",
      "   4 img  = data['PM317'][0][4] (image #4 size (256, 256)) Pixel value range 0-414\n",
      "   4 img  = data['PM317'][0][4] (image #4 size (256, 256)) Pixel value range 0.0-1.6235294117647059\n",
      "   4 mask = data['PM317'][1][4] (mask  #4 size (256, 256))\n",
      "   5 img  = data['PM317'][0][5] (image #5 size (256, 256)) Pixel value range 0-321\n",
      "   5 img  = data['PM317'][0][5] (image #5 size (256, 256)) Pixel value range 0.0-1.2588235294117647\n",
      "   5 mask = data['PM317'][1][5] (mask  #5 size (256, 256))\n",
      "   6 img  = data['PM317'][0][6] (image #6 size (256, 256)) Pixel value range 0-296\n",
      "   6 img  = data['PM317'][0][6] (image #6 size (256, 256)) Pixel value range 0.0-1.1607843137254903\n",
      "   6 mask = data['PM317'][1][6] (mask  #6 size (256, 256))\n",
      "\n",
      "Pt[k] = 'PM131'\n",
      "   0 img  = data['PM131'][0][0] (image #0 size (256, 256)) Pixel value range 0-127\n",
      "   0 img  = data['PM131'][0][0] (image #0 size (256, 256)) Pixel value range 0.0-0.4980392156862745\n",
      "   0 mask = data['PM131'][1][0] (mask  #0 size (256, 256))\n",
      "   1 img  = data['PM131'][0][1] (image #1 size (256, 256)) Pixel value range 0-129\n",
      "   1 img  = data['PM131'][0][1] (image #1 size (256, 256)) Pixel value range 0.0-0.5058823529411764\n",
      "   1 mask = data['PM131'][1][1] (mask  #1 size (256, 256))\n",
      "   2 img  = data['PM131'][0][2] (image #2 size (256, 256)) Pixel value range 0-139\n",
      "   2 img  = data['PM131'][0][2] (image #2 size (256, 256)) Pixel value range 0.0-0.5450980392156862\n",
      "   2 mask = data['PM131'][1][2] (mask  #2 size (256, 256))\n",
      "   3 img  = data['PM131'][0][3] (image #3 size (256, 256)) Pixel value range 0-166\n",
      "   3 img  = data['PM131'][0][3] (image #3 size (256, 256)) Pixel value range 0.0-0.6509803921568628\n",
      "   3 mask = data['PM131'][1][3] (mask  #3 size (256, 256))\n",
      "   4 img  = data['PM131'][0][4] (image #4 size (256, 256)) Pixel value range 0-213\n",
      "   4 img  = data['PM131'][0][4] (image #4 size (256, 256)) Pixel value range 0.0-0.8352941176470589\n",
      "   4 mask = data['PM131'][1][4] (mask  #4 size (256, 256))\n",
      "   5 img  = data['PM131'][0][5] (image #5 size (256, 256)) Pixel value range 0-160\n",
      "   5 img  = data['PM131'][0][5] (image #5 size (256, 256)) Pixel value range 0.0-0.6274509803921569\n",
      "   5 mask = data['PM131'][1][5] (mask  #5 size (256, 256))\n",
      "   6 img  = data['PM131'][0][6] (image #6 size (256, 256)) Pixel value range 0-208\n",
      "   6 img  = data['PM131'][0][6] (image #6 size (256, 256)) Pixel value range 0.0-0.8156862745098039\n",
      "   6 mask = data['PM131'][1][6] (mask  #6 size (256, 256))\n",
      "\n",
      "Pt[k] = 'PM269'\n",
      "   0 img  = data['PM269'][0][0] (image #0 size (256, 256)) Pixel value range 0-238\n",
      "   0 img  = data['PM269'][0][0] (image #0 size (256, 256)) Pixel value range 0.0-0.9333333333333333\n",
      "   0 mask = data['PM269'][1][0] (mask  #0 size (256, 256))\n",
      "   1 img  = data['PM269'][0][1] (image #1 size (256, 256)) Pixel value range 0-212\n",
      "   1 img  = data['PM269'][0][1] (image #1 size (256, 256)) Pixel value range 0.0-0.8313725490196079\n",
      "   1 mask = data['PM269'][1][1] (mask  #1 size (256, 256))\n",
      "   2 img  = data['PM269'][0][2] (image #2 size (256, 256)) Pixel value range 0-220\n",
      "   2 img  = data['PM269'][0][2] (image #2 size (256, 256)) Pixel value range 0.0-0.8627450980392157\n",
      "   2 mask = data['PM269'][1][2] (mask  #2 size (256, 256))\n",
      "   3 img  = data['PM269'][0][3] (image #3 size (256, 256)) Pixel value range 0-225\n",
      "   3 img  = data['PM269'][0][3] (image #3 size (256, 256)) Pixel value range 0.0-0.8823529411764706\n",
      "   3 mask = data['PM269'][1][3] (mask  #3 size (256, 256))\n",
      "   4 img  = data['PM269'][0][4] (image #4 size (256, 256)) Pixel value range 0-230\n",
      "   4 img  = data['PM269'][0][4] (image #4 size (256, 256)) Pixel value range 0.0-0.9019607843137255\n",
      "   4 mask = data['PM269'][1][4] (mask  #4 size (256, 256))\n",
      "   5 img  = data['PM269'][0][5] (image #5 size (256, 256)) Pixel value range 0-213\n",
      "   5 img  = data['PM269'][0][5] (image #5 size (256, 256)) Pixel value range 0.0-0.8352941176470589\n",
      "   5 mask = data['PM269'][1][5] (mask  #5 size (256, 256))\n",
      "   6 img  = data['PM269'][0][6] (image #6 size (256, 256)) Pixel value range 0-206\n",
      "   6 img  = data['PM269'][0][6] (image #6 size (256, 256)) Pixel value range 0.0-0.807843137254902\n",
      "   6 mask = data['PM269'][1][6] (mask  #6 size (256, 256))\n",
      "\n",
      "Pt[k] = 'PM039'\n",
      "   0 img  = data['PM039'][0][0] (image #0 size (256, 256)) Pixel value range 0-173\n",
      "   0 img  = data['PM039'][0][0] (image #0 size (256, 256)) Pixel value range 0.0-0.6784313725490196\n",
      "   0 mask = data['PM039'][1][0] (mask  #0 size (256, 256))\n",
      "   1 img  = data['PM039'][0][1] (image #1 size (256, 256)) Pixel value range 0-206\n",
      "   1 img  = data['PM039'][0][1] (image #1 size (256, 256)) Pixel value range 0.0-0.807843137254902\n",
      "   1 mask = data['PM039'][1][1] (mask  #1 size (256, 256))\n",
      "   2 img  = data['PM039'][0][2] (image #2 size (256, 256)) Pixel value range 0-234\n",
      "   2 img  = data['PM039'][0][2] (image #2 size (256, 256)) Pixel value range 0.0-0.9176470588235294\n",
      "   2 mask = data['PM039'][1][2] (mask  #2 size (256, 256))\n",
      "   3 img  = data['PM039'][0][3] (image #3 size (256, 256)) Pixel value range 0-221\n",
      "   3 img  = data['PM039'][0][3] (image #3 size (256, 256)) Pixel value range 0.0-0.8666666666666667\n",
      "   3 mask = data['PM039'][1][3] (mask  #3 size (256, 256))\n",
      "   4 img  = data['PM039'][0][4] (image #4 size (256, 256)) Pixel value range 0-276\n",
      "   4 img  = data['PM039'][0][4] (image #4 size (256, 256)) Pixel value range 0.0-1.0823529411764705\n",
      "   4 mask = data['PM039'][1][4] (mask  #4 size (256, 256))\n",
      "   5 img  = data['PM039'][0][5] (image #5 size (256, 256)) Pixel value range 0-219\n",
      "   5 img  = data['PM039'][0][5] (image #5 size (256, 256)) Pixel value range 0.0-0.8588235294117647\n",
      "   5 mask = data['PM039'][1][5] (mask  #5 size (256, 256))\n",
      "   6 img  = data['PM039'][0][6] (image #6 size (256, 256)) Pixel value range 0-231\n",
      "   6 img  = data['PM039'][0][6] (image #6 size (256, 256)) Pixel value range 0.0-0.9058823529411765\n",
      "   6 mask = data['PM039'][1][6] (mask  #6 size (256, 256))\n",
      "\n",
      "Pt[k] = 'PM132'\n",
      "   0 img  = data['PM132'][0][0] (image #0 size (256, 256)) Pixel value range 0-79\n",
      "   0 img  = data['PM132'][0][0] (image #0 size (256, 256)) Pixel value range 0.0-0.30980392156862746\n",
      "   0 mask = data['PM132'][1][0] (mask  #0 size (256, 256))\n",
      "   1 img  = data['PM132'][0][1] (image #1 size (256, 256)) Pixel value range 0-72\n",
      "   1 img  = data['PM132'][0][1] (image #1 size (256, 256)) Pixel value range 0.0-0.2823529411764706\n",
      "   1 mask = data['PM132'][1][1] (mask  #1 size (256, 256))\n",
      "   2 img  = data['PM132'][0][2] (image #2 size (256, 256)) Pixel value range 0-72\n",
      "   2 img  = data['PM132'][0][2] (image #2 size (256, 256)) Pixel value range 0.0-0.2823529411764706\n",
      "   2 mask = data['PM132'][1][2] (mask  #2 size (256, 256))\n",
      "   3 img  = data['PM132'][0][3] (image #3 size (256, 256)) Pixel value range 0-79\n",
      "   3 img  = data['PM132'][0][3] (image #3 size (256, 256)) Pixel value range 0.0-0.30980392156862746\n",
      "   3 mask = data['PM132'][1][3] (mask  #3 size (256, 256))\n",
      "   4 img  = data['PM132'][0][4] (image #4 size (256, 256)) Pixel value range 0-75\n",
      "   4 img  = data['PM132'][0][4] (image #4 size (256, 256)) Pixel value range 0.0-0.29411764705882354\n",
      "   4 mask = data['PM132'][1][4] (mask  #4 size (256, 256))\n",
      "   5 img  = data['PM132'][0][5] (image #5 size (256, 256)) Pixel value range 0-104\n",
      "   5 img  = data['PM132'][0][5] (image #5 size (256, 256)) Pixel value range 0.0-0.40784313725490196\n",
      "   5 mask = data['PM132'][1][5] (mask  #5 size (256, 256))\n",
      "   6 img  = data['PM132'][0][6] (image #6 size (256, 256)) Pixel value range 0-83\n",
      "   6 img  = data['PM132'][0][6] (image #6 size (256, 256)) Pixel value range 0.0-0.3254901960784314\n",
      "   6 mask = data['PM132'][1][6] (mask  #6 size (256, 256))\n",
      "\n",
      "Pt[k] = 'PM080'\n",
      "   0 img  = data['PM080'][0][0] (image #0 size (256, 256)) Pixel value range 0-163\n",
      "   0 img  = data['PM080'][0][0] (image #0 size (256, 256)) Pixel value range 0.0-0.6392156862745098\n",
      "   0 mask = data['PM080'][1][0] (mask  #0 size (256, 256))\n",
      "   1 img  = data['PM080'][0][1] (image #1 size (256, 256)) Pixel value range 0-132\n",
      "   1 img  = data['PM080'][0][1] (image #1 size (256, 256)) Pixel value range 0.0-0.5176470588235295\n",
      "   1 mask = data['PM080'][1][1] (mask  #1 size (256, 256))\n",
      "   2 img  = data['PM080'][0][2] (image #2 size (256, 256)) Pixel value range 0-137\n",
      "   2 img  = data['PM080'][0][2] (image #2 size (256, 256)) Pixel value range 0.0-0.5372549019607843\n",
      "   2 mask = data['PM080'][1][2] (mask  #2 size (256, 256))\n",
      "   3 img  = data['PM080'][0][3] (image #3 size (256, 256)) Pixel value range 0-150\n",
      "   3 img  = data['PM080'][0][3] (image #3 size (256, 256)) Pixel value range 0.0-0.5882352941176471\n",
      "   3 mask = data['PM080'][1][3] (mask  #3 size (256, 256))\n",
      "   4 img  = data['PM080'][0][4] (image #4 size (256, 256)) Pixel value range 0-135\n",
      "   4 img  = data['PM080'][0][4] (image #4 size (256, 256)) Pixel value range 0.0-0.5294117647058824\n",
      "   4 mask = data['PM080'][1][4] (mask  #4 size (256, 256))\n",
      "   5 img  = data['PM080'][0][5] (image #5 size (256, 256)) Pixel value range 0-142\n",
      "   5 img  = data['PM080'][0][5] (image #5 size (256, 256)) Pixel value range 0.0-0.5568627450980392\n",
      "   5 mask = data['PM080'][1][5] (mask  #5 size (256, 256))\n",
      "   6 img  = data['PM080'][0][6] (image #6 size (256, 256)) Pixel value range 0-135\n",
      "   6 img  = data['PM080'][0][6] (image #6 size (256, 256)) Pixel value range 0.0-0.5294117647058824\n",
      "   6 mask = data['PM080'][1][6] (mask  #6 size (256, 256))\n",
      "   7 img  = data['PM080'][0][7] (image #7 size (256, 256)) Pixel value range 0-123\n",
      "   7 img  = data['PM080'][0][7] (image #7 size (256, 256)) Pixel value range 0.0-0.4823529411764706\n",
      "   7 mask = data['PM080'][1][7] (mask  #7 size (256, 256))\n",
      "\n",
      "Pt[k] = 'PM067'\n",
      "   0 img  = data['PM067'][0][0] (image #0 size (256, 256)) Pixel value range 0-196\n",
      "   0 img  = data['PM067'][0][0] (image #0 size (256, 256)) Pixel value range 0.0-0.7686274509803922\n",
      "   0 mask = data['PM067'][1][0] (mask  #0 size (256, 256))\n",
      "   1 img  = data['PM067'][0][1] (image #1 size (256, 256)) Pixel value range 0-207\n",
      "   1 img  = data['PM067'][0][1] (image #1 size (256, 256)) Pixel value range 0.0-0.8117647058823529\n",
      "   1 mask = data['PM067'][1][1] (mask  #1 size (256, 256))\n",
      "   2 img  = data['PM067'][0][2] (image #2 size (256, 256)) Pixel value range 0-217\n",
      "   2 img  = data['PM067'][0][2] (image #2 size (256, 256)) Pixel value range 0.0-0.8509803921568627\n",
      "   2 mask = data['PM067'][1][2] (mask  #2 size (256, 256))\n",
      "   3 img  = data['PM067'][0][3] (image #3 size (256, 256)) Pixel value range 0-211\n",
      "   3 img  = data['PM067'][0][3] (image #3 size (256, 256)) Pixel value range 0.0-0.8274509803921568\n",
      "   3 mask = data['PM067'][1][3] (mask  #3 size (256, 256))\n",
      "   4 img  = data['PM067'][0][4] (image #4 size (256, 256)) Pixel value range 0-216\n",
      "   4 img  = data['PM067'][0][4] (image #4 size (256, 256)) Pixel value range 0.0-0.8470588235294118\n",
      "   4 mask = data['PM067'][1][4] (mask  #4 size (256, 256))\n",
      "   5 img  = data['PM067'][0][5] (image #5 size (256, 256)) Pixel value range 0-239\n",
      "   5 img  = data['PM067'][0][5] (image #5 size (256, 256)) Pixel value range 0.0-0.9372549019607843\n",
      "   5 mask = data['PM067'][1][5] (mask  #5 size (256, 256))\n",
      "   6 img  = data['PM067'][0][6] (image #6 size (256, 256)) Pixel value range 0-238\n",
      "   6 img  = data['PM067'][0][6] (image #6 size (256, 256)) Pixel value range 0.0-0.9333333333333333\n",
      "   6 mask = data['PM067'][1][6] (mask  #6 size (256, 256))\n",
      "\n",
      "Pt[k] = 'PM273'\n",
      "   0 img  = data['PM273'][0][0] (image #0 size (256, 256)) Pixel value range 0-223\n",
      "   0 img  = data['PM273'][0][0] (image #0 size (256, 256)) Pixel value range 0.0-0.8745098039215686\n",
      "   0 mask = data['PM273'][1][0] (mask  #0 size (256, 256))\n",
      "   1 img  = data['PM273'][0][1] (image #1 size (256, 256)) Pixel value range 0-227\n",
      "   1 img  = data['PM273'][0][1] (image #1 size (256, 256)) Pixel value range 0.0-0.8901960784313725\n",
      "   1 mask = data['PM273'][1][1] (mask  #1 size (256, 256))\n",
      "   2 img  = data['PM273'][0][2] (image #2 size (256, 256)) Pixel value range 0-175\n",
      "   2 img  = data['PM273'][0][2] (image #2 size (256, 256)) Pixel value range 0.0-0.6862745098039216\n",
      "   2 mask = data['PM273'][1][2] (mask  #2 size (256, 256))\n",
      "   3 img  = data['PM273'][0][3] (image #3 size (256, 256)) Pixel value range 0-182\n",
      "   3 img  = data['PM273'][0][3] (image #3 size (256, 256)) Pixel value range 0.0-0.7137254901960784\n",
      "   3 mask = data['PM273'][1][3] (mask  #3 size (256, 256))\n",
      "   4 img  = data['PM273'][0][4] (image #4 size (256, 256)) Pixel value range 0-184\n",
      "   4 img  = data['PM273'][0][4] (image #4 size (256, 256)) Pixel value range 0.0-0.7215686274509804\n",
      "   4 mask = data['PM273'][1][4] (mask  #4 size (256, 256))\n",
      "   5 img  = data['PM273'][0][5] (image #5 size (256, 256)) Pixel value range 0-185\n",
      "   5 img  = data['PM273'][0][5] (image #5 size (256, 256)) Pixel value range 0.0-0.7254901960784313\n",
      "   5 mask = data['PM273'][1][5] (mask  #5 size (256, 256))\n",
      "   6 img  = data['PM273'][0][6] (image #6 size (256, 256)) Pixel value range 0-190\n",
      "   6 img  = data['PM273'][0][6] (image #6 size (256, 256)) Pixel value range 0.0-0.7450980392156863\n",
      "   6 mask = data['PM273'][1][6] (mask  #6 size (256, 256))\n",
      "   7 img  = data['PM273'][0][7] (image #7 size (256, 256)) Pixel value range 0-172\n",
      "   7 img  = data['PM273'][0][7] (image #7 size (256, 256)) Pixel value range 0.0-0.6745098039215687\n",
      "   7 mask = data['PM273'][1][7] (mask  #7 size (256, 256))\n",
      "   8 img  = data['PM273'][0][8] (image #8 size (256, 256)) Pixel value range 0-186\n",
      "   8 img  = data['PM273'][0][8] (image #8 size (256, 256)) Pixel value range 0.0-0.7294117647058823\n",
      "   8 mask = data['PM273'][1][8] (mask  #8 size (256, 256))\n",
      "   9 img  = data['PM273'][0][9] (image #9 size (256, 256)) Pixel value range 0-194\n",
      "   9 img  = data['PM273'][0][9] (image #9 size (256, 256)) Pixel value range 0.0-0.7607843137254902\n",
      "   9 mask = data['PM273'][1][9] (mask  #9 size (256, 256))\n",
      "\n",
      "Pt[k] = 'PM069'\n",
      "   0 img  = data['PM069'][0][0] (image #0 size (256, 256)) Pixel value range 0-237\n",
      "   0 img  = data['PM069'][0][0] (image #0 size (256, 256)) Pixel value range 0.0-0.9294117647058824\n",
      "   0 mask = data['PM069'][1][0] (mask  #0 size (256, 256))\n",
      "   1 img  = data['PM069'][0][1] (image #1 size (256, 256)) Pixel value range 0-230\n",
      "   1 img  = data['PM069'][0][1] (image #1 size (256, 256)) Pixel value range 0.0-0.9019607843137255\n",
      "   1 mask = data['PM069'][1][1] (mask  #1 size (256, 256))\n",
      "   2 img  = data['PM069'][0][2] (image #2 size (256, 256)) Pixel value range 0-256\n",
      "   2 img  = data['PM069'][0][2] (image #2 size (256, 256)) Pixel value range 0.0-1.003921568627451\n",
      "   2 mask = data['PM069'][1][2] (mask  #2 size (256, 256))\n",
      "   3 img  = data['PM069'][0][3] (image #3 size (256, 256)) Pixel value range 0-252\n",
      "   3 img  = data['PM069'][0][3] (image #3 size (256, 256)) Pixel value range 0.0-0.9882352941176471\n",
      "   3 mask = data['PM069'][1][3] (mask  #3 size (256, 256))\n",
      "   4 img  = data['PM069'][0][4] (image #4 size (256, 256)) Pixel value range 0-277\n",
      "   4 img  = data['PM069'][0][4] (image #4 size (256, 256)) Pixel value range 0.0-1.0862745098039215\n",
      "   4 mask = data['PM069'][1][4] (mask  #4 size (256, 256))\n",
      "   5 img  = data['PM069'][0][5] (image #5 size (256, 256)) Pixel value range 0-263\n",
      "   5 img  = data['PM069'][0][5] (image #5 size (256, 256)) Pixel value range 0.0-1.031372549019608\n",
      "   5 mask = data['PM069'][1][5] (mask  #5 size (256, 256))\n",
      "   6 img  = data['PM069'][0][6] (image #6 size (256, 256)) Pixel value range 0-256\n",
      "   6 img  = data['PM069'][0][6] (image #6 size (256, 256)) Pixel value range 0.0-1.003921568627451\n",
      "   6 mask = data['PM069'][1][6] (mask  #6 size (256, 256))\n",
      "   7 img  = data['PM069'][0][7] (image #7 size (256, 256)) Pixel value range 0-252\n",
      "   7 img  = data['PM069'][0][7] (image #7 size (256, 256)) Pixel value range 0.0-0.9882352941176471\n",
      "   7 mask = data['PM069'][1][7] (mask  #7 size (256, 256))\n",
      "\n",
      "Pt[k] = 'PM023'\n",
      "   0 img  = data['PM023'][0][0] (image #0 size (256, 256)) Pixel value range 0-175\n",
      "   0 img  = data['PM023'][0][0] (image #0 size (256, 256)) Pixel value range 0.0-0.6862745098039216\n",
      "   0 mask = data['PM023'][1][0] (mask  #0 size (256, 256))\n",
      "   1 img  = data['PM023'][0][1] (image #1 size (256, 256)) Pixel value range 0-143\n",
      "   1 img  = data['PM023'][0][1] (image #1 size (256, 256)) Pixel value range 0.0-0.5607843137254902\n",
      "   1 mask = data['PM023'][1][1] (mask  #1 size (256, 256))\n",
      "   2 img  = data['PM023'][0][2] (image #2 size (256, 256)) Pixel value range 0-148\n",
      "   2 img  = data['PM023'][0][2] (image #2 size (256, 256)) Pixel value range 0.0-0.5803921568627451\n",
      "   2 mask = data['PM023'][1][2] (mask  #2 size (256, 256))\n",
      "   3 img  = data['PM023'][0][3] (image #3 size (256, 256)) Pixel value range 0-134\n",
      "   3 img  = data['PM023'][0][3] (image #3 size (256, 256)) Pixel value range 0.0-0.5254901960784314\n",
      "   3 mask = data['PM023'][1][3] (mask  #3 size (256, 256))\n",
      "   4 img  = data['PM023'][0][4] (image #4 size (256, 256)) Pixel value range 0-180\n",
      "   4 img  = data['PM023'][0][4] (image #4 size (256, 256)) Pixel value range 0.0-0.7058823529411765\n",
      "   4 mask = data['PM023'][1][4] (mask  #4 size (256, 256))\n",
      "   5 img  = data['PM023'][0][5] (image #5 size (256, 256)) Pixel value range 0-169\n",
      "   5 img  = data['PM023'][0][5] (image #5 size (256, 256)) Pixel value range 0.0-0.6627450980392157\n",
      "   5 mask = data['PM023'][1][5] (mask  #5 size (256, 256))\n",
      "   6 img  = data['PM023'][0][6] (image #6 size (256, 256)) Pixel value range 0-157\n",
      "   6 img  = data['PM023'][0][6] (image #6 size (256, 256)) Pixel value range 0.0-0.615686274509804\n",
      "   6 mask = data['PM023'][1][6] (mask  #6 size (256, 256))\n",
      "   7 img  = data['PM023'][0][7] (image #7 size (256, 256)) Pixel value range 0-131\n",
      "   7 img  = data['PM023'][0][7] (image #7 size (256, 256)) Pixel value range 0.0-0.5137254901960784\n",
      "   7 mask = data['PM023'][1][7] (mask  #7 size (256, 256))\n",
      "\n",
      "Pt[k] = 'PM061'\n",
      "   0 img  = data['PM061'][0][0] (image #0 size (256, 256)) Pixel value range 0-264\n",
      "   0 img  = data['PM061'][0][0] (image #0 size (256, 256)) Pixel value range 0.0-1.035294117647059\n",
      "   0 mask = data['PM061'][1][0] (mask  #0 size (256, 256))\n",
      "   1 img  = data['PM061'][0][1] (image #1 size (256, 256)) Pixel value range 0-261\n",
      "   1 img  = data['PM061'][0][1] (image #1 size (256, 256)) Pixel value range 0.0-1.0235294117647058\n",
      "   1 mask = data['PM061'][1][1] (mask  #1 size (256, 256))\n",
      "   2 img  = data['PM061'][0][2] (image #2 size (256, 256)) Pixel value range 0-286\n",
      "   2 img  = data['PM061'][0][2] (image #2 size (256, 256)) Pixel value range 0.0-1.1215686274509804\n",
      "   2 mask = data['PM061'][1][2] (mask  #2 size (256, 256))\n",
      "   3 img  = data['PM061'][0][3] (image #3 size (256, 256)) Pixel value range 0-272\n",
      "   3 img  = data['PM061'][0][3] (image #3 size (256, 256)) Pixel value range 0.0-1.0666666666666667\n",
      "   3 mask = data['PM061'][1][3] (mask  #3 size (256, 256))\n",
      "   4 img  = data['PM061'][0][4] (image #4 size (256, 256)) Pixel value range 0-266\n",
      "   4 img  = data['PM061'][0][4] (image #4 size (256, 256)) Pixel value range 0.0-1.0431372549019609\n",
      "   4 mask = data['PM061'][1][4] (mask  #4 size (256, 256))\n",
      "\n",
      "Pt[k] = 'PM009'\n",
      "   0 img  = data['PM009'][0][0] (image #0 size (256, 256)) Pixel value range 0-144\n",
      "   0 img  = data['PM009'][0][0] (image #0 size (256, 256)) Pixel value range 0.0-0.5647058823529412\n",
      "   0 mask = data['PM009'][1][0] (mask  #0 size (256, 256))\n",
      "   1 img  = data['PM009'][0][1] (image #1 size (256, 256)) Pixel value range 0-222\n",
      "   1 img  = data['PM009'][0][1] (image #1 size (256, 256)) Pixel value range 0.0-0.8705882352941177\n",
      "   1 mask = data['PM009'][1][1] (mask  #1 size (256, 256))\n",
      "   2 img  = data['PM009'][0][2] (image #2 size (256, 256)) Pixel value range 0-233\n",
      "   2 img  = data['PM009'][0][2] (image #2 size (256, 256)) Pixel value range 0.0-0.9137254901960784\n",
      "   2 mask = data['PM009'][1][2] (mask  #2 size (256, 256))\n",
      "   3 img  = data['PM009'][0][3] (image #3 size (256, 256)) Pixel value range 0-219\n",
      "   3 img  = data['PM009'][0][3] (image #3 size (256, 256)) Pixel value range 0.0-0.8588235294117647\n",
      "   3 mask = data['PM009'][1][3] (mask  #3 size (256, 256))\n",
      "   4 img  = data['PM009'][0][4] (image #4 size (256, 256)) Pixel value range 0-234\n",
      "   4 img  = data['PM009'][0][4] (image #4 size (256, 256)) Pixel value range 0.0-0.9176470588235294\n",
      "   4 mask = data['PM009'][1][4] (mask  #4 size (256, 256))\n",
      "   5 img  = data['PM009'][0][5] (image #5 size (256, 256)) Pixel value range 0-244\n",
      "   5 img  = data['PM009'][0][5] (image #5 size (256, 256)) Pixel value range 0.0-0.9568627450980393\n",
      "   5 mask = data['PM009'][1][5] (mask  #5 size (256, 256))\n",
      "   6 img  = data['PM009'][0][6] (image #6 size (256, 256)) Pixel value range 0-220\n",
      "   6 img  = data['PM009'][0][6] (image #6 size (256, 256)) Pixel value range 0.0-0.8627450980392157\n",
      "   6 mask = data['PM009'][1][6] (mask  #6 size (256, 256))\n",
      "   7 img  = data['PM009'][0][7] (image #7 size (256, 256)) Pixel value range 0-183\n",
      "   7 img  = data['PM009'][0][7] (image #7 size (256, 256)) Pixel value range 0.0-0.7176470588235294\n",
      "   7 mask = data['PM009'][1][7] (mask  #7 size (256, 256))\n",
      "   8 img  = data['PM009'][0][8] (image #8 size (256, 256)) Pixel value range 0-153\n",
      "   8 img  = data['PM009'][0][8] (image #8 size (256, 256)) Pixel value range 0.0-0.6\n",
      "   8 mask = data['PM009'][1][8] (mask  #8 size (256, 256))\n",
      "\n",
      "Pt[k] = 'PM322'\n",
      "   0 img  = data['PM322'][0][0] (image #0 size (256, 256)) Pixel value range 0-195\n",
      "   0 img  = data['PM322'][0][0] (image #0 size (256, 256)) Pixel value range 0.0-0.7647058823529411\n",
      "   0 mask = data['PM322'][1][0] (mask  #0 size (256, 256))\n",
      "   1 img  = data['PM322'][0][1] (image #1 size (256, 256)) Pixel value range 0-210\n",
      "   1 img  = data['PM322'][0][1] (image #1 size (256, 256)) Pixel value range 0.0-0.8235294117647058\n",
      "   1 mask = data['PM322'][1][1] (mask  #1 size (256, 256))\n",
      "   2 img  = data['PM322'][0][2] (image #2 size (256, 256)) Pixel value range 0-189\n",
      "   2 img  = data['PM322'][0][2] (image #2 size (256, 256)) Pixel value range 0.0-0.7411764705882353\n",
      "   2 mask = data['PM322'][1][2] (mask  #2 size (256, 256))\n",
      "   3 img  = data['PM322'][0][3] (image #3 size (256, 256)) Pixel value range 0-154\n",
      "   3 img  = data['PM322'][0][3] (image #3 size (256, 256)) Pixel value range 0.0-0.6039215686274509\n",
      "   3 mask = data['PM322'][1][3] (mask  #3 size (256, 256))\n",
      "   4 img  = data['PM322'][0][4] (image #4 size (256, 256)) Pixel value range 0-152\n",
      "   4 img  = data['PM322'][0][4] (image #4 size (256, 256)) Pixel value range 0.0-0.596078431372549\n",
      "   4 mask = data['PM322'][1][4] (mask  #4 size (256, 256))\n",
      "   5 img  = data['PM322'][0][5] (image #5 size (256, 256)) Pixel value range 0-163\n",
      "   5 img  = data['PM322'][0][5] (image #5 size (256, 256)) Pixel value range 0.0-0.6392156862745098\n",
      "   5 mask = data['PM322'][1][5] (mask  #5 size (256, 256))\n",
      "   6 img  = data['PM322'][0][6] (image #6 size (256, 256)) Pixel value range 0-153\n",
      "   6 img  = data['PM322'][0][6] (image #6 size (256, 256)) Pixel value range 0.0-0.6\n",
      "   6 mask = data['PM322'][1][6] (mask  #6 size (256, 256))\n",
      "   7 img  = data['PM322'][0][7] (image #7 size (256, 256)) Pixel value range 0-151\n",
      "   7 img  = data['PM322'][0][7] (image #7 size (256, 256)) Pixel value range 0.0-0.592156862745098\n",
      "   7 mask = data['PM322'][1][7] (mask  #7 size (256, 256))\n",
      "   8 img  = data['PM322'][0][8] (image #8 size (256, 256)) Pixel value range 1-149\n",
      "   8 img  = data['PM322'][0][8] (image #8 size (256, 256)) Pixel value range 0.00392156862745098-0.5843137254901961\n",
      "   8 mask = data['PM322'][1][8] (mask  #8 size (256, 256))\n",
      "   9 img  = data['PM322'][0][9] (image #9 size (256, 256)) Pixel value range 0-147\n",
      "   9 img  = data['PM322'][0][9] (image #9 size (256, 256)) Pixel value range 0.0-0.5764705882352941\n",
      "   9 mask = data['PM322'][1][9] (mask  #9 size (256, 256))\n",
      "   10 img  = data['PM322'][0][10] (image #10 size (256, 256)) Pixel value range 0-145\n",
      "   10 img  = data['PM322'][0][10] (image #10 size (256, 256)) Pixel value range 0.0-0.5686274509803921\n",
      "   10 mask = data['PM322'][1][10] (mask  #10 size (256, 256))\n",
      "\n",
      "Pt[k] = 'PM160'\n",
      "   0 img  = data['PM160'][0][0] (image #0 size (256, 256)) Pixel value range 0-221\n",
      "   0 img  = data['PM160'][0][0] (image #0 size (256, 256)) Pixel value range 0.0-0.8666666666666667\n",
      "   0 mask = data['PM160'][1][0] (mask  #0 size (256, 256))\n",
      "   1 img  = data['PM160'][0][1] (image #1 size (256, 256)) Pixel value range 0-222\n",
      "   1 img  = data['PM160'][0][1] (image #1 size (256, 256)) Pixel value range 0.0-0.8705882352941177\n",
      "   1 mask = data['PM160'][1][1] (mask  #1 size (256, 256))\n",
      "   2 img  = data['PM160'][0][2] (image #2 size (256, 256)) Pixel value range 0-238\n",
      "   2 img  = data['PM160'][0][2] (image #2 size (256, 256)) Pixel value range 0.0-0.9333333333333333\n",
      "   2 mask = data['PM160'][1][2] (mask  #2 size (256, 256))\n",
      "   3 img  = data['PM160'][0][3] (image #3 size (256, 256)) Pixel value range 0-240\n",
      "   3 img  = data['PM160'][0][3] (image #3 size (256, 256)) Pixel value range 0.0-0.9411764705882353\n",
      "   3 mask = data['PM160'][1][3] (mask  #3 size (256, 256))\n",
      "   4 img  = data['PM160'][0][4] (image #4 size (256, 256)) Pixel value range 0-278\n",
      "   4 img  = data['PM160'][0][4] (image #4 size (256, 256)) Pixel value range 0.0-1.0901960784313725\n",
      "   4 mask = data['PM160'][1][4] (mask  #4 size (256, 256))\n",
      "   5 img  = data['PM160'][0][5] (image #5 size (256, 256)) Pixel value range 0-421\n",
      "   5 img  = data['PM160'][0][5] (image #5 size (256, 256)) Pixel value range 0.0-1.6509803921568627\n",
      "   5 mask = data['PM160'][1][5] (mask  #5 size (256, 256))\n",
      "   6 img  = data['PM160'][0][6] (image #6 size (256, 256)) Pixel value range 0-258\n",
      "   6 img  = data['PM160'][0][6] (image #6 size (256, 256)) Pixel value range 0.0-1.011764705882353\n",
      "   6 mask = data['PM160'][1][6] (mask  #6 size (256, 256))\n",
      "   7 img  = data['PM160'][0][7] (image #7 size (256, 256)) Pixel value range 0-273\n",
      "   7 img  = data['PM160'][0][7] (image #7 size (256, 256)) Pixel value range 0.0-1.0705882352941176\n",
      "   7 mask = data['PM160'][1][7] (mask  #7 size (256, 256))\n",
      "   8 img  = data['PM160'][0][8] (image #8 size (256, 256)) Pixel value range 0-291\n",
      "   8 img  = data['PM160'][0][8] (image #8 size (256, 256)) Pixel value range 0.0-1.1411764705882352\n",
      "   8 mask = data['PM160'][1][8] (mask  #8 size (256, 256))\n",
      "\n",
      "Pt[k] = 'PM319'\n",
      "   0 img  = data['PM319'][0][0] (image #0 size (256, 256)) Pixel value range 0-279\n",
      "   0 img  = data['PM319'][0][0] (image #0 size (256, 256)) Pixel value range 0.0-1.0941176470588236\n",
      "   0 mask = data['PM319'][1][0] (mask  #0 size (256, 256))\n",
      "   1 img  = data['PM319'][0][1] (image #1 size (256, 256)) Pixel value range 0-302\n",
      "   1 img  = data['PM319'][0][1] (image #1 size (256, 256)) Pixel value range 0.0-1.184313725490196\n",
      "   1 mask = data['PM319'][1][1] (mask  #1 size (256, 256))\n",
      "   2 img  = data['PM319'][0][2] (image #2 size (256, 256)) Pixel value range 0-290\n",
      "   2 img  = data['PM319'][0][2] (image #2 size (256, 256)) Pixel value range 0.0-1.1372549019607843\n",
      "   2 mask = data['PM319'][1][2] (mask  #2 size (256, 256))\n",
      "   3 img  = data['PM319'][0][3] (image #3 size (256, 256)) Pixel value range 0-317\n",
      "   3 img  = data['PM319'][0][3] (image #3 size (256, 256)) Pixel value range 0.0-1.2431372549019608\n",
      "   3 mask = data['PM319'][1][3] (mask  #3 size (256, 256))\n",
      "   4 img  = data['PM319'][0][4] (image #4 size (256, 256)) Pixel value range 0-332\n",
      "   4 img  = data['PM319'][0][4] (image #4 size (256, 256)) Pixel value range 0.0-1.3019607843137255\n",
      "   4 mask = data['PM319'][1][4] (mask  #4 size (256, 256))\n",
      "   5 img  = data['PM319'][0][5] (image #5 size (256, 256)) Pixel value range 0-277\n",
      "   5 img  = data['PM319'][0][5] (image #5 size (256, 256)) Pixel value range 0.0-1.0862745098039215\n",
      "   5 mask = data['PM319'][1][5] (mask  #5 size (256, 256))\n",
      "   6 img  = data['PM319'][0][6] (image #6 size (256, 256)) Pixel value range 0-272\n",
      "   6 img  = data['PM319'][0][6] (image #6 size (256, 256)) Pixel value range 0.0-1.0666666666666667\n",
      "   6 mask = data['PM319'][1][6] (mask  #6 size (256, 256))\n",
      "\n",
      "Pt[k] = 'PM090'\n",
      "   0 img  = data['PM090'][0][0] (image #0 size (256, 256)) Pixel value range 0-128\n",
      "   0 img  = data['PM090'][0][0] (image #0 size (256, 256)) Pixel value range 0.0-0.5019607843137255\n",
      "   0 mask = data['PM090'][1][0] (mask  #0 size (256, 256))\n",
      "   1 img  = data['PM090'][0][1] (image #1 size (256, 256)) Pixel value range 0-121\n",
      "   1 img  = data['PM090'][0][1] (image #1 size (256, 256)) Pixel value range 0.0-0.4745098039215686\n",
      "   1 mask = data['PM090'][1][1] (mask  #1 size (256, 256))\n",
      "   2 img  = data['PM090'][0][2] (image #2 size (256, 256)) Pixel value range 0-137\n",
      "   2 img  = data['PM090'][0][2] (image #2 size (256, 256)) Pixel value range 0.0-0.5372549019607843\n",
      "   2 mask = data['PM090'][1][2] (mask  #2 size (256, 256))\n",
      "   3 img  = data['PM090'][0][3] (image #3 size (256, 256)) Pixel value range 0-148\n",
      "   3 img  = data['PM090'][0][3] (image #3 size (256, 256)) Pixel value range 0.0-0.5803921568627451\n",
      "   3 mask = data['PM090'][1][3] (mask  #3 size (256, 256))\n",
      "   4 img  = data['PM090'][0][4] (image #4 size (256, 256)) Pixel value range 0-252\n",
      "   4 img  = data['PM090'][0][4] (image #4 size (256, 256)) Pixel value range 0.0-0.9882352941176471\n",
      "   4 mask = data['PM090'][1][4] (mask  #4 size (256, 256))\n",
      "   5 img  = data['PM090'][0][5] (image #5 size (256, 256)) Pixel value range 0-150\n",
      "   5 img  = data['PM090'][0][5] (image #5 size (256, 256)) Pixel value range 0.0-0.5882352941176471\n",
      "   5 mask = data['PM090'][1][5] (mask  #5 size (256, 256))\n",
      "   6 img  = data['PM090'][0][6] (image #6 size (256, 256)) Pixel value range 0-156\n",
      "   6 img  = data['PM090'][0][6] (image #6 size (256, 256)) Pixel value range 0.0-0.611764705882353\n",
      "   6 mask = data['PM090'][1][6] (mask  #6 size (256, 256))\n",
      "\n",
      "Pt[k] = 'PM152'\n",
      "   0 img  = data['PM152'][0][0] (image #0 size (256, 256)) Pixel value range 0-128\n",
      "   0 img  = data['PM152'][0][0] (image #0 size (256, 256)) Pixel value range 0.0-0.5019607843137255\n",
      "   0 mask = data['PM152'][1][0] (mask  #0 size (256, 256))\n",
      "   1 img  = data['PM152'][0][1] (image #1 size (256, 256)) Pixel value range 0-127\n",
      "   1 img  = data['PM152'][0][1] (image #1 size (256, 256)) Pixel value range 0.0-0.4980392156862745\n",
      "   1 mask = data['PM152'][1][1] (mask  #1 size (256, 256))\n",
      "   2 img  = data['PM152'][0][2] (image #2 size (256, 256)) Pixel value range 0-126\n",
      "   2 img  = data['PM152'][0][2] (image #2 size (256, 256)) Pixel value range 0.0-0.49411764705882355\n",
      "   2 mask = data['PM152'][1][2] (mask  #2 size (256, 256))\n",
      "   3 img  = data['PM152'][0][3] (image #3 size (256, 256)) Pixel value range 0-133\n",
      "   3 img  = data['PM152'][0][3] (image #3 size (256, 256)) Pixel value range 0.0-0.5215686274509804\n",
      "   3 mask = data['PM152'][1][3] (mask  #3 size (256, 256))\n",
      "   4 img  = data['PM152'][0][4] (image #4 size (256, 256)) Pixel value range 0-135\n",
      "   4 img  = data['PM152'][0][4] (image #4 size (256, 256)) Pixel value range 0.0-0.5294117647058824\n",
      "   4 mask = data['PM152'][1][4] (mask  #4 size (256, 256))\n",
      "   5 img  = data['PM152'][0][5] (image #5 size (256, 256)) Pixel value range 0-124\n",
      "   5 img  = data['PM152'][0][5] (image #5 size (256, 256)) Pixel value range 0.0-0.48627450980392156\n",
      "   5 mask = data['PM152'][1][5] (mask  #5 size (256, 256))\n",
      "   6 img  = data['PM152'][0][6] (image #6 size (256, 256)) Pixel value range 0-126\n",
      "   6 img  = data['PM152'][0][6] (image #6 size (256, 256)) Pixel value range 0.0-0.49411764705882355\n",
      "   6 mask = data['PM152'][1][6] (mask  #6 size (256, 256))\n",
      "   7 img  = data['PM152'][0][7] (image #7 size (256, 256)) Pixel value range 0-122\n",
      "   7 img  = data['PM152'][0][7] (image #7 size (256, 256)) Pixel value range 0.0-0.47843137254901963\n",
      "   7 mask = data['PM152'][1][7] (mask  #7 size (256, 256))\n",
      "\n",
      "Pt[k] = 'PM060'\n",
      "   0 img  = data['PM060'][0][0] (image #0 size (256, 256)) Pixel value range 0-151\n",
      "   0 img  = data['PM060'][0][0] (image #0 size (256, 256)) Pixel value range 0.0-0.592156862745098\n",
      "   0 mask = data['PM060'][1][0] (mask  #0 size (256, 256))\n",
      "   1 img  = data['PM060'][0][1] (image #1 size (256, 256)) Pixel value range 0-127\n",
      "   1 img  = data['PM060'][0][1] (image #1 size (256, 256)) Pixel value range 0.0-0.4980392156862745\n",
      "   1 mask = data['PM060'][1][1] (mask  #1 size (256, 256))\n",
      "   2 img  = data['PM060'][0][2] (image #2 size (256, 256)) Pixel value range 0-189\n",
      "   2 img  = data['PM060'][0][2] (image #2 size (256, 256)) Pixel value range 0.0-0.7411764705882353\n",
      "   2 mask = data['PM060'][1][2] (mask  #2 size (256, 256))\n",
      "   3 img  = data['PM060'][0][3] (image #3 size (256, 256)) Pixel value range 0-155\n",
      "   3 img  = data['PM060'][0][3] (image #3 size (256, 256)) Pixel value range 0.0-0.6078431372549019\n",
      "   3 mask = data['PM060'][1][3] (mask  #3 size (256, 256))\n",
      "   4 img  = data['PM060'][0][4] (image #4 size (256, 256)) Pixel value range 0-159\n",
      "   4 img  = data['PM060'][0][4] (image #4 size (256, 256)) Pixel value range 0.0-0.6235294117647059\n",
      "   4 mask = data['PM060'][1][4] (mask  #4 size (256, 256))\n",
      "   5 img  = data['PM060'][0][5] (image #5 size (256, 256)) Pixel value range 0-134\n",
      "   5 img  = data['PM060'][0][5] (image #5 size (256, 256)) Pixel value range 0.0-0.5254901960784314\n",
      "   5 mask = data['PM060'][1][5] (mask  #5 size (256, 256))\n",
      "\n",
      "Pt[k] = 'PM036'\n",
      "   0 img  = data['PM036'][0][0] (image #0 size (256, 256)) Pixel value range 0-223\n",
      "   0 img  = data['PM036'][0][0] (image #0 size (256, 256)) Pixel value range 0.0-0.8745098039215686\n",
      "   0 mask = data['PM036'][1][0] (mask  #0 size (256, 256))\n",
      "   1 img  = data['PM036'][0][1] (image #1 size (256, 256)) Pixel value range 0-204\n",
      "   1 img  = data['PM036'][0][1] (image #1 size (256, 256)) Pixel value range 0.0-0.8\n",
      "   1 mask = data['PM036'][1][1] (mask  #1 size (256, 256))\n",
      "   2 img  = data['PM036'][0][2] (image #2 size (256, 256)) Pixel value range 0-213\n",
      "   2 img  = data['PM036'][0][2] (image #2 size (256, 256)) Pixel value range 0.0-0.8352941176470589\n",
      "   2 mask = data['PM036'][1][2] (mask  #2 size (256, 256))\n",
      "   3 img  = data['PM036'][0][3] (image #3 size (256, 256)) Pixel value range 0-204\n",
      "   3 img  = data['PM036'][0][3] (image #3 size (256, 256)) Pixel value range 0.0-0.8\n",
      "   3 mask = data['PM036'][1][3] (mask  #3 size (256, 256))\n",
      "   4 img  = data['PM036'][0][4] (image #4 size (256, 256)) Pixel value range 0-198\n",
      "   4 img  = data['PM036'][0][4] (image #4 size (256, 256)) Pixel value range 0.0-0.7764705882352941\n",
      "   4 mask = data['PM036'][1][4] (mask  #4 size (256, 256))\n",
      "   5 img  = data['PM036'][0][5] (image #5 size (256, 256)) Pixel value range 0-199\n",
      "   5 img  = data['PM036'][0][5] (image #5 size (256, 256)) Pixel value range 0.0-0.7803921568627451\n",
      "   5 mask = data['PM036'][1][5] (mask  #5 size (256, 256))\n",
      "   6 img  = data['PM036'][0][6] (image #6 size (256, 256)) Pixel value range 0-218\n",
      "   6 img  = data['PM036'][0][6] (image #6 size (256, 256)) Pixel value range 0.0-0.8549019607843137\n",
      "   6 mask = data['PM036'][1][6] (mask  #6 size (256, 256))\n",
      "   7 img  = data['PM036'][0][7] (image #7 size (256, 256)) Pixel value range 0-219\n",
      "   7 img  = data['PM036'][0][7] (image #7 size (256, 256)) Pixel value range 0.0-0.8588235294117647\n",
      "   7 mask = data['PM036'][1][7] (mask  #7 size (256, 256))\n",
      "   8 img  = data['PM036'][0][8] (image #8 size (256, 256)) Pixel value range 0-200\n",
      "   8 img  = data['PM036'][0][8] (image #8 size (256, 256)) Pixel value range 0.0-0.7843137254901961\n",
      "   8 mask = data['PM036'][1][8] (mask  #8 size (256, 256))\n",
      "\n",
      "Pt[k] = 'PM191'\n",
      "   0 img  = data['PM191'][0][0] (image #0 size (256, 256)) Pixel value range 0-183\n",
      "   0 img  = data['PM191'][0][0] (image #0 size (256, 256)) Pixel value range 0.0-0.7176470588235294\n",
      "   0 mask = data['PM191'][1][0] (mask  #0 size (256, 256))\n",
      "   1 img  = data['PM191'][0][1] (image #1 size (256, 256)) Pixel value range 0-178\n",
      "   1 img  = data['PM191'][0][1] (image #1 size (256, 256)) Pixel value range 0.0-0.6980392156862745\n",
      "   1 mask = data['PM191'][1][1] (mask  #1 size (256, 256))\n",
      "   2 img  = data['PM191'][0][2] (image #2 size (256, 256)) Pixel value range 0-180\n",
      "   2 img  = data['PM191'][0][2] (image #2 size (256, 256)) Pixel value range 0.0-0.7058823529411765\n",
      "   2 mask = data['PM191'][1][2] (mask  #2 size (256, 256))\n",
      "   3 img  = data['PM191'][0][3] (image #3 size (256, 256)) Pixel value range 0-189\n",
      "   3 img  = data['PM191'][0][3] (image #3 size (256, 256)) Pixel value range 0.0-0.7411764705882353\n",
      "   3 mask = data['PM191'][1][3] (mask  #3 size (256, 256))\n",
      "   4 img  = data['PM191'][0][4] (image #4 size (256, 256)) Pixel value range 0-208\n",
      "   4 img  = data['PM191'][0][4] (image #4 size (256, 256)) Pixel value range 0.0-0.8156862745098039\n",
      "   4 mask = data['PM191'][1][4] (mask  #4 size (256, 256))\n",
      "   5 img  = data['PM191'][0][5] (image #5 size (256, 256)) Pixel value range 0-182\n",
      "   5 img  = data['PM191'][0][5] (image #5 size (256, 256)) Pixel value range 0.0-0.7137254901960784\n",
      "   5 mask = data['PM191'][1][5] (mask  #5 size (256, 256))\n",
      "   6 img  = data['PM191'][0][6] (image #6 size (256, 256)) Pixel value range 0-176\n",
      "   6 img  = data['PM191'][0][6] (image #6 size (256, 256)) Pixel value range 0.0-0.6901960784313725\n",
      "   6 mask = data['PM191'][1][6] (mask  #6 size (256, 256))\n",
      "   7 img  = data['PM191'][0][7] (image #7 size (256, 256)) Pixel value range 0-157\n",
      "   7 img  = data['PM191'][0][7] (image #7 size (256, 256)) Pixel value range 0.0-0.615686274509804\n",
      "   7 mask = data['PM191'][1][7] (mask  #7 size (256, 256))\n",
      "\n",
      "Pt[k] = 'PM259'\n",
      "   0 img  = data['PM259'][0][0] (image #0 size (256, 256)) Pixel value range 0-368\n",
      "   0 img  = data['PM259'][0][0] (image #0 size (256, 256)) Pixel value range 0.0-1.4431372549019608\n",
      "   0 mask = data['PM259'][1][0] (mask  #0 size (256, 256))\n",
      "   1 img  = data['PM259'][0][1] (image #1 size (256, 256)) Pixel value range 0-384\n",
      "   1 img  = data['PM259'][0][1] (image #1 size (256, 256)) Pixel value range 0.0-1.5058823529411764\n",
      "   1 mask = data['PM259'][1][1] (mask  #1 size (256, 256))\n",
      "   2 img  = data['PM259'][0][2] (image #2 size (256, 256)) Pixel value range 0-536\n",
      "   2 img  = data['PM259'][0][2] (image #2 size (256, 256)) Pixel value range 0.0-2.1019607843137256\n",
      "   2 mask = data['PM259'][1][2] (mask  #2 size (256, 256))\n",
      "   3 img  = data['PM259'][0][3] (image #3 size (256, 256)) Pixel value range 0-377\n",
      "   3 img  = data['PM259'][0][3] (image #3 size (256, 256)) Pixel value range 0.0-1.4784313725490197\n",
      "   3 mask = data['PM259'][1][3] (mask  #3 size (256, 256))\n",
      "   4 img  = data['PM259'][0][4] (image #4 size (256, 256)) Pixel value range 0-387\n",
      "   4 img  = data['PM259'][0][4] (image #4 size (256, 256)) Pixel value range 0.0-1.5176470588235293\n",
      "   4 mask = data['PM259'][1][4] (mask  #4 size (256, 256))\n",
      "   5 img  = data['PM259'][0][5] (image #5 size (256, 256)) Pixel value range 0-301\n",
      "   5 img  = data['PM259'][0][5] (image #5 size (256, 256)) Pixel value range 0.0-1.1803921568627451\n",
      "   5 mask = data['PM259'][1][5] (mask  #5 size (256, 256))\n",
      "   6 img  = data['PM259'][0][6] (image #6 size (256, 256)) Pixel value range 0-305\n",
      "   6 img  = data['PM259'][0][6] (image #6 size (256, 256)) Pixel value range 0.0-1.196078431372549\n",
      "   6 mask = data['PM259'][1][6] (mask  #6 size (256, 256))\n",
      "   7 img  = data['PM259'][0][7] (image #7 size (256, 256)) Pixel value range 0-281\n",
      "   7 img  = data['PM259'][0][7] (image #7 size (256, 256)) Pixel value range 0.0-1.1019607843137256\n",
      "   7 mask = data['PM259'][1][7] (mask  #7 size (256, 256))\n",
      "\n",
      "Pt[k] = 'PM182'\n",
      "   0 img  = data['PM182'][0][0] (image #0 size (256, 256)) Pixel value range 0-239\n",
      "   0 img  = data['PM182'][0][0] (image #0 size (256, 256)) Pixel value range 0.0-0.9372549019607843\n",
      "   0 mask = data['PM182'][1][0] (mask  #0 size (256, 256))\n",
      "   1 img  = data['PM182'][0][1] (image #1 size (256, 256)) Pixel value range 0-246\n",
      "   1 img  = data['PM182'][0][1] (image #1 size (256, 256)) Pixel value range 0.0-0.9647058823529412\n",
      "   1 mask = data['PM182'][1][1] (mask  #1 size (256, 256))\n",
      "   2 img  = data['PM182'][0][2] (image #2 size (256, 256)) Pixel value range 0-277\n",
      "   2 img  = data['PM182'][0][2] (image #2 size (256, 256)) Pixel value range 0.0-1.0862745098039215\n",
      "   2 mask = data['PM182'][1][2] (mask  #2 size (256, 256))\n",
      "   3 img  = data['PM182'][0][3] (image #3 size (256, 256)) Pixel value range 0-261\n",
      "   3 img  = data['PM182'][0][3] (image #3 size (256, 256)) Pixel value range 0.0-1.0235294117647058\n",
      "   3 mask = data['PM182'][1][3] (mask  #3 size (256, 256))\n",
      "   4 img  = data['PM182'][0][4] (image #4 size (256, 256)) Pixel value range 0-277\n",
      "   4 img  = data['PM182'][0][4] (image #4 size (256, 256)) Pixel value range 0.0-1.0862745098039215\n",
      "   4 mask = data['PM182'][1][4] (mask  #4 size (256, 256))\n",
      "   5 img  = data['PM182'][0][5] (image #5 size (256, 256)) Pixel value range 0-284\n",
      "   5 img  = data['PM182'][0][5] (image #5 size (256, 256)) Pixel value range 0.0-1.1137254901960785\n",
      "   5 mask = data['PM182'][1][5] (mask  #5 size (256, 256))\n",
      "   6 img  = data['PM182'][0][6] (image #6 size (256, 256)) Pixel value range 0-277\n",
      "   6 img  = data['PM182'][0][6] (image #6 size (256, 256)) Pixel value range 0.0-1.0862745098039215\n",
      "   6 mask = data['PM182'][1][6] (mask  #6 size (256, 256))\n",
      "   7 img  = data['PM182'][0][7] (image #7 size (256, 256)) Pixel value range 0-303\n",
      "   7 img  = data['PM182'][0][7] (image #7 size (256, 256)) Pixel value range 0.0-1.188235294117647\n",
      "   7 mask = data['PM182'][1][7] (mask  #7 size (256, 256))\n",
      "\n",
      "Pt[k] = 'PM171'\n",
      "   0 img  = data['PM171'][0][0] (image #0 size (256, 256)) Pixel value range 0-166\n",
      "   0 img  = data['PM171'][0][0] (image #0 size (256, 256)) Pixel value range 0.0-0.6509803921568628\n",
      "   0 mask = data['PM171'][1][0] (mask  #0 size (256, 256))\n",
      "   1 img  = data['PM171'][0][1] (image #1 size (256, 256)) Pixel value range 0-182\n",
      "   1 img  = data['PM171'][0][1] (image #1 size (256, 256)) Pixel value range 0.0-0.7137254901960784\n",
      "   1 mask = data['PM171'][1][1] (mask  #1 size (256, 256))\n",
      "   2 img  = data['PM171'][0][2] (image #2 size (256, 256)) Pixel value range 0-178\n",
      "   2 img  = data['PM171'][0][2] (image #2 size (256, 256)) Pixel value range 0.0-0.6980392156862745\n",
      "   2 mask = data['PM171'][1][2] (mask  #2 size (256, 256))\n",
      "   3 img  = data['PM171'][0][3] (image #3 size (256, 256)) Pixel value range 0-171\n",
      "   3 img  = data['PM171'][0][3] (image #3 size (256, 256)) Pixel value range 0.0-0.6705882352941176\n",
      "   3 mask = data['PM171'][1][3] (mask  #3 size (256, 256))\n",
      "   4 img  = data['PM171'][0][4] (image #4 size (256, 256)) Pixel value range 0-204\n",
      "   4 img  = data['PM171'][0][4] (image #4 size (256, 256)) Pixel value range 0.0-0.8\n",
      "   4 mask = data['PM171'][1][4] (mask  #4 size (256, 256))\n",
      "   5 img  = data['PM171'][0][5] (image #5 size (256, 256)) Pixel value range 0-209\n",
      "   5 img  = data['PM171'][0][5] (image #5 size (256, 256)) Pixel value range 0.0-0.8196078431372549\n",
      "   5 mask = data['PM171'][1][5] (mask  #5 size (256, 256))\n",
      "   6 img  = data['PM171'][0][6] (image #6 size (256, 256)) Pixel value range 0-195\n",
      "   6 img  = data['PM171'][0][6] (image #6 size (256, 256)) Pixel value range 0.0-0.7647058823529411\n",
      "   6 mask = data['PM171'][1][6] (mask  #6 size (256, 256))\n",
      "\n",
      "Pt[k] = 'PM113'\n",
      "   0 img  = data['PM113'][0][0] (image #0 size (256, 256)) Pixel value range 0-176\n",
      "   0 img  = data['PM113'][0][0] (image #0 size (256, 256)) Pixel value range 0.0-0.6901960784313725\n",
      "   0 mask = data['PM113'][1][0] (mask  #0 size (256, 256))\n",
      "   1 img  = data['PM113'][0][1] (image #1 size (256, 256)) Pixel value range 0-222\n",
      "   1 img  = data['PM113'][0][1] (image #1 size (256, 256)) Pixel value range 0.0-0.8705882352941177\n",
      "   1 mask = data['PM113'][1][1] (mask  #1 size (256, 256))\n",
      "   2 img  = data['PM113'][0][2] (image #2 size (256, 256)) Pixel value range 0-210\n",
      "   2 img  = data['PM113'][0][2] (image #2 size (256, 256)) Pixel value range 0.0-0.8235294117647058\n",
      "   2 mask = data['PM113'][1][2] (mask  #2 size (256, 256))\n",
      "   3 img  = data['PM113'][0][3] (image #3 size (256, 256)) Pixel value range 0-192\n",
      "   3 img  = data['PM113'][0][3] (image #3 size (256, 256)) Pixel value range 0.0-0.7529411764705882\n",
      "   3 mask = data['PM113'][1][3] (mask  #3 size (256, 256))\n",
      "   4 img  = data['PM113'][0][4] (image #4 size (256, 256)) Pixel value range 0-187\n",
      "   4 img  = data['PM113'][0][4] (image #4 size (256, 256)) Pixel value range 0.0-0.7333333333333333\n",
      "   4 mask = data['PM113'][1][4] (mask  #4 size (256, 256))\n",
      "   5 img  = data['PM113'][0][5] (image #5 size (256, 256)) Pixel value range 0-202\n",
      "   5 img  = data['PM113'][0][5] (image #5 size (256, 256)) Pixel value range 0.0-0.792156862745098\n",
      "   5 mask = data['PM113'][1][5] (mask  #5 size (256, 256))\n",
      "   6 img  = data['PM113'][0][6] (image #6 size (256, 256)) Pixel value range 0-213\n",
      "   6 img  = data['PM113'][0][6] (image #6 size (256, 256)) Pixel value range 0.0-0.8352941176470589\n",
      "   6 mask = data['PM113'][1][6] (mask  #6 size (256, 256))\n",
      "   7 img  = data['PM113'][0][7] (image #7 size (256, 256)) Pixel value range 0-246\n",
      "   7 img  = data['PM113'][0][7] (image #7 size (256, 256)) Pixel value range 0.0-0.9647058823529412\n",
      "   7 mask = data['PM113'][1][7] (mask  #7 size (256, 256))\n",
      "\n",
      "Pt[k] = 'PM084'\n",
      "   0 img  = data['PM084'][0][0] (image #0 size (256, 256)) Pixel value range 0-176\n",
      "   0 img  = data['PM084'][0][0] (image #0 size (256, 256)) Pixel value range 0.0-0.6901960784313725\n",
      "   0 mask = data['PM084'][1][0] (mask  #0 size (256, 256))\n",
      "   1 img  = data['PM084'][0][1] (image #1 size (256, 256)) Pixel value range 0-166\n",
      "   1 img  = data['PM084'][0][1] (image #1 size (256, 256)) Pixel value range 0.0-0.6509803921568628\n",
      "   1 mask = data['PM084'][1][1] (mask  #1 size (256, 256))\n",
      "   2 img  = data['PM084'][0][2] (image #2 size (256, 256)) Pixel value range 0-172\n",
      "   2 img  = data['PM084'][0][2] (image #2 size (256, 256)) Pixel value range 0.0-0.6745098039215687\n",
      "   2 mask = data['PM084'][1][2] (mask  #2 size (256, 256))\n",
      "   3 img  = data['PM084'][0][3] (image #3 size (256, 256)) Pixel value range 0-167\n",
      "   3 img  = data['PM084'][0][3] (image #3 size (256, 256)) Pixel value range 0.0-0.6549019607843137\n",
      "   3 mask = data['PM084'][1][3] (mask  #3 size (256, 256))\n",
      "   4 img  = data['PM084'][0][4] (image #4 size (256, 256)) Pixel value range 0-154\n",
      "   4 img  = data['PM084'][0][4] (image #4 size (256, 256)) Pixel value range 0.0-0.6039215686274509\n",
      "   4 mask = data['PM084'][1][4] (mask  #4 size (256, 256))\n",
      "   5 img  = data['PM084'][0][5] (image #5 size (256, 256)) Pixel value range 0-147\n",
      "   5 img  = data['PM084'][0][5] (image #5 size (256, 256)) Pixel value range 0.0-0.5764705882352941\n",
      "   5 mask = data['PM084'][1][5] (mask  #5 size (256, 256))\n",
      "   6 img  = data['PM084'][0][6] (image #6 size (256, 256)) Pixel value range 0-143\n",
      "   6 img  = data['PM084'][0][6] (image #6 size (256, 256)) Pixel value range 0.0-0.5607843137254902\n",
      "   6 mask = data['PM084'][1][6] (mask  #6 size (256, 256))\n",
      "   7 img  = data['PM084'][0][7] (image #7 size (256, 256)) Pixel value range 0-144\n",
      "   7 img  = data['PM084'][0][7] (image #7 size (256, 256)) Pixel value range 0.0-0.5647058823529412\n",
      "   7 mask = data['PM084'][1][7] (mask  #7 size (256, 256))\n",
      "   8 img  = data['PM084'][0][8] (image #8 size (256, 256)) Pixel value range 0-135\n",
      "   8 img  = data['PM084'][0][8] (image #8 size (256, 256)) Pixel value range 0.0-0.5294117647058824\n",
      "   8 mask = data['PM084'][1][8] (mask  #8 size (256, 256))\n",
      "\n",
      "Pt[k] = 'PM199'\n",
      "   0 img  = data['PM199'][0][0] (image #0 size (256, 256)) Pixel value range 0-190\n",
      "   0 img  = data['PM199'][0][0] (image #0 size (256, 256)) Pixel value range 0.0-0.7450980392156863\n",
      "   0 mask = data['PM199'][1][0] (mask  #0 size (256, 256))\n",
      "   1 img  = data['PM199'][0][1] (image #1 size (256, 256)) Pixel value range 0-199\n",
      "   1 img  = data['PM199'][0][1] (image #1 size (256, 256)) Pixel value range 0.0-0.7803921568627451\n",
      "   1 mask = data['PM199'][1][1] (mask  #1 size (256, 256))\n",
      "   2 img  = data['PM199'][0][2] (image #2 size (256, 256)) Pixel value range 0-271\n",
      "   2 img  = data['PM199'][0][2] (image #2 size (256, 256)) Pixel value range 0.0-1.0627450980392157\n",
      "   2 mask = data['PM199'][1][2] (mask  #2 size (256, 256))\n",
      "   3 img  = data['PM199'][0][3] (image #3 size (256, 256)) Pixel value range 0-198\n",
      "   3 img  = data['PM199'][0][3] (image #3 size (256, 256)) Pixel value range 0.0-0.7764705882352941\n",
      "   3 mask = data['PM199'][1][3] (mask  #3 size (256, 256))\n",
      "   4 img  = data['PM199'][0][4] (image #4 size (256, 256)) Pixel value range 0-179\n",
      "   4 img  = data['PM199'][0][4] (image #4 size (256, 256)) Pixel value range 0.0-0.7019607843137254\n",
      "   4 mask = data['PM199'][1][4] (mask  #4 size (256, 256))\n",
      "   5 img  = data['PM199'][0][5] (image #5 size (256, 256)) Pixel value range 0-163\n",
      "   5 img  = data['PM199'][0][5] (image #5 size (256, 256)) Pixel value range 0.0-0.6392156862745098\n",
      "   5 mask = data['PM199'][1][5] (mask  #5 size (256, 256))\n",
      "   6 img  = data['PM199'][0][6] (image #6 size (256, 256)) Pixel value range 0-170\n",
      "   6 img  = data['PM199'][0][6] (image #6 size (256, 256)) Pixel value range 0.0-0.6666666666666666\n",
      "   6 mask = data['PM199'][1][6] (mask  #6 size (256, 256))\n",
      "\n",
      "Pt[k] = 'PM287'\n",
      "   0 img  = data['PM287'][0][0] (image #0 size (256, 256)) Pixel value range 0-181\n",
      "   0 img  = data['PM287'][0][0] (image #0 size (256, 256)) Pixel value range 0.0-0.7098039215686275\n",
      "   0 mask = data['PM287'][1][0] (mask  #0 size (256, 256))\n",
      "   1 img  = data['PM287'][0][1] (image #1 size (256, 256)) Pixel value range 0-179\n",
      "   1 img  = data['PM287'][0][1] (image #1 size (256, 256)) Pixel value range 0.0-0.7019607843137254\n",
      "   1 mask = data['PM287'][1][1] (mask  #1 size (256, 256))\n",
      "   2 img  = data['PM287'][0][2] (image #2 size (256, 256)) Pixel value range 0-160\n",
      "   2 img  = data['PM287'][0][2] (image #2 size (256, 256)) Pixel value range 0.0-0.6274509803921569\n",
      "   2 mask = data['PM287'][1][2] (mask  #2 size (256, 256))\n",
      "   3 img  = data['PM287'][0][3] (image #3 size (256, 256)) Pixel value range 0-201\n",
      "   3 img  = data['PM287'][0][3] (image #3 size (256, 256)) Pixel value range 0.0-0.788235294117647\n",
      "   3 mask = data['PM287'][1][3] (mask  #3 size (256, 256))\n",
      "   4 img  = data['PM287'][0][4] (image #4 size (256, 256)) Pixel value range 0-183\n",
      "   4 img  = data['PM287'][0][4] (image #4 size (256, 256)) Pixel value range 0.0-0.7176470588235294\n",
      "   4 mask = data['PM287'][1][4] (mask  #4 size (256, 256))\n",
      "   5 img  = data['PM287'][0][5] (image #5 size (256, 256)) Pixel value range 0-199\n",
      "   5 img  = data['PM287'][0][5] (image #5 size (256, 256)) Pixel value range 0.0-0.7803921568627451\n",
      "   5 mask = data['PM287'][1][5] (mask  #5 size (256, 256))\n",
      "   6 img  = data['PM287'][0][6] (image #6 size (256, 256)) Pixel value range 0-187\n",
      "   6 img  = data['PM287'][0][6] (image #6 size (256, 256)) Pixel value range 0.0-0.7333333333333333\n",
      "   6 mask = data['PM287'][1][6] (mask  #6 size (256, 256))\n",
      "   7 img  = data['PM287'][0][7] (image #7 size (256, 256)) Pixel value range 0-193\n",
      "   7 img  = data['PM287'][0][7] (image #7 size (256, 256)) Pixel value range 0.0-0.7568627450980392\n",
      "   7 mask = data['PM287'][1][7] (mask  #7 size (256, 256))\n"
     ]
    }
   ],
   "source": [
    "for k in range(len(Pt)):\n",
    "    print(f\"\\nPt[k] = '{Pt[k]}'\")\n",
    "    for i in range(len(data[Pt[k]][0])):\n",
    "        img = data[Pt[k]][0][i]\n",
    "        mask = data[Pt[k]][1][i]\n",
    "        datan[Pt[k]][0][i] = datan[Pt[k]][0][i]/255\n",
    "        print(f\"   {i} img  = data['{Pt[k]}'][0][{i}] (image #{i} size {img.shape}) Pixel value range {int(np.min(data[Pt[k]][0][i]))}-{int(np.max(data[Pt[k]][0][i]))}\")\n",
    "        print(f\"   {i} img  = data['{Pt[k]}'][0][{i}] (image #{i} size {img.shape}) Pixel value range {(np.min(datan[Pt[k]][0][i]))}-{(np.max(datan[Pt[k]][0][i]))}\")\n",
    "        print(f\"   {i} mask = data['{Pt[k]}'][1][{i}] (mask  #{i} size {mask.shape})\")\n"
   ]
  },
  {
   "cell_type": "code",
   "execution_count": 18,
   "id": "8ecc3205-c845-46c2-b204-a3cd364ecbb6",
   "metadata": {
    "collapsed": false
   },
   "outputs": [],
   "source": []
  },
  {
   "cell_type": "markdown",
   "id": "6839f74b-5605-4b85-931c-7684aee94aed",
   "metadata": {
    "collapsed": false
   },
   "source": [
    "2. THE TRAINED MODELS"
   ]
  },
  {
   "cell_type": "code",
   "execution_count": 22,
   "id": "57d21dc7-3074-4c34-88d7-41ceaccc3a10",
   "metadata": {
    "collapsed": false
   },
   "outputs": [
    {
     "name": "stdout",
     "output_type": "stream",
     "text": [
      "res_mod = best_model_residual.h5\n",
      "mul_mod = best_model_multires.h5\n"
     ]
    }
   ],
   "source": [
    "MODELS = [f for f in os.listdir() if '.h' in f]\n",
    "res_mod = [f for f in os.listdir() if 'residual.h' in f][0]\n",
    "mul_mod = [f for f in os.listdir() if 'multires.h' in f][0]\n",
    "print(f'res_mod = {res_mod}')\n",
    "print(f'mul_mod = {mul_mod}')\n"
   ]
  },
  {
   "cell_type": "markdown",
   "id": "a4bcb08d-31d5-4966-8006-7e9f749c0e73",
   "metadata": {
    "collapsed": false
   },
   "source": [
    "3. RUNNING THE MODEL"
   ]
  },
  {
   "cell_type": "code",
   "execution_count": 23,
   "id": "668d3715-6ba1-40a5-a121-29904fbebf3f",
   "metadata": {
    "collapsed": false
   },
   "outputs": [
    {
     "name": "stdout",
     "output_type": "stream",
     "text": [
      "Predicting with test on PM123\n"
     ]
    },
    {
     "name": "stdout",
     "output_type": "stream",
     "text": [
      "Predicting with test on PM240\n"
     ]
    },
    {
     "name": "stdout",
     "output_type": "stream",
     "text": [
      "Predicting with test on PM271\n"
     ]
    },
    {
     "name": "stdout",
     "output_type": "stream",
     "text": [
      "Predicting with test on PM346\n"
     ]
    },
    {
     "name": "stdout",
     "output_type": "stream",
     "text": [
      "Predicting with test on PM295\n"
     ]
    },
    {
     "name": "stdout",
     "output_type": "stream",
     "text": [
      "Predicting with test on PM136\n"
     ]
    },
    {
     "name": "stdout",
     "output_type": "stream",
     "text": [
      "Predicting with test on PM321\n"
     ]
    },
    {
     "name": "stdout",
     "output_type": "stream",
     "text": [
      "Predicting with test on PM188\n"
     ]
    },
    {
     "name": "stdout",
     "output_type": "stream",
     "text": [
      "Predicting with test on PM325\n"
     ]
    },
    {
     "name": "stdout",
     "output_type": "stream",
     "text": [
      "Predicting with test on PM105\n"
     ]
    },
    {
     "name": "stdout",
     "output_type": "stream",
     "text": [
      "Predicting with test on PM068\n"
     ]
    },
    {
     "name": "stdout",
     "output_type": "stream",
     "text": [
      "Predicting with test on PM014\n"
     ]
    },
    {
     "name": "stdout",
     "output_type": "stream",
     "text": [
      "Predicting with test on PM072\n"
     ]
    },
    {
     "name": "stdout",
     "output_type": "stream",
     "text": [
      "Predicting with test on PM304\n"
     ]
    },
    {
     "name": "stdout",
     "output_type": "stream",
     "text": [
      "Predicting with test on PM064\n"
     ]
    },
    {
     "name": "stdout",
     "output_type": "stream",
     "text": [
      "Predicting with test on PM330\n"
     ]
    },
    {
     "name": "stdout",
     "output_type": "stream",
     "text": [
      "Predicting with test on PM176\n"
     ]
    },
    {
     "name": "stdout",
     "output_type": "stream",
     "text": [
      "Predicting with test on PM110\n"
     ]
    },
    {
     "name": "stdout",
     "output_type": "stream",
     "text": [
      "Predicting with test on PM149\n"
     ]
    },
    {
     "name": "stdout",
     "output_type": "stream",
     "text": [
      "Predicting with test on PM255\n"
     ]
    },
    {
     "name": "stdout",
     "output_type": "stream",
     "text": [
      "Predicting with test on PM209\n"
     ]
    },
    {
     "name": "stdout",
     "output_type": "stream",
     "text": [
      "Predicting with test on PM267\n"
     ]
    },
    {
     "name": "stdout",
     "output_type": "stream",
     "text": [
      "Predicting with test on PM074\n"
     ]
    },
    {
     "name": "stdout",
     "output_type": "stream",
     "text": [
      "Predicting with test on PM099\n"
     ]
    },
    {
     "name": "stdout",
     "output_type": "stream",
     "text": [
      "Predicting with test on PM340\n"
     ]
    },
    {
     "name": "stdout",
     "output_type": "stream",
     "text": [
      "Predicting with test on PM324\n"
     ]
    },
    {
     "name": "stdout",
     "output_type": "stream",
     "text": [
      "Predicting with test on PM139\n"
     ]
    },
    {
     "name": "stdout",
     "output_type": "stream",
     "text": [
      "Predicting with test on PM298\n"
     ]
    },
    {
     "name": "stdout",
     "output_type": "stream",
     "text": [
      "Predicting with test on PM277\n"
     ]
    },
    {
     "name": "stdout",
     "output_type": "stream",
     "text": [
      "Predicting with test on PM310\n"
     ]
    },
    {
     "name": "stdout",
     "output_type": "stream",
     "text": [
      "Predicting with test on PM038\n"
     ]
    },
    {
     "name": "stdout",
     "output_type": "stream",
     "text": [
      "Predicting with test on PM317\n"
     ]
    },
    {
     "name": "stdout",
     "output_type": "stream",
     "text": [
      "Predicting with test on PM131\n"
     ]
    },
    {
     "name": "stdout",
     "output_type": "stream",
     "text": [
      "Predicting with test on PM269\n"
     ]
    },
    {
     "name": "stdout",
     "output_type": "stream",
     "text": [
      "Predicting with test on PM039\n"
     ]
    },
    {
     "name": "stdout",
     "output_type": "stream",
     "text": [
      "Predicting with test on PM132\n"
     ]
    },
    {
     "name": "stdout",
     "output_type": "stream",
     "text": [
      "Predicting with test on PM080\n"
     ]
    },
    {
     "name": "stdout",
     "output_type": "stream",
     "text": [
      "Predicting with test on PM067\n"
     ]
    },
    {
     "name": "stdout",
     "output_type": "stream",
     "text": [
      "Predicting with test on PM273\n"
     ]
    },
    {
     "name": "stdout",
     "output_type": "stream",
     "text": [
      "Predicting with test on PM069\n"
     ]
    },
    {
     "name": "stdout",
     "output_type": "stream",
     "text": [
      "Predicting with test on PM023\n"
     ]
    },
    {
     "name": "stdout",
     "output_type": "stream",
     "text": [
      "Predicting with test on PM061\n"
     ]
    },
    {
     "name": "stdout",
     "output_type": "stream",
     "text": [
      "Predicting with test on PM009\n"
     ]
    },
    {
     "name": "stdout",
     "output_type": "stream",
     "text": [
      "Predicting with test on PM322\n"
     ]
    },
    {
     "name": "stdout",
     "output_type": "stream",
     "text": [
      "Predicting with test on PM160\n"
     ]
    },
    {
     "name": "stdout",
     "output_type": "stream",
     "text": [
      "Predicting with test on PM319\n"
     ]
    },
    {
     "name": "stdout",
     "output_type": "stream",
     "text": [
      "Predicting with test on PM090\n"
     ]
    },
    {
     "name": "stdout",
     "output_type": "stream",
     "text": [
      "Predicting with test on PM152\n"
     ]
    },
    {
     "name": "stdout",
     "output_type": "stream",
     "text": [
      "Predicting with test on PM060\n"
     ]
    },
    {
     "name": "stdout",
     "output_type": "stream",
     "text": [
      "Predicting with test on PM036\n"
     ]
    },
    {
     "name": "stdout",
     "output_type": "stream",
     "text": [
      "Predicting with test on PM191\n"
     ]
    },
    {
     "name": "stdout",
     "output_type": "stream",
     "text": [
      "Predicting with test on PM259\n"
     ]
    },
    {
     "name": "stdout",
     "output_type": "stream",
     "text": [
      "Predicting with test on PM182\n"
     ]
    },
    {
     "name": "stdout",
     "output_type": "stream",
     "text": [
      "Predicting with test on PM171\n"
     ]
    },
    {
     "name": "stdout",
     "output_type": "stream",
     "text": [
      "Predicting with test on PM113\n"
     ]
    },
    {
     "name": "stdout",
     "output_type": "stream",
     "text": [
      "Predicting with test on PM084\n"
     ]
    },
    {
     "name": "stdout",
     "output_type": "stream",
     "text": [
      "Predicting with test on PM199\n"
     ]
    },
    {
     "name": "stdout",
     "output_type": "stream",
     "text": [
      "Predicting with test on PM287\n"
     ]
    }
   ],
   "source": [
    "mte.pred_patient_set(res_mod, datan, 'test',  'c:/EKG/segm')"
   ]
  },
  {
   "cell_type": "code",
   "execution_count": null,
   "id": "4bd63857-5914-47da-93f5-1a534a15cb63",
   "metadata": {
    "collapsed": false
   },
   "outputs": [],
   "source": []
  }
 ],
 "metadata": {
  "kernelspec": {
   "argv": [
    "C:\\.venv\\myosegm\\Scripts\\python.exe",
    "-m",
    "ipykernel_launcher",
    "-f",
    "{connection_file}"
   ],
   "display_name": "Python (myosegm)",
   "env": null,
   "interrupt_mode": "signal",
   "language": "python",
   "metadata": {
    "debugger": true
   },
   "name": "myosegm"
  },
  "name": "myosegm.ipynb"
 },
 "nbformat": 4,
 "nbformat_minor": 5
}
